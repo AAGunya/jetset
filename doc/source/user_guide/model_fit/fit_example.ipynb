{
 "cells": [
  {
   "cell_type": "raw",
   "metadata": {},
   "source": [
    ".. toctree::\n"
   ]
  },
  {
   "cell_type": "code",
   "execution_count": 1,
   "metadata": {},
   "outputs": [],
   "source": [
    "import warnings\n",
    "warnings.filterwarnings('ignore')\n",
    "\n",
    "import matplotlib.pylab as plt\n",
    "%matplotlib inline"
   ]
  },
  {
   "cell_type": "markdown",
   "metadata": {},
   "source": [
    "Fit User guide\n",
    "=====================\n",
    "\n",
    "\n"
   ]
  },
  {
   "cell_type": "markdown",
   "metadata": {},
   "source": [
    "data format\n",
    "-------------------------\n",
    "\n",
    "The SED data can be stored in ASCII file in a  quite flexible way, but some requirements are needed:\n",
    "\n",
    " - you must provide at least two columns for frequencies and fluxes\n",
    " - frequencies are in *Hz*\n",
    " - fluxes are in  *cgs*, .....\n",
    "\n",
    "The header of the file can contain some meta-data that are sourced when the data are loaded.\n",
    "The meta-data available are :\n",
    "\n",
    " - z : redhsift\n",
    " - resframe: restframe of the data `src` or `obs` \n",
    " - data_scale: scale of the data `lin-lin` or `log-log`\n",
    " - dataType: structure of the comumns with the SED data\n",
    "\n",
    "\n"
   ]
  },
  {
   "cell_type": "raw",
   "metadata": {},
   "source": [
    "the meaning of these meta-data is explained in detail in :class:`jetset.data_loader.ObsData` class \n",
    "documentation. The meta-data can be included in the header with  line like:\n"
   ]
  },
  {
   "cell_type": "code",
   "execution_count": 3,
   "metadata": {},
   "outputs": [],
   "source": [
    "# metadata\n",
    "# md z  0.0308\n",
    "# md restframe  obs\n",
    "# md data_scale  lin-lin\n",
    "# md col_types x,y,dy,data_set\n",
    "# md obj_name     J1104+3812,Mrk421\n",
    "#"
   ]
  },
  {
   "cell_type": "markdown",
   "metadata": {},
   "source": [
    "A typical structure of SED data file, including meta-data declaration  is the following:\n"
   ]
  },
  {
   "cell_type": "markdown",
   "metadata": {},
   "source": [
    "```\n",
    "# metadata\n",
    "# md z  0.0308\n",
    "# md restframe  obs\n",
    "# md data_scale  lin-lin\n",
    "# md col_types x,y,dy,data_set\n",
    "# md obj_name     J1104+3812,Mrk421\n",
    "#\n",
    "# Frequency [Hz]  EnergyFlux [erg/cm2/s]\n",
    "#  Xval\t    \t  Yval\t     YvalError    data_set-flag\n",
    "2.299540e+09 1.340900e-14 3.910000e-16    campaing-2009\n",
    "2.639697e+09 1.793088e-14 3.231099e-26    campaing-2009\n",
    "4.799040e+09 2.313600e-14 2.400000e-16    campaing-2009\n",
    "4.805039e+09 1.773414e-14 1.773414e-15    campaing-2009\n",
    "4.843552e+09 2.776140e-14 2.615339e-26    campaing-2009\n",
    "7.698460e+09 3.696000e-14 4.620000e-16    campaing-2009\n",
    "8.267346e+09 2.836267e-14 2.836267e-15    campaing-2009\n",
    "8.331867e+09 3.989630e-14 3.627671e-26    campaing-2009\n",
    "8.388659e+09 3.163450e-14 1.931495e-15    campaing-2009\n",
    "8.399994e+09 4.000500e-14 5.041094e-15    campaing-2009\n",
    "1.044892e+10 4.626737e-14 3.297726e-26    campaing-2009\n",
    "1.109778e+10 4.617600e-14 6.660000e-16    campaing-2009\n",
    "1.456571e+10 5.628417e-14 4.453463e-26    campaing-2009\n",
    "```\n"
   ]
  },
  {
   "cell_type": "markdown",
   "metadata": {},
   "source": [
    "Loading SEDs\n",
    "-------------"
   ]
  },
  {
   "cell_type": "raw",
   "metadata": {},
   "source": [
    "\n",
    "The most effective way to import the SED data is to create an object \n",
    "instance of :class:`jetset.data_loader.ObsData` class \n",
    "(see the documentation for the :doc:`data_loader <../../modules_doc/data_loader>` module)\n",
    "The package provides some test SEDs, accessible as follows:"
   ]
  },
  {
   "cell_type": "code",
   "execution_count": 4,
   "metadata": {},
   "outputs": [
    {
     "data": {
      "text/plain": [
       "['/Users/orion/anaconda2/envs/py36/lib/python3.6/site-packages/jetset-1.2.0-py3.6-macosx-10.7-x86_64.egg/jetset/test_data/SEDs_data/SED_3C345.dat',\n",
       " '/Users/orion/anaconda2/envs/py36/lib/python3.6/site-packages/jetset-1.2.0-py3.6-macosx-10.7-x86_64.egg/jetset/test_data/SEDs_data/SED_MW_Mrk421.dat',\n",
       " '/Users/orion/anaconda2/envs/py36/lib/python3.6/site-packages/jetset-1.2.0-py3.6-macosx-10.7-x86_64.egg/jetset/test_data/SEDs_data/SED_MW_Mrk501.dat']"
      ]
     },
     "execution_count": 4,
     "metadata": {},
     "output_type": "execute_result"
    }
   ],
   "source": [
    "from jetset.test_data_helper import  test_SEDs\n",
    "test_SEDs"
   ]
  },
  {
   "cell_type": "markdown",
   "metadata": {},
   "source": [
    "to load the SED of  Mrk 421, the first one in the list:"
   ]
  },
  {
   "cell_type": "code",
   "execution_count": 5,
   "metadata": {},
   "outputs": [
    {
     "name": "stdout",
     "output_type": "stream",
     "text": [
      "=============================================================================================\n",
      "\n",
      "*** getting meta-data from file header\n",
      "col_types None\n",
      "set md z  to 0.0308\n",
      "set md restframe  to obs\n",
      "set md data_scale  to lin-lin\n",
      "set md col_types  to x,y,dy,data_set\n",
      "set md obj_name  to J1104+3812,Mrk421\n",
      "ciccio x,y,dy,data_set\n",
      "col_types x,y,dy,data_set\n",
      "=============================================================================================\n",
      "\n",
      "col_types c x,y,dy,data_set\n",
      "=============================================================================================\n",
      "\n",
      "*** loading data ***\n",
      "---> loading data for file=/Users/orion/anaconda2/envs/py36/lib/python3.6/site-packages/jetset-1.2.0-py3.6-macosx-10.7-x86_64.egg/jetset/test_data/SEDs_data/SED_MW_Mrk421.dat\n",
      "---> found these col ID=range(0, 4) and names=['x', 'y', 'dy', 'data_set']:\n",
      "---> z=3.080000e-02\n",
      "---> restframe=obs\n",
      "---> obj_name=J1104+3812,Mrk421 \n",
      "---> data_scale=lin-lin \n",
      "col_types ['x', 'y', 'dy', 'data_set']\n",
      "['x', 'y', 'dy', 'data_set'] range(0, 4)\n",
      "nu_data x\n",
      "nuFnu_data y\n",
      "dnuFnu_data dy\n",
      "data_set data_set\n",
      "---> data len=112\n",
      "---> replacing zero error with relative error  0.2\n",
      "---> final data len 112\n",
      "=============================================================================================\n",
      "\n"
     ]
    }
   ],
   "source": [
    "mySED=test_SEDs[1]\n",
    "from jetset.data_loader import ObsData\n",
    "sed_data=ObsData(data_file=mySED)"
   ]
  },
  {
   "cell_type": "markdown",
   "metadata": {},
   "source": [
    "As you can see the all the meta-data have been properly sourced from the SED file header. You also get information on \n",
    "the lenght of the data, before and after elimination of duplicated entries, and upper limits\n",
    "These meta-data are parameters needed by the "
   ]
  },
  {
   "cell_type": "raw",
   "metadata": {},
   "source": [
    ":class:`jetset.data_loader.ObsData` constructor. "
   ]
  },
  {
   "cell_type": "markdown",
   "metadata": {},
   "source": [
    "Plotting data\n",
    "-----------------"
   ]
  },
  {
   "cell_type": "raw",
   "metadata": {},
   "source": [
    "We can now plot our SED using the :class:`BlazarSEDFit.plot_sedfit.Plot` class \n",
    "(see the documentation for the :doc:`plot_sedfit <../../modules_doc/plot_sedfit>` module)"
   ]
  },
  {
   "cell_type": "code",
   "execution_count": 6,
   "metadata": {},
   "outputs": [
    {
     "name": "stdout",
     "output_type": "stream",
     "text": [
      "[8.480601691316195, 27.863465787911494] [0. 0.]\n"
     ]
    },
    {
     "data": {
      "image/png": "[encoded data removed]",
      "text/plain": [
       "<matplotlib.figure.Figure at 0x10c197208>"
      ]
     },
     "metadata": {},
     "output_type": "display_data"
    }
   ],
   "source": [
    "from jetset.plot_sedfit import Plot\n",
    "myPlot=Plot(sed_data)\n",
    "myPlot.show()"
   ]
  },
  {
   "cell_type": "markdown",
   "metadata": {},
   "source": [
    "grouping data\n",
    "-----------------------------------\n",
    "As you can see, due to the overlapping of different instruments and to different time snapshots, \n",
    "some points have multiple values. Although this is not a problem for the fit process, you might \n",
    "want to rebin your data. This can be obtained with the following command:"
   ]
  },
  {
   "cell_type": "code",
   "execution_count": 7,
   "metadata": {},
   "outputs": [
    {
     "name": "stdout",
     "output_type": "stream",
     "text": [
      "=============================================================================================\n",
      "\n",
      "***  binning data  ***\n",
      "---> N bins= 89\n",
      "---> bin_widht= 0.2\n",
      "=============================================================================================\n",
      "\n"
     ]
    }
   ],
   "source": [
    "sed_data.group_data(bin_width=0.2)"
   ]
  },
  {
   "cell_type": "markdown",
   "metadata": {},
   "source": [
    "\n",
    "handling errors and systematics\n",
    "-----------------------------------\n",
    "Another important issues when dealing with fitting of data, is the proper handling of errors.\n",
    "Typically one might need to add systematics for different reasons:\n",
    " \n",
    " - data are not really simultaneous, and you want to add systematics to take this into account\n",
    " - data (typically IR up to UV), might have very small errors compared to those at higher energies.\n",
    "   This might bias the minimizer to accomodate the parameters  in order to fit 'better' the low\n",
    "   frequencies branch.\n",
    "  \n",
    "For these reasons the package offer the possibility to add systematics \n",
    "  \n",
    "  "
   ]
  },
  {
   "cell_type": "code",
   "execution_count": 8,
   "metadata": {},
   "outputs": [
    {
     "name": "stdout",
     "output_type": "stream",
     "text": [
      "[8.381888978511379, 27.97292829804506] [0. 0.]\n"
     ]
    },
    {
     "data": {
      "image/png": "[encoded data removed]",
      "text/plain": [
       "<matplotlib.figure.Figure at 0x1516717f28>"
      ]
     },
     "metadata": {},
     "output_type": "display_data"
    }
   ],
   "source": [
    "sed_data.add_systematics(0.2,[10.**6,10.**29])\n",
    "myPlot=Plot(sed_data)\n",
    "myPlot.show()"
   ]
  },
  {
   "cell_type": "raw",
   "metadata": {},
   "source": [
    "with this command we add 20% systematics for data between :math:`10^{6}<\\nu<10^{29}` Hz"
   ]
  },
  {
   "cell_type": "markdown",
   "metadata": {},
   "source": [
    "SEDShape: Spectral indices\n",
    "-------------------------"
   ]
  },
  {
   "cell_type": "code",
   "execution_count": 12,
   "metadata": {
    "scrolled": false
   },
   "outputs": [
    {
     "name": "stdout",
     "output_type": "stream",
     "text": [
      "=============================================================================================\n",
      "\n",
      "*** evaluating spectral indices for data ***\n",
      "---> initial range for index radio  set to [6.000000,10.000000]\n",
      "---> range for index radio updated  to [6.000000,10.000000]\n",
      "\r",
      "---> name = radio            range=[6.000 ,10.000] log(Hz)  photon.val=-1.402754e+00, err=1.250721e-01 \n",
      "\n",
      "---> initial range for index radio_mm  set to [10.000000,11.000000]\n",
      "---> range for index radio_mm updated  to [10.000000,11.000000]\n",
      "\r",
      "---> name = radio_mm         range=[10.000,11.000] log(Hz)  photon.val=-1.290348e+00, err=3.549105e-02 \n",
      "\n",
      "---> initial range for index mm_IR  set to [11.000000,13.000000]\n",
      "---> range for index mm_IR updated  to [10.300000,13.700000]\n",
      "\r",
      "---> name = mm_IR            range=[10.300,13.700] log(Hz)  photon.val=-1.109667e+00, err=5.233777e-02 \n",
      "\n",
      "---> initial range for index IR_Opt  set to [13.000000,14.000000]\n",
      "---> range for index IR_Opt updated  to [12.500000,14.500000]\n",
      "\r",
      "---> name = IR_Opt           range=[12.500,14.500] log(Hz)  photon.val=-1.778730e+00, err=8.336743e-02 \n",
      "\n",
      "---> initial range for index Opt_UV  set to [14.000000,16.000000]\n",
      "---> range for index Opt_UV updated  to [14.000000,16.000000]\n",
      "\r",
      "---> name = Opt_UV           range=[14.000,16.000] log(Hz)  photon.val=-1.621180e+00, err=4.761704e-02 \n",
      "\n",
      "---> initial range for index BBB  set to [15.000000,16.000000]\n",
      "---> range for index BBB updated  to [14.800000,16.200000]\n",
      "\r",
      "---> name = BBB              range=[14.800,16.200] log(Hz)  photon.val=-1.273282e+00, err=1.558347e-01 \n",
      "\n",
      "---> initial range for index UV_X  set to [15.000000,17.500000]\n",
      "---> range for index UV_X updated  to [15.000000,17.500000]\n",
      "\r",
      "---> name = UV_X             range=[15.000,17.500] log(Hz)  photon.val=-1.845844e+00, err=1.974302e-02 \n",
      "\n",
      "---> initial range for index X  set to [16.000000,19.000000]\n",
      "---> range for index X updated  to [16.000000,19.000000]\n",
      "\r",
      "---> name = X                range=[16.000,19.000] log(Hz)  photon.val=-2.458173e+00, err=7.557519e-02 \n",
      "\n",
      "---> initial range for index Fermi  set to [22.380000,25.380000]\n",
      "---> range for index Fermi updated  to [22.380000,25.380000]\n",
      "\r",
      "---> name = Fermi            range=[22.380,25.380] log(Hz)  photon.val=-1.795555e+00, err=1.996362e-02 \n",
      "\n",
      "---> initial range for index TeV  set to [25.000000,28.380000]\n",
      "---> range for index TeV updated  to [25.000000,28.380000]\n",
      "\r",
      "---> name = TeV              range=[25.000,28.380] log(Hz)  photon.val=-2.480131e+00, err=7.425494e-02 \n",
      "\n",
      "=============================================================================================\n",
      "\n"
     ]
    }
   ],
   "source": [
    "from jetset.sed_shaper import  SEDShape\n",
    "my_shape=SEDShape(sed_data)\n",
    "my_shape.eval_indices(minimizer='lsb',silent=True)"
   ]
  },
  {
   "cell_type": "code",
   "execution_count": 11,
   "metadata": {},
   "outputs": [
    {
     "name": "stdout",
     "output_type": "stream",
     "text": [
      "[8.381888978511379, 27.97292829804506] [0. 0.]\n"
     ]
    },
    {
     "data": {
      "image/png": "[encoded data removed]",
      "text/plain": [
       "<matplotlib.figure.Figure at 0x1a17476208>"
      ]
     },
     "metadata": {},
     "output_type": "display_data"
    }
   ],
   "source": [
    "p=my_shape.plot_indices()\n"
   ]
  },
  {
   "cell_type": "markdown",
   "metadata": {},
   "source": [
    "SEDShape: Log-Log Polynomila fit\n",
    "-------------------------------"
   ]
  },
  {
   "cell_type": "code",
   "execution_count": 13,
   "metadata": {},
   "outputs": [
    {
     "name": "stdout",
     "output_type": "stream",
     "text": [
      "=============================================================================================\n",
      "\n",
      "*** Log-Polynomial fitting of the synchrotron component ***\n",
      "---> first blind fit run,  fit range: [10, 19]\n"
     ]
    },
    {
     "data": {
      "text/html": [
       "<hr>"
      ]
     },
     "metadata": {},
     "output_type": "display_data"
    },
    {
     "data": {
      "text/html": [
       "<table>\n",
       "    <tr>\n",
       "        <td title=\"Minimum value of function\">FCN = 13.284604107167203</td>\n",
       "        <td title=\"Total number of call to FCN so far\">TOTAL NCALL = 398</td>\n",
       "        <td title=\"Number of call in last migrad\">NCALLS = 398</td>\n",
       "    </tr>\n",
       "    <tr>\n",
       "        <td title=\"Estimated distance to minimum\">EDM = 2.1272537435733377e-05</td>\n",
       "        <td title=\"Maximum EDM definition of convergence\">GOAL EDM = 1e-05</td>\n",
       "        <td title=\"Error def. Amount of increase in FCN to be defined as 1 standard deviation\">\n",
       "        UP = 1.0</td>\n",
       "    </tr>\n",
       "</table>\n",
       "<table>\n",
       "    <tr>\n",
       "        <td align=\"center\" title=\"Validity of the migrad call\">Valid</td>\n",
       "        <td align=\"center\" title=\"Validity of parameters\">Valid Param</td>\n",
       "        <td align=\"center\" title=\"Is Covariance matrix accurate?\">Accurate Covar</td>\n",
       "        <td align=\"center\" title=\"Positive definiteness of covariance matrix\">PosDef</td>\n",
       "        <td align=\"center\" title=\"Was covariance matrix made posdef by adding diagonal element\">Made PosDef</td>\n",
       "    </tr>\n",
       "    <tr>\n",
       "        <td align=\"center\" style=\"background-color:#92CCA6\">True</td>\n",
       "        <td align=\"center\" style=\"background-color:#92CCA6\">True</td>\n",
       "        <td align=\"center\" style=\"background-color:#92CCA6\">True</td>\n",
       "        <td align=\"center\" style=\"background-color:#92CCA6\">True</td>\n",
       "        <td align=\"center\" style=\"background-color:#92CCA6\">False</td>\n",
       "    </tr>\n",
       "    <tr>\n",
       "        <td align=\"center\" title=\"Was last hesse call fail?\">Hesse Fail</td>\n",
       "        <td align=\"center\" title=\"Validity of covariance\">HasCov</td>\n",
       "        <td align=\"center\" title=\"Is EDM above goal EDM?\">Above EDM</td>\n",
       "        <td align=\"center\"></td>\n",
       "        <td align=\"center\" title=\"Did last migrad call reach max call limit?\">Reach calllim</td>\n",
       "    </tr>\n",
       "    <tr>\n",
       "        <td align=\"center\" style=\"background-color:#92CCA6\">False</td>\n",
       "        <td align=\"center\" style=\"background-color:#92CCA6\">True</td>\n",
       "        <td align=\"center\" style=\"background-color:#92CCA6\">False</td>\n",
       "        <td align=\"center\"></td>\n",
       "        <td align=\"center\" style=\"background-color:#92CCA6\">False</td>\n",
       "    </tr>\n",
       "</table>"
      ]
     },
     "metadata": {},
     "output_type": "display_data"
    },
    {
     "data": {
      "text/html": [
       "<table>\n",
       "    <tr>\n",
       "        <td><a href=\"#\" onclick=\"$('#niRsulgZEJ').toggle()\">+</a></td>\n",
       "        <td title=\"Variable name\">Name</td>\n",
       "        <td title=\"Value of parameter\">Value</td>\n",
       "        <td title=\"Hesse error\">Hesse Error</td>\n",
       "        <td title=\"Minos lower error\">Minos Error-</td>\n",
       "        <td title=\"Minos upper error\">Minos Error+</td>\n",
       "        <td title=\"Lower limit of the parameter\">Limit-</td>\n",
       "        <td title=\"Upper limit of the parameter\">Limit+</td>\n",
       "        <td title=\"Is the parameter fixed in the fit\">Fixed?</td>\n",
       "    </tr>\n",
       "    <tr>\n",
       "        <td>0</td>\n",
       "        <td>par_0</td>\n",
       "        <td>-0.161658</td>\n",
       "        <td>0.012275</td>\n",
       "        <td></td>\n",
       "        <td></td>\n",
       "        <td>-10</td>\n",
       "        <td>0</td>\n",
       "        <td>No</td>\n",
       "    </tr>\n",
       "    <tr>\n",
       "        <td>1</td>\n",
       "        <td>par_1</td>\n",
       "        <td>-0.0112831</td>\n",
       "        <td>0.00187672</td>\n",
       "        <td></td>\n",
       "        <td></td>\n",
       "        <td>-10</td>\n",
       "        <td>10</td>\n",
       "        <td>No</td>\n",
       "    </tr>\n",
       "    <tr>\n",
       "        <td>2</td>\n",
       "        <td>par_2</td>\n",
       "        <td>16.6994</td>\n",
       "        <td>0.0494283</td>\n",
       "        <td></td>\n",
       "        <td></td>\n",
       "        <td>0</td>\n",
       "        <td>30</td>\n",
       "        <td>No</td>\n",
       "    </tr>\n",
       "    <tr>\n",
       "        <td>3</td>\n",
       "        <td>par_3</td>\n",
       "        <td>-9.48058</td>\n",
       "        <td>0.036992</td>\n",
       "        <td></td>\n",
       "        <td></td>\n",
       "        <td>-30</td>\n",
       "        <td>0</td>\n",
       "        <td>No</td>\n",
       "    </tr>\n",
       "</table>\n",
       "<pre id=\"niRsulgZEJ\" style=\"display:none;\">\n",
       "<textarea rows=\"14\" cols=\"50\" onclick=\"this.select()\" readonly>\n",
       "\\begin{tabular}{|c|r|r|r|r|r|r|r|c|}\n",
       "\\hline\n",
       " & Name & Value & Hesse Error & Minos Error- & Minos Error+ & Limit- & Limit+ & Fixed?\\\\\n",
       "\\hline\n",
       "0 & $par_{0}$ & -0.161658 & 0.012275 &  &  & -10.0 & 0 & No\\\\\n",
       "\\hline\n",
       "1 & $par_{1}$ & -0.0112831 & 0.00187672 &  &  & -10.0 & 10 & No\\\\\n",
       "\\hline\n",
       "2 & $par_{2}$ & 16.6994 & 0.0494283 &  &  & 0.0 & 30 & No\\\\\n",
       "\\hline\n",
       "3 & $par_{3}$ & -9.48058 & 0.036992 &  &  & -30.0 & 0 & No\\\\\n",
       "\\hline\n",
       "\\end{tabular}\n",
       "</textarea>\n",
       "</pre>"
      ]
     },
     "metadata": {},
     "output_type": "display_data"
    },
    {
     "data": {
      "text/html": [
       "<hr>"
      ]
     },
     "metadata": {},
     "output_type": "display_data"
    },
    {
     "name": "stdout",
     "output_type": "stream",
     "text": [
      "\r",
      "| minim function calls=400, chisq=13.284604 UL part=-0.000000\r",
      "---> class:  HSP\n",
      "\n"
     ]
    },
    {
     "data": {
      "text/html": [
       "<hr>"
      ]
     },
     "metadata": {},
     "output_type": "display_data"
    },
    {
     "data": {
      "text/html": [
       "<table>\n",
       "    <tr>\n",
       "        <td title=\"Minimum value of function\">FCN = 13.064442640655018</td>\n",
       "        <td title=\"Total number of call to FCN so far\">TOTAL NCALL = 665</td>\n",
       "        <td title=\"Number of call in last migrad\">NCALLS = 657</td>\n",
       "    </tr>\n",
       "    <tr>\n",
       "        <td title=\"Estimated distance to minimum\">EDM = 4.928899697652773</td>\n",
       "        <td title=\"Maximum EDM definition of convergence\">GOAL EDM = 1e-05</td>\n",
       "        <td title=\"Error def. Amount of increase in FCN to be defined as 1 standard deviation\">\n",
       "        UP = 1.0</td>\n",
       "    </tr>\n",
       "</table>\n",
       "<table>\n",
       "    <tr>\n",
       "        <td align=\"center\" title=\"Validity of the migrad call\">Valid</td>\n",
       "        <td align=\"center\" title=\"Validity of parameters\">Valid Param</td>\n",
       "        <td align=\"center\" title=\"Is Covariance matrix accurate?\">Accurate Covar</td>\n",
       "        <td align=\"center\" title=\"Positive definiteness of covariance matrix\">PosDef</td>\n",
       "        <td align=\"center\" title=\"Was covariance matrix made posdef by adding diagonal element\">Made PosDef</td>\n",
       "    </tr>\n",
       "    <tr>\n",
       "        <td align=\"center\" style=\"background-color:#FF7878\">False</td>\n",
       "        <td align=\"center\" style=\"background-color:#92CCA6\">True</td>\n",
       "        <td align=\"center\" style=\"background-color:#FF7878\">False</td>\n",
       "        <td align=\"center\" style=\"background-color:#92CCA6\">True</td>\n",
       "        <td align=\"center\" style=\"background-color:#92CCA6\">False</td>\n",
       "    </tr>\n",
       "    <tr>\n",
       "        <td align=\"center\" title=\"Was last hesse call fail?\">Hesse Fail</td>\n",
       "        <td align=\"center\" title=\"Validity of covariance\">HasCov</td>\n",
       "        <td align=\"center\" title=\"Is EDM above goal EDM?\">Above EDM</td>\n",
       "        <td align=\"center\"></td>\n",
       "        <td align=\"center\" title=\"Did last migrad call reach max call limit?\">Reach calllim</td>\n",
       "    </tr>\n",
       "    <tr>\n",
       "        <td align=\"center\" style=\"background-color:#92CCA6\">False</td>\n",
       "        <td align=\"center\" style=\"background-color:#92CCA6\">True</td>\n",
       "        <td align=\"center\" style=\"background-color:#FF7878\">True</td>\n",
       "        <td align=\"center\"></td>\n",
       "        <td align=\"center\" style=\"background-color:#92CCA6\">False</td>\n",
       "    </tr>\n",
       "</table>"
      ]
     },
     "metadata": {},
     "output_type": "display_data"
    },
    {
     "data": {
      "text/html": [
       "<table>\n",
       "    <tr>\n",
       "        <td><a href=\"#\" onclick=\"$('#JZCEWeAcWy').toggle()\">+</a></td>\n",
       "        <td title=\"Variable name\">Name</td>\n",
       "        <td title=\"Value of parameter\">Value</td>\n",
       "        <td title=\"Hesse error\">Hesse Error</td>\n",
       "        <td title=\"Minos lower error\">Minos Error-</td>\n",
       "        <td title=\"Minos upper error\">Minos Error+</td>\n",
       "        <td title=\"Lower limit of the parameter\">Limit-</td>\n",
       "        <td title=\"Upper limit of the parameter\">Limit+</td>\n",
       "        <td title=\"Is the parameter fixed in the fit\">Fixed?</td>\n",
       "    </tr>\n",
       "    <tr>\n",
       "        <td>0</td>\n",
       "        <td>par_0</td>\n",
       "        <td>-0.163463</td>\n",
       "        <td>0.0127406</td>\n",
       "        <td></td>\n",
       "        <td></td>\n",
       "        <td>-10</td>\n",
       "        <td>0</td>\n",
       "        <td>No</td>\n",
       "    </tr>\n",
       "    <tr>\n",
       "        <td>1</td>\n",
       "        <td>par_1</td>\n",
       "        <td>-0.0116222</td>\n",
       "        <td>0.00197459</td>\n",
       "        <td></td>\n",
       "        <td></td>\n",
       "        <td>-10</td>\n",
       "        <td>10</td>\n",
       "        <td>No</td>\n",
       "    </tr>\n",
       "    <tr>\n",
       "        <td>2</td>\n",
       "        <td>par_2</td>\n",
       "        <td>16.7139</td>\n",
       "        <td>0.0561725</td>\n",
       "        <td></td>\n",
       "        <td></td>\n",
       "        <td>0</td>\n",
       "        <td>30</td>\n",
       "        <td>No</td>\n",
       "    </tr>\n",
       "    <tr>\n",
       "        <td>3</td>\n",
       "        <td>par_3</td>\n",
       "        <td>-9.48248</td>\n",
       "        <td>0.0372176</td>\n",
       "        <td></td>\n",
       "        <td></td>\n",
       "        <td>-30</td>\n",
       "        <td>0</td>\n",
       "        <td>No</td>\n",
       "    </tr>\n",
       "    <tr>\n",
       "        <td>4</td>\n",
       "        <td>par_4</td>\n",
       "        <td>-11.2147</td>\n",
       "        <td>0.734734</td>\n",
       "        <td></td>\n",
       "        <td></td>\n",
       "        <td>-11.4806</td>\n",
       "        <td>-7.48058</td>\n",
       "        <td>No</td>\n",
       "    </tr>\n",
       "    <tr>\n",
       "        <td>5</td>\n",
       "        <td>par_5</td>\n",
       "        <td>0.0254478</td>\n",
       "        <td>0.000283904</td>\n",
       "        <td></td>\n",
       "        <td></td>\n",
       "        <td>-0.5</td>\n",
       "        <td>0.5</td>\n",
       "        <td>No</td>\n",
       "    </tr>\n",
       "</table>\n",
       "<pre id=\"JZCEWeAcWy\" style=\"display:none;\">\n",
       "<textarea rows=\"18\" cols=\"50\" onclick=\"this.select()\" readonly>\n",
       "\\begin{tabular}{|c|r|r|r|r|r|r|r|c|}\n",
       "\\hline\n",
       " & Name & Value & Hesse Error & Minos Error- & Minos Error+ & Limit- & Limit+ & Fixed?\\\\\n",
       "\\hline\n",
       "0 & $par_{0}$ & -0.163463 & 0.0127406 &  &  & -10.0 & 0 & No\\\\\n",
       "\\hline\n",
       "1 & $par_{1}$ & -0.0116222 & 0.00197459 &  &  & -10.0 & 10 & No\\\\\n",
       "\\hline\n",
       "2 & $par_{2}$ & 16.7139 & 0.0561725 &  &  & 0.0 & 30 & No\\\\\n",
       "\\hline\n",
       "3 & $par_{3}$ & -9.48248 & 0.0372176 &  &  & -30.0 & 0 & No\\\\\n",
       "\\hline\n",
       "4 & $par_{4}$ & -11.2147 & 0.734734 &  &  & -11.48058161554708 & -7.48058 & No\\\\\n",
       "\\hline\n",
       "5 & $par_{5}$ & 0.0254478 & 0.000283904 &  &  & -0.5 & 0.5 & No\\\\\n",
       "\\hline\n",
       "\\end{tabular}\n",
       "</textarea>\n",
       "</pre>"
      ]
     },
     "metadata": {},
     "output_type": "display_data"
    },
    {
     "data": {
      "text/html": [
       "<hr>"
      ]
     },
     "metadata": {},
     "output_type": "display_data"
    },
    {
     "name": "stdout",
     "output_type": "stream",
     "text": [
      "\r\n",
      "**************************************************************************************************\n",
      "Fit report\n",
      "\n",
      "Model: sync-shape-fit\n",
      "--------------------------------------------------------------------------------------------------------------\n",
      "model parameters:\n",
      " Name             | Type                     | Units            | value         | phys. boundaries\n",
      "--------------------------------------------------------------------------------------------------------------\n",
      " b                | curvature                |                  | -1.634633e-01 | [-1.000000e+01,+0.000000e+00]  \n",
      " c                | third-degree             |                  | -1.162221e-02 | [-1.000000e+01,+1.000000e+01]  \n",
      " Ep               | peak freq                | Hz               | +1.671387e+01 | [+0.000000e+00,+3.000000e+01]  \n",
      " Sp               | peak flux                | erg cm^-2 s^-1   | -9.482476e+00 | [-3.000000e+01,+0.000000e+00]  \n",
      " nuFnu_p_host     | nuFnu-scale              | erg cm^-2 s^-1   | -1.121472e+01 | [-2.000000e+01,+2.000000e+01]  \n",
      " nu_scale         | nu-scale                 | Hz               | +2.544782e-02 | [-2.000000e+00,+2.000000e+00]  \n",
      "--------------------------------------------------------------------------------------------------------------\n",
      "\n",
      "converged=True\n",
      "calls=666\n",
      "mesg=\n",
      "dof=16\n",
      "chisq=13.064443, chisq/red=0.816528 null hypothesis sig=0.668040\n",
      "\n",
      "best fit pars\n",
      "---------------------------------------------------------------------------------------------------\n",
      "best-fit parameters:\n",
      "  Name            | best-fit value| best-fit err  | start value   | fit boundaries\n",
      "---------------------------------------------------------------------------------------------------\n",
      " b                | -1.634633e-01 | +1.274060e-02 | -1.616576e-01 | [-1.000000e+01,+0.000000e+00]\n",
      " c                | -1.162221e-02 | +1.974594e-03 | -1.128313e-02 | [-1.000000e+01,+1.000000e+01]\n",
      " Ep               | +1.671387e+01 | +5.617252e-02 | +1.669940e+01 | [+0.000000e+00,+3.000000e+01]\n",
      " Sp               | -9.482476e+00 | +3.721763e-02 | -9.480582e+00 | [-3.000000e+01,+0.000000e+00]\n",
      " nuFnu_p_host     | -1.121472e+01 | +7.347335e-01 | -9.480582e+00 | [-1.148058e+01,-7.480582e+00]\n",
      " nu_scale         | +2.544782e-02 | +2.839044e-04 | +0.000000e+00 | [-5.000000e-01,+5.000000e-01]\n",
      "---------------------------------------------------------------------------------------------------\n",
      "**************************************************************************************************\n",
      "\n",
      "---> class:  HSP\n",
      "---> sync       nu_p=+1.671387e+01 (err=+5.617252e-02)  nuFnu_p=-9.482476e+00 (err=+3.721763e-02) curv.=-1.634633e-01 (err=+1.274060e-02)\n"
     ]
    }
   ],
   "source": [
    "myPlot.save('SED_indices_rebinned.png')\n",
    "\n",
    "\n",
    "my_shape.sync_fit(check_host_gal_template=True,minimizer='minuit',fit_range=[10,19])"
   ]
  },
  {
   "cell_type": "code",
   "execution_count": 14,
   "metadata": {
    "scrolled": false
   },
   "outputs": [
    {
     "name": "stdout",
     "output_type": "stream",
     "text": [
      "=============================================================================================\n",
      "\n",
      "*** Log-Polynomial fitting of the IC component ***\n",
      "---> fit range: [22, 28]\n",
      "---> LogCubic fit\n"
     ]
    },
    {
     "data": {
      "text/html": [
       "<hr>"
      ]
     },
     "metadata": {},
     "output_type": "display_data"
    },
    {
     "data": {
      "text/html": [
       "<table>\n",
       "    <tr>\n",
       "        <td title=\"Minimum value of function\">FCN = 3.4399462169488366</td>\n",
       "        <td title=\"Total number of call to FCN so far\">TOTAL NCALL = 214</td>\n",
       "        <td title=\"Number of call in last migrad\">NCALLS = 214</td>\n",
       "    </tr>\n",
       "    <tr>\n",
       "        <td title=\"Estimated distance to minimum\">EDM = 3.309614688792438e-05</td>\n",
       "        <td title=\"Maximum EDM definition of convergence\">GOAL EDM = 1e-05</td>\n",
       "        <td title=\"Error def. Amount of increase in FCN to be defined as 1 standard deviation\">\n",
       "        UP = 1.0</td>\n",
       "    </tr>\n",
       "</table>\n",
       "<table>\n",
       "    <tr>\n",
       "        <td align=\"center\" title=\"Validity of the migrad call\">Valid</td>\n",
       "        <td align=\"center\" title=\"Validity of parameters\">Valid Param</td>\n",
       "        <td align=\"center\" title=\"Is Covariance matrix accurate?\">Accurate Covar</td>\n",
       "        <td align=\"center\" title=\"Positive definiteness of covariance matrix\">PosDef</td>\n",
       "        <td align=\"center\" title=\"Was covariance matrix made posdef by adding diagonal element\">Made PosDef</td>\n",
       "    </tr>\n",
       "    <tr>\n",
       "        <td align=\"center\" style=\"background-color:#92CCA6\">True</td>\n",
       "        <td align=\"center\" style=\"background-color:#92CCA6\">True</td>\n",
       "        <td align=\"center\" style=\"background-color:#92CCA6\">True</td>\n",
       "        <td align=\"center\" style=\"background-color:#92CCA6\">True</td>\n",
       "        <td align=\"center\" style=\"background-color:#92CCA6\">False</td>\n",
       "    </tr>\n",
       "    <tr>\n",
       "        <td align=\"center\" title=\"Was last hesse call fail?\">Hesse Fail</td>\n",
       "        <td align=\"center\" title=\"Validity of covariance\">HasCov</td>\n",
       "        <td align=\"center\" title=\"Is EDM above goal EDM?\">Above EDM</td>\n",
       "        <td align=\"center\"></td>\n",
       "        <td align=\"center\" title=\"Did last migrad call reach max call limit?\">Reach calllim</td>\n",
       "    </tr>\n",
       "    <tr>\n",
       "        <td align=\"center\" style=\"background-color:#92CCA6\">False</td>\n",
       "        <td align=\"center\" style=\"background-color:#92CCA6\">True</td>\n",
       "        <td align=\"center\" style=\"background-color:#92CCA6\">False</td>\n",
       "        <td align=\"center\"></td>\n",
       "        <td align=\"center\" style=\"background-color:#92CCA6\">False</td>\n",
       "    </tr>\n",
       "</table>"
      ]
     },
     "metadata": {},
     "output_type": "display_data"
    },
    {
     "data": {
      "text/html": [
       "<table>\n",
       "    <tr>\n",
       "        <td><a href=\"#\" onclick=\"$('#KmglSfGpxo').toggle()\">+</a></td>\n",
       "        <td title=\"Variable name\">Name</td>\n",
       "        <td title=\"Value of parameter\">Value</td>\n",
       "        <td title=\"Hesse error\">Hesse Error</td>\n",
       "        <td title=\"Minos lower error\">Minos Error-</td>\n",
       "        <td title=\"Minos upper error\">Minos Error+</td>\n",
       "        <td title=\"Lower limit of the parameter\">Limit-</td>\n",
       "        <td title=\"Upper limit of the parameter\">Limit+</td>\n",
       "        <td title=\"Is the parameter fixed in the fit\">Fixed?</td>\n",
       "    </tr>\n",
       "    <tr>\n",
       "        <td>0</td>\n",
       "        <td>par_0</td>\n",
       "        <td>-0.205605</td>\n",
       "        <td>0.0400183</td>\n",
       "        <td></td>\n",
       "        <td></td>\n",
       "        <td>-10</td>\n",
       "        <td>0</td>\n",
       "        <td>No</td>\n",
       "    </tr>\n",
       "    <tr>\n",
       "        <td>1</td>\n",
       "        <td>par_1</td>\n",
       "        <td>-0.0499058</td>\n",
       "        <td>0.015632</td>\n",
       "        <td></td>\n",
       "        <td></td>\n",
       "        <td>-10</td>\n",
       "        <td>10</td>\n",
       "        <td>No</td>\n",
       "    </tr>\n",
       "    <tr>\n",
       "        <td>2</td>\n",
       "        <td>par_2</td>\n",
       "        <td>25.2592</td>\n",
       "        <td>0.107537</td>\n",
       "        <td></td>\n",
       "        <td></td>\n",
       "        <td>0</td>\n",
       "        <td>30</td>\n",
       "        <td>No</td>\n",
       "    </tr>\n",
       "    <tr>\n",
       "        <td>3</td>\n",
       "        <td>par_3</td>\n",
       "        <td>-10.1224</td>\n",
       "        <td>0.0476766</td>\n",
       "        <td></td>\n",
       "        <td></td>\n",
       "        <td>-30</td>\n",
       "        <td>0</td>\n",
       "        <td>No</td>\n",
       "    </tr>\n",
       "</table>\n",
       "<pre id=\"KmglSfGpxo\" style=\"display:none;\">\n",
       "<textarea rows=\"14\" cols=\"50\" onclick=\"this.select()\" readonly>\n",
       "\\begin{tabular}{|c|r|r|r|r|r|r|r|c|}\n",
       "\\hline\n",
       " & Name & Value & Hesse Error & Minos Error- & Minos Error+ & Limit- & Limit+ & Fixed?\\\\\n",
       "\\hline\n",
       "0 & $par_{0}$ & -0.205605 & 0.0400183 &  &  & -10.0 & 0 & No\\\\\n",
       "\\hline\n",
       "1 & $par_{1}$ & -0.0499058 & 0.015632 &  &  & -10.0 & 10 & No\\\\\n",
       "\\hline\n",
       "2 & $par_{2}$ & 25.2592 & 0.107537 &  &  & 0.0 & 30 & No\\\\\n",
       "\\hline\n",
       "3 & $par_{3}$ & -10.1224 & 0.0476766 &  &  & -30.0 & 0 & No\\\\\n",
       "\\hline\n",
       "\\end{tabular}\n",
       "</textarea>\n",
       "</pre>"
      ]
     },
     "metadata": {},
     "output_type": "display_data"
    },
    {
     "data": {
      "text/html": [
       "<hr>"
      ]
     },
     "metadata": {},
     "output_type": "display_data"
    },
    {
     "name": "stdout",
     "output_type": "stream",
     "text": [
      "\r\n",
      "**************************************************************************************************\n",
      "Fit report\n",
      "\n",
      "Model: IC-shape-fit\n",
      "--------------------------------------------------------------------------------------------------------------\n",
      "model parameters:\n",
      " Name             | Type                     | Units            | value         | phys. boundaries\n",
      "--------------------------------------------------------------------------------------------------------------\n",
      " b                | curvature                |                  | -2.056045e-01 | [-1.000000e+01,+0.000000e+00]  \n",
      " c                | third-degree             |                  | -4.990579e-02 | [-1.000000e+01,+1.000000e+01]  \n",
      " Ep               | peak freq                | Hz               | +2.525916e+01 | [+0.000000e+00,+3.000000e+01]  \n",
      " Sp               | peak flux                | erg cm^-2 s^-1   | -1.012238e+01 | [-3.000000e+01,+0.000000e+00]  \n",
      "--------------------------------------------------------------------------------------------------------------\n",
      "\n",
      "converged=True\n",
      "calls=215\n",
      "mesg=\n",
      "dof=12\n",
      "chisq=3.439940, chisq/red=0.286662 null hypothesis sig=0.991560\n",
      "\n",
      "best fit pars\n",
      "---------------------------------------------------------------------------------------------------\n",
      "best-fit parameters:\n",
      "  Name            | best-fit value| best-fit err  | start value   | fit boundaries\n",
      "---------------------------------------------------------------------------------------------------\n",
      " b                | -2.056045e-01 | +4.001825e-02 | -1.000000e+00 | [-1.000000e+01,+0.000000e+00]\n",
      " c                | -4.990579e-02 | +1.563199e-02 | -1.000000e+00 | [-1.000000e+01,+1.000000e+01]\n",
      " Ep               | +2.525916e+01 | +1.075365e-01 | +2.525747e+01 | [+0.000000e+00,+3.000000e+01]\n",
      " Sp               | -1.012238e+01 | +4.767656e-02 | -1.000000e+01 | [-3.000000e+01,+0.000000e+00]\n",
      "---------------------------------------------------------------------------------------------------\n",
      "**************************************************************************************************\n",
      "\n",
      "---> IC         nu_p=+2.525916e+01 (err=+1.075365e-01)  nuFnu_p=-1.012238e+01 (err=+4.767656e-02) curv.=-2.056045e-01 (err=+4.001825e-02)\n",
      "=============================================================================================\n",
      "\n"
     ]
    }
   ],
   "source": [
    "my_shape.IC_fit()"
   ]
  },
  {
   "cell_type": "code",
   "execution_count": 15,
   "metadata": {},
   "outputs": [
    {
     "name": "stdout",
     "output_type": "stream",
     "text": [
      "[8.381888978511379, 27.97292829804506] [0. 0.]\n"
     ]
    },
    {
     "data": {
      "image/png": "[encoded data removed]",
      "text/plain": [
       "<matplotlib.figure.Figure at 0x1a17e2e198>"
      ]
     },
     "metadata": {},
     "output_type": "display_data"
    }
   ],
   "source": [
    "p=my_shape.plot_sahpe_fit()\n",
    "p.rescale(y_min=sed_data.data['nuFnu_data_log'].min()-1)"
   ]
  },
  {
   "cell_type": "code",
   "execution_count": 28,
   "metadata": {},
   "outputs": [
    {
     "name": "stdout",
     "output_type": "stream",
     "text": [
      "=============================================================================================\n",
      "\n",
      "*** SEDShape values ***\n",
      "---> spectral inidces values\n",
      "---> name = radio            range=[6.000 ,10.000] log(Hz)  photon.val=-1.402754e+00, err=1.250721e-01 \n",
      "---> name = radio_mm         range=[10.000,11.000] log(Hz)  photon.val=-1.290348e+00, err=3.549105e-02 \n",
      "---> name = mm_IR            range=[10.300,13.700] log(Hz)  photon.val=-1.109667e+00, err=5.233777e-02 \n",
      "---> name = IR_Opt           range=[12.500,14.500] log(Hz)  photon.val=-1.778730e+00, err=8.336743e-02 \n",
      "---> name = Opt_UV           range=[14.000,16.000] log(Hz)  photon.val=-1.621180e+00, err=4.761704e-02 \n",
      "---> name = BBB              range=[14.800,16.200] log(Hz)  photon.val=-1.273282e+00, err=1.558347e-01 \n",
      "---> name = UV_X             range=[15.000,17.500] log(Hz)  photon.val=-1.845844e+00, err=1.974302e-02 \n",
      "---> name = X                range=[16.000,19.000] log(Hz)  photon.val=-2.458173e+00, err=7.557519e-02 \n",
      "---> name = Fermi            range=[22.380,25.380] log(Hz)  photon.val=-1.795555e+00, err=1.996362e-02 \n",
      "---> name = TeV              range=[25.000,28.380] log(Hz)  photon.val=-2.480131e+00, err=7.425494e-02 \n",
      "---> S/IC peak values\n",
      "---> sync       nu_p=+1.671387e+01 (err=+5.617252e-02)  nuFnu_p=-9.482476e+00 (err=+3.721763e-02) curv.=-1.634633e-01 (err=+1.274060e-02)\n",
      "\n",
      "---> IC         nu_p=+2.525916e+01 (err=+1.075365e-01)  nuFnu_p=-1.012238e+01 (err=+4.767656e-02) curv.=-2.056045e-01 (err=+4.001825e-02)\n",
      "\n",
      "\n",
      "=============================================================================================\n",
      "\n"
     ]
    }
   ],
   "source": [
    "my_shape.show_values()"
   ]
  },
  {
   "cell_type": "markdown",
   "metadata": {},
   "source": [
    "Constraining SSC/EC model\n",
    "-------------------------"
   ]
  },
  {
   "cell_type": "code",
   "execution_count": 39,
   "metadata": {},
   "outputs": [],
   "source": [
    "from jetset.obs_constrain import ObsConstrain\n",
    "\n",
    "sed_obspar=ObsConstrain(beaming=25,B_range=[0.01,0.1],distr_e='pl',t_var_sec=3*86400,nu_cut_IR=9.0E12,SEDShape=my_shape)"
   ]
  },
  {
   "cell_type": "code",
   "execution_count": 40,
   "metadata": {
    "scrolled": false
   },
   "outputs": [
    {
     "name": "stdout",
     "output_type": "stream",
     "text": [
      "=============================================================================================\n",
      "\n",
      "***  constrains parameters from observable ***\n",
      "-----------------------------------------------------------------------------------------\n",
      "model parameters for jet model:\n",
      "electron distribution type = pl  \n",
      "--------------------------------------------------------------------------------------------------------------\n",
      "model parameters:\n",
      " Name             | Type                     | Units            | value         | phys. boundaries\n",
      "--------------------------------------------------------------------------------------------------------------\n",
      " N                | electron_density         | cm^-3            | +1.000000e+02 | [+0.000000e+00,No           ]  \n",
      " gmin             | low-energy-cut-off       | Lorentz-factor   | +2.000000e+00 | [+1.000000e+00,No           ]  \n",
      " gmax             | high-energy-cut-off      | Lorentz-factor   | +1.000000e+08 | [+1.000000e+00,No           ]  \n",
      " p                | HE_spectral_slope        |                  | +2.000000e+00 | [-1.000000e+01,+1.000000e+01]  \n",
      " R                | region_size              | cm               | +3.000000e+15 | [+0.000000e+00,No           ]  \n",
      " B                | magnetic_field           | G                | +1.000000e-01 | [+0.000000e+00,No           ]  \n",
      " beam_obj         | beaming                  |                  | +1.000000e+01 | [+1.000000e+00,No           ]  \n",
      " z_cosm           | redshift                 |                  | +1.000000e-01 | [+0.000000e+00,No           ]  \n",
      "--------------------------------------------------------------------------------------------------------------\n",
      "-----------------------------------------------------------------------------------------\n",
      "---> ***  emitting region parameters  ***\n",
      "---> name = beam_obj          type = beaming                   units =                   val = +2.500000e+01  phys-bounds = [+1.000000e+00,No           ]  \n",
      "---> setting par type redshift, corresponding to par z_cosm\n",
      "--->  name = z_cosm            type = redshift                  units =                   val = +3.080000e-02  phys-bounds = [+0.000000e+00,No           ]  \n",
      "---> setting par type magnetic_field, corresponding to par B\n",
      "--->  name = B                 type = magnetic_field            units = G                 val = +5.500000e-02  phys-bounds = [+0.000000e+00,No           ]  \n",
      "---> setting par type region_size, corresponding to par R\n",
      "--->  name = R                 type = region_size               units = cm                val = +1.884609e+17  phys-bounds = [+0.000000e+00,No           ]  \n",
      "---> *** electron distribution parameters ***\n",
      "---> distribution type:  pl\n",
      "---> set s1 to 3.500000\n",
      "---> setting par type LE_spectral_slope, corresponding to par p\n",
      "--->  name = p                 type = HE_spectral_slope         units =                   val = +3.500000e+00  phys-bounds = [-1.000000e+01,+1.000000e+01]  \n",
      "\n",
      "---> gamma_3p_Sync= 1.023929e+05, assuming B=5.500000e-02\n",
      "---> gamma_max=8.771910e+05 from nu_max_Sync= 8.544779e+18, using B=5.500000e-02\n",
      "---> setting par type high-energy-cut-off, corresponding to par gmax\n",
      "--->  name = gmax              type = high-energy-cut-off       units = Lorentz-factor    val = +8.771910e+05  phys-bounds = [+1.000000e+00,No           ]  \n",
      "\n",
      "---> setting par type low-energy-cut-off, corresponding to par gmin\n",
      "--->  name = gmin              type = low-energy-cut-off        units = Lorentz-factor    val = +1.350381e+03  phys-bounds = [+1.000000e+00,No           ]  \n",
      "\n",
      "nu_p_seed_blob 2133554197934815.2\n",
      "COMP FACTOR 1.7680682147195645 24979.463263122077\n",
      "---> gamma_3p_SSCc= %e 161408.96929663006\n",
      "\n",
      "---> setting par type electron_density, corresponding to par N\n",
      "---> B from nu_p_S=2.213332e-02\n",
      "---> get B from best matching of nu_p_IC\n",
      "---> B=4.043443e+12, out of boundaries 1.000000e-02 1.000000e-01, rejected\n",
      "     Best B not found, (temporary set to 1.000000e-01)\n",
      "---> setting par type magnetic_field, corresponding to par B\n",
      "--->  name = B                 type = magnetic_field            units = G                 val = +1.000000e-01  phys-bounds = [+0.000000e+00,No           ]  \n",
      "\n",
      "---> constrain failed, B set to:  name = B                 type = magnetic_field            units = G                 val = +1.000000e-01  phys-bounds = [+0.000000e+00,No           ]  \n",
      "\n",
      "\n",
      "---> update pars for new B \n",
      "---> setting par type low-energy-cut-off, corresponding to par gmin\n",
      "--->  name = gmin              type = low-energy-cut-off        units = Lorentz-factor    val = +1.001469e+03  phys-bounds = [+1.000000e+00,No           ]  \n",
      "\n",
      "---> gamma_max=6.505422e+05 from nu_max_Sync= 8.544779e+18, using B=1.000000e-01\n",
      "---> setting par type high-energy-cut-off, corresponding to par gmax\n",
      "--->  name = gmax              type = high-energy-cut-off       units = Lorentz-factor    val = +6.505422e+05  phys-bounds = [+1.000000e+00,No           ]  \n",
      "\n",
      "---> setting par type electron_density, corresponding to par N\n",
      "---> get R from Compoton Dominance (CD)\n",
      "     Best R=1.889060e+16\n",
      "---> setting par type region_size, corresponding to par R\n",
      "--->  name = R                 type = region_size               units = cm                val = +1.889060e+16  phys-bounds = [+0.000000e+00,No           ]  \n",
      "\n",
      "---> setting par type electron_density, corresponding to par N\n",
      "---> t_var (days) 0.3007084449091115\n",
      "\n",
      "show pars\n",
      "-----------------------------------------------------------------------------------------\n",
      "model parameters for jet model:\n",
      "electron distribution type = pl  \n",
      "--------------------------------------------------------------------------------------------------------------\n",
      "model parameters:\n",
      " Name             | Type                     | Units            | value         | phys. boundaries\n",
      "--------------------------------------------------------------------------------------------------------------\n",
      " N                | electron_density         | cm^-3            | +7.379585e+00 | [+0.000000e+00,No           ]  \n",
      " gmin             | low-energy-cut-off       | Lorentz-factor   | +1.001469e+03 | [+1.000000e+00,No           ]  \n",
      " gmax             | high-energy-cut-off      | Lorentz-factor   | +6.505422e+05 | [+1.000000e+00,No           ]  \n",
      " p                | HE_spectral_slope        |                  | +3.500000e+00 | [-1.000000e+01,+1.000000e+01]  \n",
      " R                | region_size              | cm               | +1.889060e+16 | [+0.000000e+00,No           ]  \n",
      " B                | magnetic_field           | G                | +1.000000e-01 | [+0.000000e+00,No           ]  \n",
      " beam_obj         | beaming                  |                  | +2.500000e+01 | [+1.000000e+00,No           ]  \n",
      " z_cosm           | redshift                 |                  | +3.080000e-02 | [+0.000000e+00,No           ]  \n",
      "--------------------------------------------------------------------------------------------------------------\n",
      "-----------------------------------------------------------------------------------------\n",
      "eval_model\n",
      "=============================================================================================\n",
      "\n"
     ]
    }
   ],
   "source": [
    "jet_model=sed_obspar.constrain_SSC_model()"
   ]
  },
  {
   "cell_type": "code",
   "execution_count": 41,
   "metadata": {},
   "outputs": [
    {
     "name": "stdout",
     "output_type": "stream",
     "text": [
      "-----------------------------------------------------------------------------------------\n",
      "model parameters for jet model:\n",
      "electron distribution type = pl  \n",
      "--------------------------------------------------------------------------------------------------------------\n",
      "model parameters:\n",
      " Name             | Type                     | Units            | value         | phys. boundaries\n",
      "--------------------------------------------------------------------------------------------------------------\n",
      " N                | electron_density         | cm^-3            | +7.379585e+00 | [+0.000000e+00,No           ]  \n",
      " gmin             | low-energy-cut-off       | Lorentz-factor   | +1.001469e+03 | [+1.000000e+00,No           ]  \n",
      " gmax             | high-energy-cut-off      | Lorentz-factor   | +6.505422e+05 | [+1.000000e+00,No           ]  \n",
      " p                | HE_spectral_slope        |                  | +3.500000e+00 | [-1.000000e+01,+1.000000e+01]  \n",
      " R                | region_size              | cm               | +1.889060e+16 | [+0.000000e+00,No           ]  \n",
      " B                | magnetic_field           | G                | +1.000000e-01 | [+0.000000e+00,No           ]  \n",
      " beam_obj         | beaming                  |                  | +2.500000e+01 | [+1.000000e+00,No           ]  \n",
      " z_cosm           | redshift                 |                  | +3.080000e-02 | [+0.000000e+00,No           ]  \n",
      "--------------------------------------------------------------------------------------------------------------\n",
      "-----------------------------------------------------------------------------------------\n"
     ]
    }
   ],
   "source": [
    "jet_model.show_model()"
   ]
  },
  {
   "cell_type": "code",
   "execution_count": 42,
   "metadata": {},
   "outputs": [
    {
     "name": "stdout",
     "output_type": "stream",
     "text": [
      "[8.381888978511379, 27.97292829804506] [0. 0.]\n",
      "[4.806, 31.073999999999998] [0. 0.]\n"
     ]
    },
    {
     "data": {
      "image/png": "[encoded data removed]",
      "text/plain": [
       "<matplotlib.figure.Figure at 0x1a18a31630>"
      ]
     },
     "metadata": {},
     "output_type": "display_data"
    }
   ],
   "source": [
    "p=jet_model.plot_model(SEDdata=sed_data,autoscale=True)\n",
    "p.rescale(y_min=sed_data.data['nuFnu_data_log'].min()-1)\n",
    "p.add_residual_plot(jet_model,sed_data)"
   ]
  },
  {
   "cell_type": "markdown",
   "metadata": {},
   "source": [
    "SSC/EC fitting\n",
    "--------------"
   ]
  },
  {
   "cell_type": "code",
   "execution_count": 43,
   "metadata": {},
   "outputs": [
    {
     "name": "stdout",
     "output_type": "stream",
     "text": [
      "--------------------------------------------------------------------------------------------------------------\n",
      "model parameters:\n",
      " Name             | Type                     | Units            | value         | phys. boundaries\n",
      "--------------------------------------------------------------------------------------------------------------\n",
      " N                | electron_density         | cm^-3            | +7.379585e+00 | [+0.000000e+00,No           ]  \n",
      " gmin             | low-energy-cut-off       | Lorentz-factor   | +1.001469e+03 | [+1.000000e+00,No           ]  \n",
      " gmax             | high-energy-cut-off      | Lorentz-factor   | +6.505422e+05 | [+1.000000e+00,No           ]  \n",
      " p                | HE_spectral_slope        |                  | +3.500000e+00 | [-1.000000e+01,+1.000000e+01]  \n",
      " R                | region_size              | cm               | +1.889060e+16 | [+0.000000e+00,No           ]  \n",
      " B                | magnetic_field           | G                | +1.000000e-01 | [+0.000000e+00,No           ]  \n",
      " beam_obj         | beaming                  |                  | +2.500000e+01 | [+1.000000e+00,No           ]  \n",
      " z_cosm           | redshift                 |                  | +3.080000e-02 | [+0.000000e+00,No           ]  \n",
      " nuFnu_p_host     | nuFnu-scale              | erg cm^-2 s^-1   | -1.121472e+01 | [-2.000000e+01,+2.000000e+01]  \n",
      " nu_scale         | nu-scale                 | Hz               | +5.239006e-02 | [-2.000000e+00,+2.000000e+00]  \n",
      "--------------------------------------------------------------------------------------------------------------\n",
      "filtering data in fit range = [1.000000e+11,1.000000e+28]\n",
      "data length 37\n",
      "=============================================================================================\n",
      "\n",
      "*** start fit process ***\n",
      "initial pars: \n",
      "--------------------------------------------------------------------------------------------------------------\n",
      "model parameters:\n",
      " Name             | Type                     | Units            | value         | phys. boundaries\n",
      "--------------------------------------------------------------------------------------------------------------\n",
      " N                | electron_density         | cm^-3            | +7.379585e+00 | [+0.000000e+00,No           ]  \n",
      " gmin             | low-energy-cut-off       | Lorentz-factor   | +1.001469e+03 | [+1.000000e+00,No           ]  \n",
      " gmax             | high-energy-cut-off      | Lorentz-factor   | +6.505422e+05 | [+1.000000e+00,No           ]  \n",
      " p                | HE_spectral_slope        |                  | +3.500000e+00 | [-1.000000e+01,+1.000000e+01]  \n",
      " R                | region_size              | cm               | +1.889060e+16 | [+0.000000e+00,No           ]  \n",
      " B                | magnetic_field           | G                | +1.000000e-01 | [+0.000000e+00,No           ]  \n",
      " beam_obj         | beaming                  |                  | +2.500000e+01 | [+1.000000e+00,No           ]  \n",
      " z_cosm           | redshift                 |                  | +3.080000e-02 | [+0.000000e+00,No           ]  \n",
      " nuFnu_p_host     | nuFnu-scale              | erg cm^-2 s^-1   | -1.121472e+01 | [-2.000000e+01,+2.000000e+01]  \n",
      " nu_scale         | nu-scale                 | Hz               | +5.239006e-02 | [-2.000000e+00,+2.000000e+00]  \n",
      "--------------------------------------------------------------------------------------------------------------\n",
      "\\ minim function calls=80, chisq=307.967406 UL part=-0.0000000\n",
      "**************************************************************************************************\n",
      "Fit report\n",
      "\n",
      "Model: SSC-best-fit-lppl\n",
      "--------------------------------------------------------------------------------------------------------------\n",
      "model parameters:\n",
      " Name             | Type                     | Units            | value         | phys. boundaries\n",
      "--------------------------------------------------------------------------------------------------------------\n",
      " N                | electron_density         | cm^-3            | +6.674163e+00 | [+0.000000e+00,No           ]  \n",
      " gmin             | low-energy-cut-off       | Lorentz-factor   | +7.160018e+02 | [+1.000000e+00,No           ]  \n",
      " gmax             | high-energy-cut-off      | Lorentz-factor   | +1.583209e+10 | [+1.000000e+00,No           ]  \n",
      " p                | HE_spectral_slope        |                  | +3.098982e+00 | [-1.000000e+01,+1.000000e+01]  \n",
      " R                | region_size              | cm               | +1.611285e+16 | [+0.000000e+00,No           ]  \n",
      " B                | magnetic_field           | G                | +7.769530e-02 | [+0.000000e+00,No           ]  \n",
      " beam_obj         | beaming                  |                  | +2.500000e+01 | [+1.000000e+00,No           ]  \n",
      " z_cosm           | redshift                 |                  | +3.080000e-02 | [+0.000000e+00,No           ]  \n",
      " nuFnu_p_host     | nuFnu-scale              | erg cm^-2 s^-1   | -1.121472e+01 | [-2.000000e+01,+2.000000e+01]  \n",
      " nu_scale         | nu-scale                 | Hz               | +1.752045e-03 | [-2.000000e+00,+2.000000e+00]  \n",
      "--------------------------------------------------------------------------------------------------------------\n",
      "\n",
      "converged=True\n",
      "calls=84\n",
      "mesg=The relative error between two consecutive iterates is at most 0.000000\n",
      "dof=30\n",
      "chisq=307.965074, chisq/red=10.265502 null hypothesis sig=0.000000\n",
      "\n",
      "best fit pars\n",
      "---------------------------------------------------------------------------------------------------\n",
      "best-fit parameters:\n",
      "  Name            | best-fit value| best-fit err  | start value   | fit boundaries\n",
      "---------------------------------------------------------------------------------------------------\n",
      " N                | +6.674163e+00 | +1.396270e+03 | +7.379585e+00 | [+0.000000e+00,No           ]\n",
      " gmin             | +7.160018e+02 | +7.036716e+04 | +1.001469e+03 | [+1.000000e+00,No           ]\n",
      " gmax             | +1.583209e+10 | +3.067010e+16 | +6.505422e+05 | [+1.000000e+00,No           ]\n",
      " p                | +3.098982e+00 | +9.556216e-02 | +3.500000e+00 | [-1.000000e+01,+1.000000e+01]\n",
      " R                | +1.611285e+16 | +7.337901e+16 | +1.889060e+16 | [+0.000000e+00,No           ]\n",
      " B                | +7.769530e-02 | +3.275842e-01 | +1.000000e-01 | [+0.000000e+00,No           ]\n",
      " beam_obj         | Frozen        | Frozen        | +2.500000e+01 | [+1.000000e+00,No           ]\n",
      " z_cosm           | Frozen        | Frozen        | +3.080000e-02 | [+0.000000e+00,No           ]\n",
      " nuFnu_p_host     | Frozen        | Frozen        | -1.121472e+01 | [-1.148058e+01,-7.480582e+00]\n",
      " nu_scale         | +1.752045e-03 | +4.244755e-01 | +5.239006e-02 | [-5.000000e-01,+5.000000e-01]\n",
      "---------------------------------------------------------------------------------------------------\n",
      "**************************************************************************************************\n",
      "\n",
      "=============================================================================================\n",
      "\n"
     ]
    }
   ],
   "source": [
    "from jetset.model_manager import FitModel\n",
    "from jetset.minimizer import  fit_SED\n",
    "\n",
    "fit_model=FitModel( jet=jet_model, name='SSC-best-fit',  template=my_shape.host_gal)\n",
    "\n",
    "fit_model.set('z_cosm','frozen')\n",
    "\n",
    "fit_model.set('beam_obj','frozen')\n",
    "\n",
    "fit_model.set('nuFnu_p_host','frozen')\n",
    "\n",
    "#fit_model.set('r',fit_range=[0.5,10.5])\n",
    "\n",
    "fit_model.show_pars()\n",
    "    \n",
    "best_fit=fit_SED(fit_model,sed_data,10.0**11 ,10**28.0,fitname='SSC-best-fit-lppl',minimizer='lsb')"
   ]
  },
  {
   "cell_type": "code",
   "execution_count": 44,
   "metadata": {},
   "outputs": [
    {
     "name": "stdout",
     "output_type": "stream",
     "text": [
      "[8.381888978511379, 27.97292829804506] [0. 0.]\n",
      "[4.806, 31.073999999999998] [0. 0.]\n"
     ]
    },
    {
     "data": {
      "image/png": "[encoded data removed]",
      "text/plain": [
       "<matplotlib.figure.Figure at 0x1a189e5320>"
      ]
     },
     "metadata": {},
     "output_type": "display_data"
    }
   ],
   "source": [
    "p=jet_model.plot_model(SEDdata=sed_data)\n",
    "p.add_residual_plot(data=sed_data,model=jet_model)\n",
    "p.rescale(y_min=-14,y_max=-8,x_min=9.0,x_max=30)\n"
   ]
  },
  {
   "cell_type": "code",
   "execution_count": 31,
   "metadata": {
    "scrolled": false
   },
   "outputs": [
    {
     "name": "stdout",
     "output_type": "stream",
     "text": [
      "--------------------------------------------------------------------------------------------------------------\n",
      "model parameters:\n",
      " Name             | Type                     | Units            | value         | phys. boundaries\n",
      "--------------------------------------------------------------------------------------------------------------\n",
      " N                | electron_density         | cm^-3            | +3.246468e-02 | [+0.000000e+00,No           ]  \n",
      " gmin             | low-energy-cut-off       | Lorentz-factor   | +3.118428e+03 | [+1.000000e+00,No           ]  \n",
      " gmax             | high-energy-cut-off      | Lorentz-factor   | +1.770674e+09 | [+1.000000e+00,No           ]  \n",
      " p                | LE_spectral_slope        |                  | +2.342481e+00 | [-1.000000e+01,+1.000000e+01]  \n",
      " gamma_cut        | turn-over-energy         | Lorentz-factor   | +5.068781e+05 | [+1.000000e+00,No           ]  \n",
      " R                | region_size              | cm               | +9.303388e+16 | [+0.000000e+00,No           ]  \n",
      " B                | magnetic_field           | G                | +1.387508e-02 | [+0.000000e+00,No           ]  \n",
      " beam_obj         | beaming                  |                  | +2.500000e+01 | [+1.000000e+00,No           ]  \n",
      " z_cosm           | redshift                 |                  | +3.080000e-02 | [+0.000000e+00,No           ]  \n",
      " nuFnu_p_host     | nuFnu-scale              | erg cm^-2 s^-1   | -1.121472e+01 | [-2.000000e+01,+2.000000e+01]  \n",
      " nu_scale         | nu-scale                 | Hz               | +5.238431e-02 | [-2.000000e+00,+2.000000e+00]  \n",
      "--------------------------------------------------------------------------------------------------------------\n",
      "filtering data in fit range = [1.000000e+11,1.000000e+28]\n",
      "data length 37\n",
      "=============================================================================================\n",
      "\n",
      "*** start fit process ***\n",
      "initial pars: \n",
      "--------------------------------------------------------------------------------------------------------------\n",
      "model parameters:\n",
      " Name             | Type                     | Units            | value         | phys. boundaries\n",
      "--------------------------------------------------------------------------------------------------------------\n",
      " N                | electron_density         | cm^-3            | +3.246468e-02 | [+0.000000e+00,No           ]  \n",
      " gmin             | low-energy-cut-off       | Lorentz-factor   | +3.118428e+03 | [+1.000000e+00,No           ]  \n",
      " gmax             | high-energy-cut-off      | Lorentz-factor   | +1.770674e+09 | [+1.000000e+00,No           ]  \n",
      " p                | LE_spectral_slope        |                  | +2.342481e+00 | [-1.000000e+01,+1.000000e+01]  \n",
      " gamma_cut        | turn-over-energy         | Lorentz-factor   | +5.068781e+05 | [+1.000000e+00,No           ]  \n",
      " R                | region_size              | cm               | +9.303388e+16 | [+0.000000e+00,No           ]  \n",
      " B                | magnetic_field           | G                | +1.387508e-02 | [+0.000000e+00,No           ]  \n",
      " beam_obj         | beaming                  |                  | +2.500000e+01 | [+1.000000e+00,No           ]  \n",
      " z_cosm           | redshift                 |                  | +3.080000e-02 | [+0.000000e+00,No           ]  \n",
      " nuFnu_p_host     | nuFnu-scale              | erg cm^-2 s^-1   | -1.121472e+01 | [-2.000000e+01,+2.000000e+01]  \n",
      " nu_scale         | nu-scale                 | Hz               | +5.238431e-02 | [-2.000000e+00,+2.000000e+00]  \n",
      "--------------------------------------------------------------------------------------------------------------\n",
      "| minim function calls=210, chisq=35.293919 UL part=-0.000000"
     ]
    },
    {
     "data": {
      "text/html": [
       "<hr>"
      ]
     },
     "metadata": {},
     "output_type": "display_data"
    },
    {
     "data": {
      "text/html": [
       "<table>\n",
       "    <tr>\n",
       "        <td title=\"Minimum value of function\">FCN = 35.29344053422126</td>\n",
       "        <td title=\"Total number of call to FCN so far\">TOTAL NCALL = 213</td>\n",
       "        <td title=\"Number of call in last migrad\">NCALLS = 213</td>\n",
       "    </tr>\n",
       "    <tr>\n",
       "        <td title=\"Estimated distance to minimum\">EDM = 5.2773336407362536e-05</td>\n",
       "        <td title=\"Maximum EDM definition of convergence\">GOAL EDM = 1e-05</td>\n",
       "        <td title=\"Error def. Amount of increase in FCN to be defined as 1 standard deviation\">\n",
       "        UP = 1.0</td>\n",
       "    </tr>\n",
       "</table>\n",
       "<table>\n",
       "    <tr>\n",
       "        <td align=\"center\" title=\"Validity of the migrad call\">Valid</td>\n",
       "        <td align=\"center\" title=\"Validity of parameters\">Valid Param</td>\n",
       "        <td align=\"center\" title=\"Is Covariance matrix accurate?\">Accurate Covar</td>\n",
       "        <td align=\"center\" title=\"Positive definiteness of covariance matrix\">PosDef</td>\n",
       "        <td align=\"center\" title=\"Was covariance matrix made posdef by adding diagonal element\">Made PosDef</td>\n",
       "    </tr>\n",
       "    <tr>\n",
       "        <td align=\"center\" style=\"background-color:#92CCA6\">True</td>\n",
       "        <td align=\"center\" style=\"background-color:#92CCA6\">True</td>\n",
       "        <td align=\"center\" style=\"background-color:#92CCA6\">True</td>\n",
       "        <td align=\"center\" style=\"background-color:#92CCA6\">True</td>\n",
       "        <td align=\"center\" style=\"background-color:#92CCA6\">False</td>\n",
       "    </tr>\n",
       "    <tr>\n",
       "        <td align=\"center\" title=\"Was last hesse call fail?\">Hesse Fail</td>\n",
       "        <td align=\"center\" title=\"Validity of covariance\">HasCov</td>\n",
       "        <td align=\"center\" title=\"Is EDM above goal EDM?\">Above EDM</td>\n",
       "        <td align=\"center\"></td>\n",
       "        <td align=\"center\" title=\"Did last migrad call reach max call limit?\">Reach calllim</td>\n",
       "    </tr>\n",
       "    <tr>\n",
       "        <td align=\"center\" style=\"background-color:#92CCA6\">False</td>\n",
       "        <td align=\"center\" style=\"background-color:#92CCA6\">True</td>\n",
       "        <td align=\"center\" style=\"background-color:#92CCA6\">False</td>\n",
       "        <td align=\"center\"></td>\n",
       "        <td align=\"center\" style=\"background-color:#92CCA6\">False</td>\n",
       "    </tr>\n",
       "</table>"
      ]
     },
     "metadata": {},
     "output_type": "display_data"
    },
    {
     "data": {
      "text/html": [
       "<table>\n",
       "    <tr>\n",
       "        <td><a href=\"#\" onclick=\"$('#ZRaLHKPjnh').toggle()\">+</a></td>\n",
       "        <td title=\"Variable name\">Name</td>\n",
       "        <td title=\"Value of parameter\">Value</td>\n",
       "        <td title=\"Hesse error\">Hesse Error</td>\n",
       "        <td title=\"Minos lower error\">Minos Error-</td>\n",
       "        <td title=\"Minos upper error\">Minos Error+</td>\n",
       "        <td title=\"Lower limit of the parameter\">Limit-</td>\n",
       "        <td title=\"Upper limit of the parameter\">Limit+</td>\n",
       "        <td title=\"Is the parameter fixed in the fit\">Fixed?</td>\n",
       "    </tr>\n",
       "    <tr>\n",
       "        <td>0</td>\n",
       "        <td>par_0</td>\n",
       "        <td>0.0327139</td>\n",
       "        <td>0.00257099</td>\n",
       "        <td></td>\n",
       "        <td></td>\n",
       "        <td>0</td>\n",
       "        <td></td>\n",
       "        <td>No</td>\n",
       "    </tr>\n",
       "    <tr>\n",
       "        <td>1</td>\n",
       "        <td>par_1</td>\n",
       "        <td>3132.8</td>\n",
       "        <td>0.27227</td>\n",
       "        <td></td>\n",
       "        <td></td>\n",
       "        <td>1</td>\n",
       "        <td></td>\n",
       "        <td>No</td>\n",
       "    </tr>\n",
       "    <tr>\n",
       "        <td>2</td>\n",
       "        <td>par_2</td>\n",
       "        <td>1.77067e+09</td>\n",
       "        <td>2</td>\n",
       "        <td></td>\n",
       "        <td></td>\n",
       "        <td>1</td>\n",
       "        <td></td>\n",
       "        <td>No</td>\n",
       "    </tr>\n",
       "    <tr>\n",
       "        <td>3</td>\n",
       "        <td>par_3</td>\n",
       "        <td>2.34348</td>\n",
       "        <td>0.0294774</td>\n",
       "        <td></td>\n",
       "        <td></td>\n",
       "        <td>-10</td>\n",
       "        <td>10</td>\n",
       "        <td>No</td>\n",
       "    </tr>\n",
       "    <tr>\n",
       "        <td>4</td>\n",
       "        <td>par_4</td>\n",
       "        <td>506878</td>\n",
       "        <td>2</td>\n",
       "        <td></td>\n",
       "        <td></td>\n",
       "        <td>1</td>\n",
       "        <td></td>\n",
       "        <td>No</td>\n",
       "    </tr>\n",
       "    <tr>\n",
       "        <td>5</td>\n",
       "        <td>par_5</td>\n",
       "        <td>9.30339e+16</td>\n",
       "        <td>0</td>\n",
       "        <td></td>\n",
       "        <td></td>\n",
       "        <td>0</td>\n",
       "        <td></td>\n",
       "        <td>No</td>\n",
       "    </tr>\n",
       "    <tr>\n",
       "        <td>6</td>\n",
       "        <td>par_6</td>\n",
       "        <td>0.0137626</td>\n",
       "        <td>0.000720514</td>\n",
       "        <td></td>\n",
       "        <td></td>\n",
       "        <td>0</td>\n",
       "        <td></td>\n",
       "        <td>No</td>\n",
       "    </tr>\n",
       "    <tr>\n",
       "        <td>7</td>\n",
       "        <td>par_7</td>\n",
       "        <td>0.0523901</td>\n",
       "        <td>0.000797163</td>\n",
       "        <td></td>\n",
       "        <td></td>\n",
       "        <td>-0.5</td>\n",
       "        <td>0.5</td>\n",
       "        <td>No</td>\n",
       "    </tr>\n",
       "</table>\n",
       "<pre id=\"ZRaLHKPjnh\" style=\"display:none;\">\n",
       "<textarea rows=\"22\" cols=\"50\" onclick=\"this.select()\" readonly>\n",
       "\\begin{tabular}{|c|r|r|r|r|r|r|r|c|}\n",
       "\\hline\n",
       " & Name & Value & Hesse Error & Minos Error- & Minos Error+ & Limit- & Limit+ & Fixed?\\\\\n",
       "\\hline\n",
       "0 & $par_{0}$ & 0.0327139 & 0.00257099 &  &  & 0.0 &  & No\\\\\n",
       "\\hline\n",
       "1 & $par_{1}$ & 3132.8 & 0.27227 &  &  & 1.0 &  & No\\\\\n",
       "\\hline\n",
       "2 & $par_{2}$ & 1.77067e+09 & 2 &  &  & 1.0 &  & No\\\\\n",
       "\\hline\n",
       "3 & $par_{3}$ & 2.34348 & 0.0294774 &  &  & -10.0 & 10 & No\\\\\n",
       "\\hline\n",
       "4 & $par_{4}$ & 506878 & 2 &  &  & 1.0 &  & No\\\\\n",
       "\\hline\n",
       "5 & $par_{5}$ & 9.30339e+16 & 0 &  &  & 0.0 &  & No\\\\\n",
       "\\hline\n",
       "6 & $par_{6}$ & 0.0137626 & 0.000720514 &  &  & 0.0 &  & No\\\\\n",
       "\\hline\n",
       "7 & $par_{7}$ & 0.0523901 & 0.000797163 &  &  & -0.5 & 0.5 & No\\\\\n",
       "\\hline\n",
       "\\end{tabular}\n",
       "</textarea>\n",
       "</pre>"
      ]
     },
     "metadata": {},
     "output_type": "display_data"
    },
    {
     "data": {
      "text/html": [
       "<hr>"
      ]
     },
     "metadata": {},
     "output_type": "display_data"
    },
    {
     "name": "stdout",
     "output_type": "stream",
     "text": [
      "\n",
      "**************************************************************************************************\n",
      "Fit report\n",
      "\n",
      "Model: SSC-best-fit-lppl\n",
      "--------------------------------------------------------------------------------------------------------------\n",
      "model parameters:\n",
      " Name             | Type                     | Units            | value         | phys. boundaries\n",
      "--------------------------------------------------------------------------------------------------------------\n",
      " N                | electron_density         | cm^-3            | +3.271388e-02 | [+0.000000e+00,No           ]  \n",
      " gmin             | low-energy-cut-off       | Lorentz-factor   | +3.132800e+03 | [+1.000000e+00,No           ]  \n",
      " gmax             | high-energy-cut-off      | Lorentz-factor   | +1.770674e+09 | [+1.000000e+00,No           ]  \n",
      " p                | LE_spectral_slope        |                  | +2.343477e+00 | [-1.000000e+01,+1.000000e+01]  \n",
      " gamma_cut        | turn-over-energy         | Lorentz-factor   | +5.068781e+05 | [+1.000000e+00,No           ]  \n",
      " R                | region_size              | cm               | +9.303388e+16 | [+0.000000e+00,No           ]  \n",
      " B                | magnetic_field           | G                | +1.376263e-02 | [+0.000000e+00,No           ]  \n",
      " beam_obj         | beaming                  |                  | +2.500000e+01 | [+1.000000e+00,No           ]  \n",
      " z_cosm           | redshift                 |                  | +3.080000e-02 | [+0.000000e+00,No           ]  \n",
      " nuFnu_p_host     | nuFnu-scale              | erg cm^-2 s^-1   | -1.121472e+01 | [-2.000000e+01,+2.000000e+01]  \n",
      " nu_scale         | nu-scale                 | Hz               | +5.239006e-02 | [-2.000000e+00,+2.000000e+00]  \n",
      "--------------------------------------------------------------------------------------------------------------\n",
      "\n",
      "converged=True\n",
      "calls=214\n",
      "mesg=\n",
      "dof=29\n",
      "chisq=35.293389, chisq/red=1.217013 null hypothesis sig=0.195067\n",
      "\n",
      "best fit pars\n",
      "---------------------------------------------------------------------------------------------------\n",
      "best-fit parameters:\n",
      "  Name            | best-fit value| best-fit err  | start value   | fit boundaries\n",
      "---------------------------------------------------------------------------------------------------\n",
      " N                | +3.271388e-02 | +2.570995e-03 | +3.246468e-02 | [+0.000000e+00,No           ]\n",
      " gmin             | +3.132800e+03 | +2.722699e-01 | +3.118428e+03 | [+1.000000e+00,No           ]\n",
      " gmax             | +1.770674e+09 | +1.999998e+00 | +1.770674e+09 | [+1.000000e+00,No           ]\n",
      " p                | +2.343477e+00 | +2.947743e-02 | +2.342481e+00 | [-1.000000e+01,+1.000000e+01]\n",
      " gamma_cut        | +5.068781e+05 | +1.999999e+00 | +5.068781e+05 | [+1.000000e+00,No           ]\n",
      " R                | +9.303388e+16 | +0.000000e+00 | +9.303388e+16 | [+0.000000e+00,No           ]\n",
      " B                | +1.376263e-02 | +7.205139e-04 | +1.387508e-02 | [+0.000000e+00,No           ]\n",
      " beam_obj         | Frozen        | Frozen        | +2.500000e+01 | [+1.000000e+00,No           ]\n",
      " z_cosm           | Frozen        | Frozen        | +3.080000e-02 | [+0.000000e+00,No           ]\n",
      " nuFnu_p_host     | Frozen        | Frozen        | -1.121472e+01 | [-1.148058e+01,-7.480582e+00]\n",
      " nu_scale         | +5.239006e-02 | +7.971634e-04 | +5.238431e-02 | [-5.000000e-01,+5.000000e-01]\n",
      "---------------------------------------------------------------------------------------------------\n",
      "**************************************************************************************************\n",
      "\n",
      "=============================================================================================\n",
      "\n"
     ]
    }
   ],
   "source": [
    "from jetset.model_manager import FitModel\n",
    "from jetset.minimizer import  fit_SED\n",
    "\n",
    "fit_model=FitModel( jet=jet_model, name='SSC-best-fit',  template=my_shape.host_gal)\n",
    "\n",
    "fit_model.set('z_cosm','frozen')\n",
    "\n",
    "fit_model.set('beam_obj','frozen')\n",
    "\n",
    "fit_model.set('nuFnu_p_host','frozen')\n",
    "\n",
    "#fit_model.set('r',fit_range=[0.5,10.5])\n",
    "\n",
    "fit_model.show_pars()\n",
    "    \n",
    "best_fit=fit_SED(fit_model,sed_data,10.0**11 ,10**28.0,fitname='SSC-best-fit-lppl',minimizer='minuit')"
   ]
  },
  {
   "cell_type": "code",
   "execution_count": 32,
   "metadata": {
    "scrolled": false
   },
   "outputs": [
    {
     "name": "stdout",
     "output_type": "stream",
     "text": [
      "[8.381888978511379, 27.97292829804506] [0. 0.]\n",
      "[4.806, 31.073999999999998] [0. 0.]\n"
     ]
    },
    {
     "data": {
      "image/png": "[encoded data removed]",
      "text/plain": [
       "<matplotlib.figure.Figure at 0x1a1834c240>"
      ]
     },
     "metadata": {},
     "output_type": "display_data"
    }
   ],
   "source": [
    "p=jet_model.plot_model(SEDdata=sed_data)\n",
    "p.add_residual_plot(data=sed_data,model=jet_model)\n",
    "p.rescale(y_min=-14,y_max=-8,x_min=9.0,x_max=30)"
   ]
  },
  {
   "cell_type": "code",
   "execution_count": 48,
   "metadata": {
    "scrolled": false
   },
   "outputs": [
    {
     "data": {
      "text/plain": [
       "1001"
      ]
     },
     "execution_count": 48,
     "metadata": {},
     "output_type": "execute_result"
    }
   ],
   "source": [
    "jet_model._blob.gamma_grid_size\n"
   ]
  },
  {
   "cell_type": "code",
   "execution_count": null,
   "metadata": {},
   "outputs": [],
   "source": []
  },
  {
   "cell_type": "code",
   "execution_count": null,
   "metadata": {},
   "outputs": [],
   "source": []
  },
  {
   "cell_type": "code",
   "execution_count": null,
   "metadata": {},
   "outputs": [],
   "source": []
  }
 ],
 "metadata": {
  "kernelspec": {
   "display_name": "Python 3",
   "language": "python",
   "name": "python3"
  },
  "language_info": {
   "codemirror_mode": {
    "name": "ipython",
    "version": 3
   },
   "file_extension": ".py",
   "mimetype": "text/x-python",
   "name": "python",
   "nbconvert_exporter": "python",
   "pygments_lexer": "ipython3",
   "version": "3.6.4"
  }
 },
 "nbformat": 4,
 "nbformat_minor": 2
}
