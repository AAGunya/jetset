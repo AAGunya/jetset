{
 "cells": [
  {
   "cell_type": "raw",
   "metadata": {},
   "source": [
    ".. _data-format:"
   ]
  },
  {
   "cell_type": "markdown",
   "metadata": {},
   "source": [
    "# Data format and SED data"
   ]
  },
  {
   "cell_type": "raw",
   "metadata": {},
   "source": [
    "The data are treated using two classes from the module :mod:`.data_loader`\n",
    "\n",
    "- :class:`jetset.data_loader.Data` class \n",
    "- :class:`jetset.data_loader.ObsData` class \n",
    "\n",
    "The class :class:`jetset.data_loader.Data` is in charge of storing the data, giving access to the I/O functionalities, and provides an interface  to the astropy Table class (see the  `astropy table <https://docs.astropy.org/en/stable/table/>`_. documentation, for further information)\n",
    "\n",
    "The class :class:`jetset.data_loader.ObsData` uses the information stored in :class:`jetset.data_loader.Data`, and can perform several operations \n",
    " \n",
    " - rebinning (grouping) of the data\n",
    " - selection of time ranges\n",
    " - selection of datasets\n",
    " - transformation from linear to logarithmic representation\n",
    " - handling of errors and systematics\n"
   ]
  },
  {
   "cell_type": "raw",
   "metadata": {},
   "source": [
    ".. note::\n",
    "    old version of data file in non `ecsv` astropy table format, can be easily converted by importing them using the method described \n",
    "    in :ref:`import` and saving them"
   ]
  },
  {
   "cell_type": "code",
   "execution_count": 1,
   "metadata": {},
   "outputs": [],
   "source": [
    "import warnings\n",
    "warnings.filterwarnings('ignore')\n",
    "\n",
    "import matplotlib\n",
    "import numpy as np\n",
    "import matplotlib.pyplot as plt\n",
    "%matplotlib inline  "
   ]
  },
  {
   "cell_type": "markdown",
   "metadata": {},
   "source": [
    "## data format\n",
    "\n",
    "\n",
    "The SED data are internally stored as astropy tables, but it is very easy to import from\n",
    "\n",
    " 1. ascii files\n",
    " 2. numpy array in general\n",
    " \n",
    "once that is clear the data format. The easiest way to understand the data format is to build an empty table to have a look at the structure of the table:"
   ]
  },
  {
   "cell_type": "code",
   "execution_count": null,
   "metadata": {},
   "outputs": [],
   "source": []
  },
  {
   "cell_type": "code",
   "execution_count": 2,
   "metadata": {},
   "outputs": [],
   "source": [
    "from jetset.data_loader import Data\n",
    "data=Data(n_rows=10)"
   ]
  },
  {
   "cell_type": "markdown",
   "metadata": {},
   "source": [
    "we can easily access the astropy table"
   ]
  },
  {
   "cell_type": "code",
   "execution_count": 3,
   "metadata": {},
   "outputs": [
    {
     "data": {
      "text/html": [
       "<i>Table length=10</i>\n",
       "<table id=\"table4677994320\" class=\"table-striped table-bordered table-condensed\">\n",
       "<thead><tr><th>x</th><th>dx</th><th>y</th><th>dy</th><th>T_start</th><th>T_stop</th><th>UL</th><th>data_set</th></tr></thead>\n",
       "<thead><tr><th>Hz</th><th>Hz</th><th>erg / (cm2 s)</th><th>erg / (cm2 s)</th><th>MJD</th><th>MJD</th><th></th><th></th></tr></thead>\n",
       "<thead><tr><th>float64</th><th>float64</th><th>float64</th><th>float64</th><th>float64</th><th>float64</th><th>bool</th><th>bytes16</th></tr></thead>\n",
       "<tr><td>0.0</td><td>0.0</td><td>0.0</td><td>0.0</td><td>0.0</td><td>0.0</td><td>False</td><td>0.0</td></tr>\n",
       "<tr><td>0.0</td><td>0.0</td><td>0.0</td><td>0.0</td><td>0.0</td><td>0.0</td><td>False</td><td>0.0</td></tr>\n",
       "<tr><td>0.0</td><td>0.0</td><td>0.0</td><td>0.0</td><td>0.0</td><td>0.0</td><td>False</td><td>0.0</td></tr>\n",
       "<tr><td>0.0</td><td>0.0</td><td>0.0</td><td>0.0</td><td>0.0</td><td>0.0</td><td>False</td><td>0.0</td></tr>\n",
       "<tr><td>0.0</td><td>0.0</td><td>0.0</td><td>0.0</td><td>0.0</td><td>0.0</td><td>False</td><td>0.0</td></tr>\n",
       "<tr><td>0.0</td><td>0.0</td><td>0.0</td><td>0.0</td><td>0.0</td><td>0.0</td><td>False</td><td>0.0</td></tr>\n",
       "<tr><td>0.0</td><td>0.0</td><td>0.0</td><td>0.0</td><td>0.0</td><td>0.0</td><td>False</td><td>0.0</td></tr>\n",
       "<tr><td>0.0</td><td>0.0</td><td>0.0</td><td>0.0</td><td>0.0</td><td>0.0</td><td>False</td><td>0.0</td></tr>\n",
       "<tr><td>0.0</td><td>0.0</td><td>0.0</td><td>0.0</td><td>0.0</td><td>0.0</td><td>False</td><td>0.0</td></tr>\n",
       "<tr><td>0.0</td><td>0.0</td><td>0.0</td><td>0.0</td><td>0.0</td><td>0.0</td><td>False</td><td>0.0</td></tr>\n",
       "</table>"
      ],
      "text/plain": [
       "<Table length=10>\n",
       "   x       dx         y             dy      T_start  T_stop   UL  data_set\n",
       "   Hz      Hz   erg / (cm2 s) erg / (cm2 s)   MJD     MJD                 \n",
       "float64 float64    float64       float64    float64 float64  bool bytes16 \n",
       "------- ------- ------------- ------------- ------- ------- ----- --------\n",
       "    0.0     0.0           0.0           0.0     0.0     0.0 False      0.0\n",
       "    0.0     0.0           0.0           0.0     0.0     0.0 False      0.0\n",
       "    0.0     0.0           0.0           0.0     0.0     0.0 False      0.0\n",
       "    0.0     0.0           0.0           0.0     0.0     0.0 False      0.0\n",
       "    0.0     0.0           0.0           0.0     0.0     0.0 False      0.0\n",
       "    0.0     0.0           0.0           0.0     0.0     0.0 False      0.0\n",
       "    0.0     0.0           0.0           0.0     0.0     0.0 False      0.0\n",
       "    0.0     0.0           0.0           0.0     0.0     0.0 False      0.0\n",
       "    0.0     0.0           0.0           0.0     0.0     0.0 False      0.0\n",
       "    0.0     0.0           0.0           0.0     0.0     0.0 False      0.0"
      ]
     },
     "execution_count": 3,
     "metadata": {},
     "output_type": "execute_result"
    }
   ],
   "source": [
    "data.table"
   ]
  },
  {
   "cell_type": "markdown",
   "metadata": {},
   "source": [
    "- ``x`` column is reserved to frequencies (mandatory)\n",
    "- ``y`` columm is reserved to fluxes  (mandatory)\n",
    "- ``dx`` columm is reserved to the error on the frequency,or bin width\n",
    "- ``dy`` columm is reserved to the  error on the fluxes\n",
    "- ``UL`` columm is reserved to the flag for Upper Limit \n",
    "- ``T_start`` and ``T_stop`` are used to identify the time range to select data using the  class `ObsData`\n",
    "- ``data_set``"
   ]
  },
  {
   "cell_type": "code",
   "execution_count": 4,
   "metadata": {},
   "outputs": [
    {
     "data": {
      "text/html": [
       "&lt;Column name=&apos;x&apos; dtype=&apos;float64&apos; unit=&apos;Hz&apos; length=10&gt;\n",
       "<table>\n",
       "<tr><td>0.0</td></tr>\n",
       "<tr><td>0.0</td></tr>\n",
       "<tr><td>0.0</td></tr>\n",
       "<tr><td>0.0</td></tr>\n",
       "<tr><td>0.0</td></tr>\n",
       "<tr><td>0.0</td></tr>\n",
       "<tr><td>0.0</td></tr>\n",
       "<tr><td>0.0</td></tr>\n",
       "<tr><td>0.0</td></tr>\n",
       "<tr><td>0.0</td></tr>\n",
       "</table>"
      ],
      "text/plain": [
       "<Column name='x' dtype='float64' unit='Hz' length=10>\n",
       "0.0\n",
       "0.0\n",
       "0.0\n",
       "0.0\n",
       "0.0\n",
       "0.0\n",
       "0.0\n",
       "0.0\n",
       "0.0\n",
       "0.0"
      ]
     },
     "execution_count": 4,
     "metadata": {},
     "output_type": "execute_result"
    }
   ],
   "source": [
    "data.table['x']"
   ]
  },
  {
   "cell_type": "markdown",
   "metadata": {},
   "source": [
    "columns with units are implemeted using the `Units` module of astropy (https://docs.astropy.org/en/stable/units/)."
   ]
  },
  {
   "cell_type": "markdown",
   "metadata": {},
   "source": [
    "and we can easily access the metadata"
   ]
  },
  {
   "cell_type": "code",
   "execution_count": 5,
   "metadata": {},
   "outputs": [
    {
     "data": {
      "text/plain": [
       "OrderedDict([('z', 0),\n",
       "             ('UL_CL', 0.95),\n",
       "             ('restframe', 'obs'),\n",
       "             ('data_scale', 'lin-lin'),\n",
       "             ('obj_name', 'new-src')])"
      ]
     },
     "execution_count": 5,
     "metadata": {},
     "output_type": "execute_result"
    }
   ],
   "source": [
    "data.metadata"
   ]
  },
  {
   "cell_type": "markdown",
   "metadata": {},
   "source": [
    "- ``z``: the redshift of the object\n",
    "- ``UL_CL``: the CL for the UL\n",
    "- ``restframe``:  possible values``obs`` or ``src``, indicating if the data are observed flux, or luminosities, respectively\n",
    "- ``data_scale``: possible values``lin-lin`` or ``log-log``,  indicating if the data are in linear or logarithmic scale, respectively\n",
    "- ``obj_name``: the name of the object\n"
   ]
  },
  {
   "cell_type": "raw",
   "metadata": {},
   "source": [
    ".. note::\n",
    "   starting from version 1.1.0 ``src`` to ``obs`` transformation is available"
   ]
  },
  {
   "cell_type": "markdown",
   "metadata": {},
   "source": [
    "## loading from astropy table\n"
   ]
  },
  {
   "cell_type": "markdown",
   "metadata": {},
   "source": [
    "you can use the defualt SEDs distributed with the package to get familiar with data handling"
   ]
  },
  {
   "cell_type": "code",
   "execution_count": 6,
   "metadata": {},
   "outputs": [
    {
     "data": {
      "text/plain": [
       "['/Users/orion/anaconda3/envs/develop/lib/python3.7/site-packages/jetset-1.1.0-py3.7-macosx-10.7-x86_64.egg/jetset/test_data/SEDs_data/SED_3C345.ecsv',\n",
       " '/Users/orion/anaconda3/envs/develop/lib/python3.7/site-packages/jetset-1.1.0-py3.7-macosx-10.7-x86_64.egg/jetset/test_data/SEDs_data/SED_MW_Mrk421.ecsv',\n",
       " '/Users/orion/anaconda3/envs/develop/lib/python3.7/site-packages/jetset-1.1.0-py3.7-macosx-10.7-x86_64.egg/jetset/test_data/SEDs_data/SED_MW_Mrk501.ecsv']"
      ]
     },
     "execution_count": 6,
     "metadata": {},
     "output_type": "execute_result"
    }
   ],
   "source": [
    "from jetset.test_data_helper import  test_SEDs\n",
    "test_SEDs"
   ]
  },
  {
   "cell_type": "raw",
   "metadata": {},
   "source": [
    "As you can see there are three 3 files. We use in this example the file for Mrk 421, and we use class:`jetset.data_loader.Data` class  "
   ]
  },
  {
   "cell_type": "code",
   "execution_count": 7,
   "metadata": {},
   "outputs": [],
   "source": [
    "from jetset.data_loader import Data"
   ]
  },
  {
   "cell_type": "code",
   "execution_count": 8,
   "metadata": {},
   "outputs": [],
   "source": [
    "data=Data.from_file(data_table=test_SEDs[1])"
   ]
  },
  {
   "cell_type": "code",
   "execution_count": 9,
   "metadata": {},
   "outputs": [
    {
     "data": {
      "text/html": [
       "<i>Table length=110</i>\n",
       "<table id=\"table4684492432\" class=\"table-striped table-bordered table-condensed\">\n",
       "<thead><tr><th>x</th><th>dx</th><th>y</th><th>dy</th><th>T_start</th><th>T_stop</th><th>UL</th><th>data_set</th></tr></thead>\n",
       "<thead><tr><th>Hz</th><th>Hz</th><th>erg / (cm2 s)</th><th>erg / (cm2 s)</th><th>MJD</th><th>MJD</th><th></th><th></th></tr></thead>\n",
       "<thead><tr><th>float64</th><th>float64</th><th>float64</th><th>float64</th><th>float64</th><th>float64</th><th>bool</th><th>str13</th></tr></thead>\n",
       "<tr><td>2299540000.0</td><td>0.0</td><td>1.3409e-14</td><td>3.91e-16</td><td>0.0</td><td>0.0</td><td>False</td><td>campaing-2009</td></tr>\n",
       "<tr><td>2639697000.0</td><td>0.0</td><td>1.793088e-14</td><td>3.231099e-26</td><td>0.0</td><td>0.0</td><td>False</td><td>campaing-2009</td></tr>\n",
       "<tr><td>4799040000.0</td><td>0.0</td><td>2.3136e-14</td><td>2.4e-16</td><td>0.0</td><td>0.0</td><td>False</td><td>campaing-2009</td></tr>\n",
       "<tr><td>4805039000.0</td><td>0.0</td><td>1.773414e-14</td><td>1.773414e-15</td><td>0.0</td><td>0.0</td><td>False</td><td>campaing-2009</td></tr>\n",
       "<tr><td>4843552000.0</td><td>0.0</td><td>2.77614e-14</td><td>2.615339e-26</td><td>0.0</td><td>0.0</td><td>False</td><td>campaing-2009</td></tr>\n",
       "<tr><td>7698460000.0</td><td>0.0</td><td>3.696e-14</td><td>4.62e-16</td><td>0.0</td><td>0.0</td><td>False</td><td>campaing-2009</td></tr>\n",
       "<tr><td>8267346000.0</td><td>0.0</td><td>2.836267e-14</td><td>2.836267e-15</td><td>0.0</td><td>0.0</td><td>False</td><td>campaing-2009</td></tr>\n",
       "<tr><td>8331867000.0</td><td>0.0</td><td>3.98963e-14</td><td>3.627671e-26</td><td>0.0</td><td>0.0</td><td>False</td><td>campaing-2009</td></tr>\n",
       "<tr><td>8388659000.0</td><td>0.0</td><td>3.16345e-14</td><td>1.931495e-15</td><td>0.0</td><td>0.0</td><td>False</td><td>campaing-2009</td></tr>\n",
       "<tr><td>...</td><td>...</td><td>...</td><td>...</td><td>...</td><td>...</td><td>...</td><td>...</td></tr>\n",
       "<tr><td>2.417992e+25</td><td>0.0</td><td>9.754259e-11</td><td>3.560456e-11</td><td>0.0</td><td>0.0</td><td>False</td><td>campaing-2009</td></tr>\n",
       "<tr><td>3.823193e+25</td><td>0.0</td><td>8.199207e-11</td><td>7.050657e-12</td><td>0.0</td><td>0.0</td><td>False</td><td>campaing-2009</td></tr>\n",
       "<tr><td>6.059363e+25</td><td>0.0</td><td>5.614334e-11</td><td>5.793969e-12</td><td>0.0</td><td>0.0</td><td>False</td><td>campaing-2009</td></tr>\n",
       "<tr><td>6.073707e+25</td><td>0.0</td><td>1.14705e-10</td><td>6.573696e-11</td><td>0.0</td><td>0.0</td><td>False</td><td>campaing-2009</td></tr>\n",
       "<tr><td>9.603433e+25</td><td>0.0</td><td>4.662219e-11</td><td>5.097912e-12</td><td>0.0</td><td>0.0</td><td>False</td><td>campaing-2009</td></tr>\n",
       "<tr><td>1.522041e+26</td><td>0.0</td><td>5.221583e-11</td><td>4.89063e-12</td><td>0.0</td><td>0.0</td><td>False</td><td>campaing-2009</td></tr>\n",
       "<tr><td>2.41227e+26</td><td>0.0</td><td>3.66834e-11</td><td>4.682033e-12</td><td>0.0</td><td>0.0</td><td>False</td><td>campaing-2009</td></tr>\n",
       "<tr><td>3.823193e+26</td><td>0.0</td><td>2.247871e-11</td><td>4.343216e-12</td><td>0.0</td><td>0.0</td><td>False</td><td>campaing-2009</td></tr>\n",
       "<tr><td>6.059363e+26</td><td>0.0</td><td>1.972081e-11</td><td>4.407365e-12</td><td>0.0</td><td>0.0</td><td>False</td><td>campaing-2009</td></tr>\n",
       "<tr><td>9.603433e+26</td><td>0.0</td><td>7.994215e-12</td><td>3.469109e-12</td><td>0.0</td><td>0.0</td><td>False</td><td>campaing-2009</td></tr>\n",
       "</table>"
      ],
      "text/plain": [
       "<Table length=110>\n",
       "     x          dx         y             dy      ...  T_stop   UL     data_set  \n",
       "     Hz         Hz   erg / (cm2 s) erg / (cm2 s) ...   MJD                      \n",
       "  float64    float64    float64       float64    ... float64  bool     str13    \n",
       "------------ ------- ------------- ------------- ... ------- ----- -------------\n",
       "2299540000.0     0.0    1.3409e-14      3.91e-16 ...     0.0 False campaing-2009\n",
       "2639697000.0     0.0  1.793088e-14  3.231099e-26 ...     0.0 False campaing-2009\n",
       "4799040000.0     0.0    2.3136e-14       2.4e-16 ...     0.0 False campaing-2009\n",
       "4805039000.0     0.0  1.773414e-14  1.773414e-15 ...     0.0 False campaing-2009\n",
       "4843552000.0     0.0   2.77614e-14  2.615339e-26 ...     0.0 False campaing-2009\n",
       "7698460000.0     0.0     3.696e-14      4.62e-16 ...     0.0 False campaing-2009\n",
       "8267346000.0     0.0  2.836267e-14  2.836267e-15 ...     0.0 False campaing-2009\n",
       "8331867000.0     0.0   3.98963e-14  3.627671e-26 ...     0.0 False campaing-2009\n",
       "8388659000.0     0.0   3.16345e-14  1.931495e-15 ...     0.0 False campaing-2009\n",
       "         ...     ...           ...           ... ...     ...   ...           ...\n",
       "2.417992e+25     0.0  9.754259e-11  3.560456e-11 ...     0.0 False campaing-2009\n",
       "3.823193e+25     0.0  8.199207e-11  7.050657e-12 ...     0.0 False campaing-2009\n",
       "6.059363e+25     0.0  5.614334e-11  5.793969e-12 ...     0.0 False campaing-2009\n",
       "6.073707e+25     0.0   1.14705e-10  6.573696e-11 ...     0.0 False campaing-2009\n",
       "9.603433e+25     0.0  4.662219e-11  5.097912e-12 ...     0.0 False campaing-2009\n",
       "1.522041e+26     0.0  5.221583e-11   4.89063e-12 ...     0.0 False campaing-2009\n",
       " 2.41227e+26     0.0   3.66834e-11  4.682033e-12 ...     0.0 False campaing-2009\n",
       "3.823193e+26     0.0  2.247871e-11  4.343216e-12 ...     0.0 False campaing-2009\n",
       "6.059363e+26     0.0  1.972081e-11  4.407365e-12 ...     0.0 False campaing-2009\n",
       "9.603433e+26     0.0  7.994215e-12  3.469109e-12 ...     0.0 False campaing-2009"
      ]
     },
     "execution_count": 9,
     "metadata": {},
     "output_type": "execute_result"
    }
   ],
   "source": [
    "data.table"
   ]
  },
  {
   "cell_type": "code",
   "execution_count": 10,
   "metadata": {},
   "outputs": [
    {
     "data": {
      "text/plain": [
       "OrderedDict([('z', 0.0308),\n",
       "             ('restframe', 'obs'),\n",
       "             ('data_scale', 'lin-lin'),\n",
       "             ('obj_name', 'J1104+3812,Mrk421')])"
      ]
     },
     "execution_count": 10,
     "metadata": {},
     "output_type": "execute_result"
    }
   ],
   "source": [
    "data.metadata"
   ]
  },
  {
   "cell_type": "raw",
   "metadata": {},
   "source": [
    "this is an extract of the  astropy table saved in the format ``ascii.ecsv`` "
   ]
  },
  {
   "cell_type": "markdown",
   "metadata": {},
   "source": [
    "```\n",
    "# %ECSV 0.9\n",
    "# ---\n",
    "# datatype:\n",
    "# - {name: x, unit: Hz, datatype: float64}\n",
    "# - {name: dx, unit: Hz, datatype: float64}\n",
    "# - {name: y, unit: erg / (cm2 s), datatype: float64}\n",
    "# - {name: dy, unit: erg / (cm2 s), datatype: float64}\n",
    "# - {name: T_start, unit: MJD, datatype: float64}\n",
    "# - {name: T_stop, unit: MJD, datatype: float64}\n",
    "# - {name: UL, datatype: bool}\n",
    "# - {name: data_set, datatype: string}\n",
    "# meta: !!omap\n",
    "# - {z: 0.0308}\n",
    "# - {restframe: obs}\n",
    "# - {data_scale: lin-lin}\n",
    "# - {obj_name: 'J1104+3812,Mrk421'}\n",
    "# schema: astropy-2.0\n",
    "x dx y dy T_start T_stop UL data_set\n",
    "2299540000.0 0.0 1.3409e-14 3.91e-16 0.0 0.0 False campaing-2009\n",
    "2639697000.0 0.0 1.793088e-14 3.231099e-26 0.0 0.0 False campaing-2009\n",
    "4799040000.0 0.0 2.3136e-14 2.4e-16 0.0 0.0 False campaing-2009\n",
    "```\n"
   ]
  },
  {
   "cell_type": "markdown",
   "metadata": {},
   "source": [
    "## saving to a file\n"
   ]
  },
  {
   "cell_type": "code",
   "execution_count": 11,
   "metadata": {},
   "outputs": [],
   "source": [
    "data.save_file('test.ecsv')"
   ]
  },
  {
   "cell_type": "markdown",
   "metadata": {},
   "source": [
    "the data can be loaded from the saved table"
   ]
  },
  {
   "cell_type": "code",
   "execution_count": 12,
   "metadata": {},
   "outputs": [],
   "source": [
    "data=Data.from_file('test.ecsv')"
   ]
  },
  {
   "cell_type": "code",
   "execution_count": 13,
   "metadata": {},
   "outputs": [
    {
     "data": {
      "text/html": [
       "<i>Table length=110</i>\n",
       "<table id=\"table4684664464\" class=\"table-striped table-bordered table-condensed\">\n",
       "<thead><tr><th>x</th><th>dx</th><th>y</th><th>dy</th><th>T_start</th><th>T_stop</th><th>UL</th><th>data_set</th></tr></thead>\n",
       "<thead><tr><th>Hz</th><th>Hz</th><th>erg / (cm2 s)</th><th>erg / (cm2 s)</th><th>MJD</th><th>MJD</th><th></th><th></th></tr></thead>\n",
       "<thead><tr><th>float64</th><th>float64</th><th>float64</th><th>float64</th><th>float64</th><th>float64</th><th>bool</th><th>str13</th></tr></thead>\n",
       "<tr><td>2299540000.0</td><td>0.0</td><td>1.3409e-14</td><td>3.91e-16</td><td>0.0</td><td>0.0</td><td>False</td><td>campaing-2009</td></tr>\n",
       "<tr><td>2639697000.0</td><td>0.0</td><td>1.793088e-14</td><td>3.231099e-26</td><td>0.0</td><td>0.0</td><td>False</td><td>campaing-2009</td></tr>\n",
       "<tr><td>4799040000.0</td><td>0.0</td><td>2.3136e-14</td><td>2.4e-16</td><td>0.0</td><td>0.0</td><td>False</td><td>campaing-2009</td></tr>\n",
       "<tr><td>4805039000.0</td><td>0.0</td><td>1.773414e-14</td><td>1.773414e-15</td><td>0.0</td><td>0.0</td><td>False</td><td>campaing-2009</td></tr>\n",
       "<tr><td>4843552000.0</td><td>0.0</td><td>2.77614e-14</td><td>2.615339e-26</td><td>0.0</td><td>0.0</td><td>False</td><td>campaing-2009</td></tr>\n",
       "<tr><td>7698460000.0</td><td>0.0</td><td>3.696e-14</td><td>4.62e-16</td><td>0.0</td><td>0.0</td><td>False</td><td>campaing-2009</td></tr>\n",
       "<tr><td>8267346000.0</td><td>0.0</td><td>2.836267e-14</td><td>2.836267e-15</td><td>0.0</td><td>0.0</td><td>False</td><td>campaing-2009</td></tr>\n",
       "<tr><td>8331867000.0</td><td>0.0</td><td>3.98963e-14</td><td>3.627671e-26</td><td>0.0</td><td>0.0</td><td>False</td><td>campaing-2009</td></tr>\n",
       "<tr><td>8388659000.0</td><td>0.0</td><td>3.16345e-14</td><td>1.931495e-15</td><td>0.0</td><td>0.0</td><td>False</td><td>campaing-2009</td></tr>\n",
       "<tr><td>...</td><td>...</td><td>...</td><td>...</td><td>...</td><td>...</td><td>...</td><td>...</td></tr>\n",
       "<tr><td>2.417992e+25</td><td>0.0</td><td>9.754259e-11</td><td>3.560456e-11</td><td>0.0</td><td>0.0</td><td>False</td><td>campaing-2009</td></tr>\n",
       "<tr><td>3.823193e+25</td><td>0.0</td><td>8.199207e-11</td><td>7.050657e-12</td><td>0.0</td><td>0.0</td><td>False</td><td>campaing-2009</td></tr>\n",
       "<tr><td>6.059363e+25</td><td>0.0</td><td>5.614334e-11</td><td>5.793969e-12</td><td>0.0</td><td>0.0</td><td>False</td><td>campaing-2009</td></tr>\n",
       "<tr><td>6.073707e+25</td><td>0.0</td><td>1.14705e-10</td><td>6.573696e-11</td><td>0.0</td><td>0.0</td><td>False</td><td>campaing-2009</td></tr>\n",
       "<tr><td>9.603433e+25</td><td>0.0</td><td>4.662219e-11</td><td>5.097912e-12</td><td>0.0</td><td>0.0</td><td>False</td><td>campaing-2009</td></tr>\n",
       "<tr><td>1.522041e+26</td><td>0.0</td><td>5.221583e-11</td><td>4.89063e-12</td><td>0.0</td><td>0.0</td><td>False</td><td>campaing-2009</td></tr>\n",
       "<tr><td>2.41227e+26</td><td>0.0</td><td>3.66834e-11</td><td>4.682033e-12</td><td>0.0</td><td>0.0</td><td>False</td><td>campaing-2009</td></tr>\n",
       "<tr><td>3.823193e+26</td><td>0.0</td><td>2.247871e-11</td><td>4.343216e-12</td><td>0.0</td><td>0.0</td><td>False</td><td>campaing-2009</td></tr>\n",
       "<tr><td>6.059363e+26</td><td>0.0</td><td>1.972081e-11</td><td>4.407365e-12</td><td>0.0</td><td>0.0</td><td>False</td><td>campaing-2009</td></tr>\n",
       "<tr><td>9.603433e+26</td><td>0.0</td><td>7.994215e-12</td><td>3.469109e-12</td><td>0.0</td><td>0.0</td><td>False</td><td>campaing-2009</td></tr>\n",
       "</table>"
      ],
      "text/plain": [
       "<Table length=110>\n",
       "     x          dx         y             dy      ...  T_stop   UL     data_set  \n",
       "     Hz         Hz   erg / (cm2 s) erg / (cm2 s) ...   MJD                      \n",
       "  float64    float64    float64       float64    ... float64  bool     str13    \n",
       "------------ ------- ------------- ------------- ... ------- ----- -------------\n",
       "2299540000.0     0.0    1.3409e-14      3.91e-16 ...     0.0 False campaing-2009\n",
       "2639697000.0     0.0  1.793088e-14  3.231099e-26 ...     0.0 False campaing-2009\n",
       "4799040000.0     0.0    2.3136e-14       2.4e-16 ...     0.0 False campaing-2009\n",
       "4805039000.0     0.0  1.773414e-14  1.773414e-15 ...     0.0 False campaing-2009\n",
       "4843552000.0     0.0   2.77614e-14  2.615339e-26 ...     0.0 False campaing-2009\n",
       "7698460000.0     0.0     3.696e-14      4.62e-16 ...     0.0 False campaing-2009\n",
       "8267346000.0     0.0  2.836267e-14  2.836267e-15 ...     0.0 False campaing-2009\n",
       "8331867000.0     0.0   3.98963e-14  3.627671e-26 ...     0.0 False campaing-2009\n",
       "8388659000.0     0.0   3.16345e-14  1.931495e-15 ...     0.0 False campaing-2009\n",
       "         ...     ...           ...           ... ...     ...   ...           ...\n",
       "2.417992e+25     0.0  9.754259e-11  3.560456e-11 ...     0.0 False campaing-2009\n",
       "3.823193e+25     0.0  8.199207e-11  7.050657e-12 ...     0.0 False campaing-2009\n",
       "6.059363e+25     0.0  5.614334e-11  5.793969e-12 ...     0.0 False campaing-2009\n",
       "6.073707e+25     0.0   1.14705e-10  6.573696e-11 ...     0.0 False campaing-2009\n",
       "9.603433e+25     0.0  4.662219e-11  5.097912e-12 ...     0.0 False campaing-2009\n",
       "1.522041e+26     0.0  5.221583e-11   4.89063e-12 ...     0.0 False campaing-2009\n",
       " 2.41227e+26     0.0   3.66834e-11  4.682033e-12 ...     0.0 False campaing-2009\n",
       "3.823193e+26     0.0  2.247871e-11  4.343216e-12 ...     0.0 False campaing-2009\n",
       "6.059363e+26     0.0  1.972081e-11  4.407365e-12 ...     0.0 False campaing-2009\n",
       "9.603433e+26     0.0  7.994215e-12  3.469109e-12 ...     0.0 False campaing-2009"
      ]
     },
     "execution_count": 13,
     "metadata": {},
     "output_type": "execute_result"
    }
   ],
   "source": [
    "data.table"
   ]
  },
  {
   "cell_type": "raw",
   "metadata": {},
   "source": [
    ".. _import:"
   ]
  },
  {
   "cell_type": "markdown",
   "metadata": {},
   "source": [
    "\n",
    "## importing data from an arbitrary ascii file or numpy array\n"
   ]
  },
  {
   "cell_type": "markdown",
   "metadata": {},
   "source": [
    "Assume that your data are stored in an ASCII file named 'test-ascii.txt', with\n",
    "- ``x`` in the first column with frequency in ``Hz`` , \n",
    "- ``y`` in the second column with fluxes in erg ``cm-2 s-1``, \n",
    "- ``dy`` in the third column with the same units as ``y``\n",
    "- the data are  in ``log-log`` scale\n",
    "\n",
    "**of course the column number depends on the file that you are using, this is only an example**"
   ]
  },
  {
   "cell_type": "code",
   "execution_count": 14,
   "metadata": {},
   "outputs": [],
   "source": [
    "from jetset.data_loader import Data\n",
    "import numpy as np\n",
    "\n",
    "d=np.genfromtxt('test-ascii.txt')\n",
    "data=Data(n_rows=d.shape[0])\n",
    "data.set_field('x',d[:,0])\n",
    "data.set_field('y',d[:,1])\n",
    "data.set_field('dy',value=d[:,2])"
   ]
  },
  {
   "cell_type": "markdown",
   "metadata": {},
   "source": [
    "then you can set the meatdata as follows"
   ]
  },
  {
   "cell_type": "code",
   "execution_count": 15,
   "metadata": {},
   "outputs": [],
   "source": [
    "data.set_meta_data('z',1.02)\n",
    "data.set_meta_data('restframe','obs')\n",
    "data.set_meta_data('data_scale','log-log')\n"
   ]
  },
  {
   "cell_type": "markdown",
   "metadata": {},
   "source": [
    "of course this method applies if you have a generic 2-dim numpy array."
   ]
  },
  {
   "cell_type": "code",
   "execution_count": 16,
   "metadata": {},
   "outputs": [
    {
     "data": {
      "text/html": [
       "<i>Table length=20</i>\n",
       "<table id=\"table4684799184\" class=\"table-striped table-bordered table-condensed\">\n",
       "<thead><tr><th>x</th><th>dx</th><th>y</th><th>dy</th><th>T_start</th><th>T_stop</th><th>UL</th><th>data_set</th></tr></thead>\n",
       "<thead><tr><th>Hz</th><th>Hz</th><th>erg / (cm2 s)</th><th>erg / (cm2 s)</th><th>MJD</th><th>MJD</th><th></th><th></th></tr></thead>\n",
       "<thead><tr><th>float64</th><th>float64</th><th>float64</th><th>float64</th><th>float64</th><th>float64</th><th>bool</th><th>bytes16</th></tr></thead>\n",
       "<tr><td>24.161967</td><td>0.0</td><td>-12.497324</td><td>0.334376</td><td>0.0</td><td>0.0</td><td>False</td><td>0.0</td></tr>\n",
       "<tr><td>25.161967</td><td>0.0</td><td>-12.512137</td><td>0.636293</td><td>0.0</td><td>0.0</td><td>False</td><td>0.0</td></tr>\n",
       "<tr><td>23.161967</td><td>0.0</td><td>-12.444346</td><td>0.38048</td><td>0.0</td><td>0.0</td><td>False</td><td>0.0</td></tr>\n",
       "<tr><td>23.684845</td><td>0.0</td><td>-12.257916</td><td>0.164397</td><td>0.0</td><td>0.0</td><td>False</td><td>0.0</td></tr>\n",
       "<tr><td>22.684845</td><td>0.0</td><td>-12.000541</td><td>0.0</td><td>0.0</td><td>0.0</td><td>False</td><td>0.0</td></tr>\n",
       "<tr><td>15.2900346113625</td><td>0.0</td><td>-13.3225755622988</td><td>0.127157926321555</td><td>0.0</td><td>0.0</td><td>False</td><td>0.0</td></tr>\n",
       "<tr><td>15.1105897102992</td><td>0.0</td><td>-12.7495312032995</td><td>0.40748532657827</td><td>0.0</td><td>0.0</td><td>False</td><td>0.0</td></tr>\n",
       "<tr><td>15.1105897102992</td><td>0.0</td><td>-12.8808101179388</td><td>0.410904985836407</td><td>0.0</td><td>0.0</td><td>False</td><td>0.0</td></tr>\n",
       "<tr><td>14.6702458530741</td><td>0.0</td><td>-12.477274153289</td><td>0.0</td><td>0.0</td><td>0.0</td><td>False</td><td>0.0</td></tr>\n",
       "<tr><td>14.5888317255942</td><td>0.0</td><td>-12.875874154363</td><td>0.0</td><td>0.0</td><td>0.0</td><td>False</td><td>0.0</td></tr>\n",
       "<tr><td>10.644439</td><td>0.0</td><td>-12.515761</td><td>0.090508</td><td>0.0</td><td>0.0</td><td>False</td><td>0.0</td></tr>\n",
       "<tr><td>10.477121</td><td>0.0</td><td>-12.665868</td><td>0.072712</td><td>0.0</td><td>0.0</td><td>False</td><td>0.0</td></tr>\n",
       "<tr><td>10.2988530764097</td><td>0.0</td><td>-13.2322481107094</td><td>0.486627579841286</td><td>0.0</td><td>0.0</td><td>False</td><td>0.0</td></tr>\n",
       "<tr><td>10.1760912590557</td><td>0.0</td><td>-13.3326058184618</td><td>0.935000421715186</td><td>0.0</td><td>0.0</td><td>False</td><td>0.0</td></tr>\n",
       "<tr><td>9.93449845124357</td><td>0.0</td><td>-13.6367199590836</td><td>0.0</td><td>0.0</td><td>0.0</td><td>False</td><td>0.0</td></tr>\n",
       "<tr><td>9.92427928606188</td><td>0.0</td><td>-13.5500291112572</td><td>0.0</td><td>0.0</td><td>0.0</td><td>False</td><td>0.0</td></tr>\n",
       "<tr><td>9.68574173860226</td><td>0.0</td><td>-13.7561818857395</td><td>0.427742607163214</td><td>0.0</td><td>0.0</td><td>False</td><td>0.0</td></tr>\n",
       "<tr><td>9.36172783601759</td><td>0.0</td><td>-14.121068671527</td><td>0.0</td><td>0.0</td><td>0.0</td><td>False</td><td>0.0</td></tr>\n",
       "<tr><td>9.14612803567824</td><td>0.0</td><td>-14.5547242324656</td><td>0.682147390735292</td><td>0.0</td><td>0.0</td><td>False</td><td>0.0</td></tr>\n",
       "<tr><td>7.86805636182304</td><td>0.0</td><td>-15.4827165132972</td><td>0.025977834481891</td><td>0.0</td><td>0.0</td><td>False</td><td>0.0</td></tr>\n",
       "</table>"
      ],
      "text/plain": [
       "<Table length=20>\n",
       "       x            dx           y         ...  T_stop   UL  data_set\n",
       "       Hz           Hz     erg / (cm2 s)   ...   MJD                 \n",
       "    float64      float64      float64      ... float64  bool bytes16 \n",
       "---------------- ------- ----------------- ... ------- ----- --------\n",
       "       24.161967     0.0        -12.497324 ...     0.0 False      0.0\n",
       "       25.161967     0.0        -12.512137 ...     0.0 False      0.0\n",
       "       23.161967     0.0        -12.444346 ...     0.0 False      0.0\n",
       "       23.684845     0.0        -12.257916 ...     0.0 False      0.0\n",
       "       22.684845     0.0        -12.000541 ...     0.0 False      0.0\n",
       "15.2900346113625     0.0 -13.3225755622988 ...     0.0 False      0.0\n",
       "15.1105897102992     0.0 -12.7495312032995 ...     0.0 False      0.0\n",
       "15.1105897102992     0.0 -12.8808101179388 ...     0.0 False      0.0\n",
       "14.6702458530741     0.0  -12.477274153289 ...     0.0 False      0.0\n",
       "14.5888317255942     0.0  -12.875874154363 ...     0.0 False      0.0\n",
       "       10.644439     0.0        -12.515761 ...     0.0 False      0.0\n",
       "       10.477121     0.0        -12.665868 ...     0.0 False      0.0\n",
       "10.2988530764097     0.0 -13.2322481107094 ...     0.0 False      0.0\n",
       "10.1760912590557     0.0 -13.3326058184618 ...     0.0 False      0.0\n",
       "9.93449845124357     0.0 -13.6367199590836 ...     0.0 False      0.0\n",
       "9.92427928606188     0.0 -13.5500291112572 ...     0.0 False      0.0\n",
       "9.68574173860226     0.0 -13.7561818857395 ...     0.0 False      0.0\n",
       "9.36172783601759     0.0  -14.121068671527 ...     0.0 False      0.0\n",
       "9.14612803567824     0.0 -14.5547242324656 ...     0.0 False      0.0\n",
       "7.86805636182304     0.0 -15.4827165132972 ...     0.0 False      0.0"
      ]
     },
     "execution_count": 16,
     "metadata": {},
     "output_type": "execute_result"
    }
   ],
   "source": [
    "data.table"
   ]
  },
  {
   "cell_type": "markdown",
   "metadata": {},
   "source": [
    "## importing data from a generic astropy table mapping columns\n"
   ]
  },
  {
   "cell_type": "markdown",
   "metadata": {},
   "source": [
    "If you want to use a ``TABLE`` whith arbitrary column names, you can use an import dictionary, mapping the input name to the target.\n",
    "E.g. assume that you column in the input table coloumn named ``freq`` that should target the ``x`` column, and another named \n",
    "``freq err`` associated to ``dx`` you can simply pass the dictionary to the ``from_file`` method:"
   ]
  },
  {
   "cell_type": "markdown",
   "metadata": {},
   "source": [
    "```python\n",
    "data=Data.from_file(data_table='your-file',import_dictionary={'freq':'x','freq err':'dx'})\n",
    "```"
   ]
  },
  {
   "cell_type": "markdown",
   "metadata": {},
   "source": [
    "## importing data from the asi ssdc sedtool\n"
   ]
  },
  {
   "cell_type": "markdown",
   "metadata": {},
   "source": [
    "To import data from a data file downloaded from the asi ssdc sedtool: https://tools.ssdc.asi.it/SED/  "
   ]
  },
  {
   "cell_type": "raw",
   "metadata": {},
   "source": [
    "we can use the importing tool in the :class:`jetset.data_loader.Data`. We just need to have the file downloaded from the asi ssdc sedtool, and to know the redshift of the object, the scale we selected (lin-lin, or log-log).\n",
    "Assume that we downloaded the data for Mrk421, in observed fluxes and linear scale, and the data are saved in the file 'MRK421_asdc.txt', we only have to do:"
   ]
  },
  {
   "cell_type": "code",
   "execution_count": 17,
   "metadata": {},
   "outputs": [],
   "source": [
    "from jetset.data_loader import Data\n",
    "data=Data.from_asdc(asdc_sed_file='MRK421_asdc.txt',obj_name='Mrk421',restframe='obs',data_scale='lin-lin',z=0.038)\n"
   ]
  },
  {
   "cell_type": "raw",
   "metadata": {},
   "source": [
    ".. note::\n",
    "   starting from version 1.1.0 ``src`` to ``obs`` transformation is available"
   ]
  },
  {
   "cell_type": "code",
   "execution_count": 18,
   "metadata": {},
   "outputs": [
    {
     "data": {
      "text/html": [
       "<i>Table length=3550</i>\n",
       "<table id=\"table4684797328\" class=\"table-striped table-bordered table-condensed\">\n",
       "<thead><tr><th>x</th><th>dx</th><th>y</th><th>dy</th><th>T_start</th><th>T_stop</th><th>UL</th><th>data_set</th></tr></thead>\n",
       "<thead><tr><th>Hz</th><th>Hz</th><th>erg / (cm2 s)</th><th>erg / (cm2 s)</th><th>MJD</th><th>MJD</th><th></th><th></th></tr></thead>\n",
       "<thead><tr><th>float64</th><th>float64</th><th>float64</th><th>float64</th><th>float64</th><th>float64</th><th>bool</th><th>bytes16</th></tr></thead>\n",
       "<tr><td>1.395e+17</td><td>2.077e+16</td><td>1.3665e-10</td><td>7.8618e-12</td><td>50569.13745</td><td>50569.61257</td><td>False</td><td>0.0</td></tr>\n",
       "<tr><td>1.883e+17</td><td>2.805e+16</td><td>1.3231e-10</td><td>5.2986e-12</td><td>50569.13745</td><td>50569.61257</td><td>False</td><td>0.0</td></tr>\n",
       "<tr><td>2.542e+17</td><td>3.786e+16</td><td>1.2801e-10</td><td>4.5958e-12</td><td>50569.13745</td><td>50569.61257</td><td>False</td><td>0.0</td></tr>\n",
       "<tr><td>3.432e+17</td><td>5.111e+16</td><td>1.1696e-10</td><td>4.4475e-12</td><td>50569.13745</td><td>50569.61257</td><td>False</td><td>0.0</td></tr>\n",
       "<tr><td>4.633e+17</td><td>6.901e+16</td><td>1.0488e-10</td><td>2.8152e-12</td><td>50569.13745</td><td>50569.61257</td><td>False</td><td>0.0</td></tr>\n",
       "<tr><td>6.255e+17</td><td>9.316e+16</td><td>8.8421e-11</td><td>2.2462e-12</td><td>50569.13745</td><td>50569.61257</td><td>False</td><td>0.0</td></tr>\n",
       "<tr><td>8.444e+17</td><td>1.258e+17</td><td>7.2995e-11</td><td>2.3614e-12</td><td>50569.13745</td><td>50569.61257</td><td>False</td><td>0.0</td></tr>\n",
       "<tr><td>1.14e+18</td><td>1.698e+17</td><td>5.7982e-11</td><td>2.5232e-12</td><td>50569.13745</td><td>50569.61257</td><td>False</td><td>0.0</td></tr>\n",
       "<tr><td>1.539e+18</td><td>2.292e+17</td><td>4.52e-11</td><td>2.9633e-12</td><td>50569.13745</td><td>50569.61257</td><td>False</td><td>0.0</td></tr>\n",
       "<tr><td>...</td><td>...</td><td>...</td><td>...</td><td>...</td><td>...</td><td>...</td><td>...</td></tr>\n",
       "<tr><td>4850000000.0</td><td>0.0</td><td>2.9604e-14</td><td>2.425e-17</td><td>0.0</td><td>0.0</td><td>False</td><td>0.0</td></tr>\n",
       "<tr><td>1400000000.0</td><td>0.0</td><td>5.0638e-16</td><td>2.31e-18</td><td>49078.5</td><td>49443.5</td><td>False</td><td>0.0</td></tr>\n",
       "<tr><td>1400000000.0</td><td>0.0</td><td>1.68e-17</td><td>2.296e-18</td><td>49078.5</td><td>49443.5</td><td>False</td><td>0.0</td></tr>\n",
       "<tr><td>1400000000.0</td><td>0.0</td><td>8.0331e-15</td><td>2.31e-18</td><td>49078.5</td><td>49443.5</td><td>False</td><td>0.0</td></tr>\n",
       "<tr><td>408000000.0</td><td>0.0</td><td>4.692e-15</td><td>0.0</td><td>0.0</td><td>0.0</td><td>False</td><td>0.0</td></tr>\n",
       "<tr><td>2700000000.0</td><td>0.0</td><td>2.079e-14</td><td>0.0</td><td>0.0</td><td>0.0</td><td>False</td><td>0.0</td></tr>\n",
       "<tr><td>10700000000.0</td><td>0.0</td><td>8.453e-14</td><td>0.0</td><td>0.0</td><td>0.0</td><td>False</td><td>0.0</td></tr>\n",
       "<tr><td>5000000000.0</td><td>0.0</td><td>3.625e-14</td><td>0.0</td><td>0.0</td><td>0.0</td><td>False</td><td>0.0</td></tr>\n",
       "<tr><td>8460000000.0</td><td>0.0</td><td>5.3433e-14</td><td>3.384e-17</td><td>47941.5</td><td>47941.5</td><td>False</td><td>0.0</td></tr>\n",
       "<tr><td>8400000000.0</td><td>0.0</td><td>5.3054e-14</td><td>0.0</td><td>0.0</td><td>0.0</td><td>False</td><td>0.0</td></tr>\n",
       "</table>"
      ],
      "text/plain": [
       "<Table length=3550>\n",
       "      x           dx          y       ...    T_stop     UL  data_set\n",
       "      Hz          Hz    erg / (cm2 s) ...     MJD                   \n",
       "   float64     float64     float64    ...   float64    bool bytes16 \n",
       "------------- --------- ------------- ... ----------- ----- --------\n",
       "    1.395e+17 2.077e+16    1.3665e-10 ... 50569.61257 False      0.0\n",
       "    1.883e+17 2.805e+16    1.3231e-10 ... 50569.61257 False      0.0\n",
       "    2.542e+17 3.786e+16    1.2801e-10 ... 50569.61257 False      0.0\n",
       "    3.432e+17 5.111e+16    1.1696e-10 ... 50569.61257 False      0.0\n",
       "    4.633e+17 6.901e+16    1.0488e-10 ... 50569.61257 False      0.0\n",
       "    6.255e+17 9.316e+16    8.8421e-11 ... 50569.61257 False      0.0\n",
       "    8.444e+17 1.258e+17    7.2995e-11 ... 50569.61257 False      0.0\n",
       "     1.14e+18 1.698e+17    5.7982e-11 ... 50569.61257 False      0.0\n",
       "    1.539e+18 2.292e+17      4.52e-11 ... 50569.61257 False      0.0\n",
       "          ...       ...           ... ...         ...   ...      ...\n",
       " 4850000000.0       0.0    2.9604e-14 ...         0.0 False      0.0\n",
       " 1400000000.0       0.0    5.0638e-16 ...     49443.5 False      0.0\n",
       " 1400000000.0       0.0      1.68e-17 ...     49443.5 False      0.0\n",
       " 1400000000.0       0.0    8.0331e-15 ...     49443.5 False      0.0\n",
       "  408000000.0       0.0     4.692e-15 ...         0.0 False      0.0\n",
       " 2700000000.0       0.0     2.079e-14 ...         0.0 False      0.0\n",
       "10700000000.0       0.0     8.453e-14 ...         0.0 False      0.0\n",
       " 5000000000.0       0.0     3.625e-14 ...         0.0 False      0.0\n",
       " 8460000000.0       0.0    5.3433e-14 ...     47941.5 False      0.0\n",
       " 8400000000.0       0.0    5.3054e-14 ...         0.0 False      0.0"
      ]
     },
     "execution_count": 18,
     "metadata": {},
     "output_type": "execute_result"
    }
   ],
   "source": [
    "data.table"
   ]
  },
  {
   "cell_type": "raw",
   "metadata": {},
   "source": [
    ".. note::\n",
    "   When importing data from the ``src`` frame, the Data constructor will not convert units, but will assume that input units are erg/s. If this is not the case an error message will be displayed"
   ]
  },
  {
   "cell_type": "markdown",
   "metadata": {},
   "source": [
    "## Building the SED\n"
   ]
  },
  {
   "cell_type": "raw",
   "metadata": {},
   "source": [
    "Once we have a data table built with the class:`jetset.data_loader.Data`, following  one of the method described above, you can create  SED data using the  :class:`jetset.data_loader.ObsData` class.\n",
    "In the example we use one of the test SEDs provided by the package:"
   ]
  },
  {
   "cell_type": "raw",
   "metadata": {},
   "source": [
    "We start to loading  the SED of  Mrk 421, and we pass to ``ObsData`` directly the path to the file, because this is already in the format that we need and that we have discussed above."
   ]
  },
  {
   "cell_type": "markdown",
   "metadata": {},
   "source": []
  },
  {
   "cell_type": "code",
   "execution_count": 19,
   "metadata": {},
   "outputs": [],
   "source": [
    "from jetset.data_loader import Data\n",
    "from jetset.data_loader import ObsData\n",
    "from jetset.test_data_helper import  test_SEDs\n",
    "\n",
    "data_table=Data.from_file(test_SEDs[1])\n",
    "sed_data=ObsData(data_table=data_table)"
   ]
  },
  {
   "cell_type": "raw",
   "metadata": {},
   "source": [
    "if you want to use a comoslogy model different from the dafault one please read the :ref:`cosmology` section"
   ]
  },
  {
   "cell_type": "markdown",
   "metadata": {},
   "source": [
    "As you can see all the meta-data have been properly sourced from the SED file header. You also get information on \n",
    "the length of the data, before and after elimination of duplicated entries, and upper limits"
   ]
  },
  {
   "cell_type": "code",
   "execution_count": 20,
   "metadata": {},
   "outputs": [
    {
     "data": {
      "text/html": [
       "<i>Table length=110</i>\n",
       "<table id=\"table4684678864\" class=\"table-striped table-bordered table-condensed\">\n",
       "<thead><tr><th>nu_data</th><th>dnu_data</th><th>nuFnu_data</th><th>dnuFnu_data</th><th>nu_data_log</th><th>dnu_data_log</th><th>nuFnu_data_log</th><th>dnuFnu_data_log</th><th>dnuFnu_facke</th><th>dnuFnu_facke_log</th><th>UL</th><th>zero_error</th><th>T_start</th><th>T_stop</th><th>data_set</th></tr></thead>\n",
       "<thead><tr><th>Hz</th><th>Hz</th><th>erg / (cm2 s)</th><th>erg / (cm2 s)</th><th>Hz</th><th>Hz</th><th>erg / (cm2 s)</th><th>erg / (cm2 s)</th><th>erg / (cm2 s)</th><th></th><th></th><th></th><th>MJD</th><th>MJD</th><th></th></tr></thead>\n",
       "<thead><tr><th>float64</th><th>float64</th><th>float64</th><th>float64</th><th>float64</th><th>float64</th><th>float64</th><th>float64</th><th>float64</th><th>float64</th><th>bool</th><th>bool</th><th>float64</th><th>float64</th><th>str13</th></tr></thead>\n",
       "<tr><td>2299540000.0</td><td>0.0</td><td>1.3409e-14</td><td>3.91e-16</td><td>9.361640968434164</td><td>0.0</td><td>-13.872603609223393</td><td>0.012663818511758627</td><td>2.6818000000000003e-15</td><td>0.2</td><td>False</td><td>False</td><td>0.0</td><td>0.0</td><td>campaing-2009</td></tr>\n",
       "<tr><td>2639697000.0</td><td>0.0</td><td>1.793088e-14</td><td>3.231099e-26</td><td>9.421554078847052</td><td>0.0</td><td>-13.746398395894273</td><td>7.825876176646739e-13</td><td>3.586176e-15</td><td>0.2</td><td>False</td><td>False</td><td>0.0</td><td>0.0</td><td>campaing-2009</td></tr>\n",
       "<tr><td>4799040000.0</td><td>0.0</td><td>2.3136e-14</td><td>2.4e-16</td><td>9.681154369792159</td><td>0.0</td><td>-13.635711724385564</td><td>0.0045051294803241885</td><td>4.627200000000001e-15</td><td>0.2</td><td>False</td><td>False</td><td>0.0</td><td>0.0</td><td>campaing-2009</td></tr>\n",
       "<tr><td>4805039000.0</td><td>0.0</td><td>1.773414e-14</td><td>1.773414e-15</td><td>9.68169691696108</td><td>0.0</td><td>-13.751189867373059</td><td>0.04342944819032518</td><td>3.546828e-15</td><td>0.2</td><td>False</td><td>False</td><td>0.0</td><td>0.0</td><td>campaing-2009</td></tr>\n",
       "<tr><td>4843552000.0</td><td>0.0</td><td>2.77614e-14</td><td>2.615339e-26</td><td>9.68516396664987</td><td>0.0</td><td>-13.556558636309997</td><td>4.091390549490907e-13</td><td>5.55228e-15</td><td>0.2</td><td>False</td><td>False</td><td>0.0</td><td>0.0</td><td>campaing-2009</td></tr>\n",
       "<tr><td>7698460000.0</td><td>0.0</td><td>3.696e-14</td><td>4.62e-16</td><td>9.886403857589054</td><td>0.0</td><td>-13.43226803745193</td><td>0.005428681023790648</td><td>7.392e-15</td><td>0.2</td><td>False</td><td>False</td><td>0.0</td><td>0.0</td><td>campaing-2009</td></tr>\n",
       "<tr><td>8267346000.0</td><td>0.0</td><td>2.836267e-14</td><td>2.836267e-15</td><td>9.917366113839973</td><td>0.0</td><td>-13.547252888027566</td><td>0.043429448190325175</td><td>5.672534000000001e-15</td><td>0.2</td><td>False</td><td>False</td><td>0.0</td><td>0.0</td><td>campaing-2009</td></tr>\n",
       "<tr><td>8331867000.0</td><td>0.0</td><td>3.98963e-14</td><td>3.627671e-26</td><td>9.920742328771254</td><td>0.0</td><td>-13.399067379102538</td><td>3.948931348171262e-13</td><td>7.97926e-15</td><td>0.2</td><td>False</td><td>False</td><td>0.0</td><td>0.0</td><td>campaing-2009</td></tr>\n",
       "<tr><td>8388659000.0</td><td>0.0</td><td>3.16345e-14</td><td>1.931495e-15</td><td>9.92369254063231</td><td>0.0</td><td>-13.499839025404517</td><td>0.026516544289422034</td><td>6.3268999999999995e-15</td><td>0.2</td><td>False</td><td>False</td><td>0.0</td><td>0.0</td><td>campaing-2009</td></tr>\n",
       "<tr><td>...</td><td>...</td><td>...</td><td>...</td><td>...</td><td>...</td><td>...</td><td>...</td><td>...</td><td>...</td><td>...</td><td>...</td><td>...</td><td>...</td><td>...</td></tr>\n",
       "<tr><td>2.417992e+25</td><td>0.0</td><td>9.754259e-11</td><td>3.560456e-11</td><td>25.38345485965064</td><td>0.0</td><td>-10.010805716985434</td><td>0.15852422965797036</td><td>1.9508518000000003e-11</td><td>0.2</td><td>False</td><td>False</td><td>0.0</td><td>0.0</td><td>campaing-2009</td></tr>\n",
       "<tr><td>3.823193e+25</td><td>0.0</td><td>8.199207e-11</td><td>7.050657e-12</td><td>25.582426222350527</td><td>0.0</td><td>-10.086228149101405</td><td>0.03734582416192853</td><td>1.6398414000000002e-11</td><td>0.2</td><td>False</td><td>False</td><td>0.0</td><td>0.0</td><td>campaing-2009</td></tr>\n",
       "<tr><td>6.059363e+25</td><td>0.0</td><td>5.614334e-11</td><td>5.793969e-12</td><td>25.78242697068017</td><td>0.0</td><td>-10.250701754501332</td><td>0.044819007294872405</td><td>1.1228668000000001e-11</td><td>0.2</td><td>False</td><td>False</td><td>0.0</td><td>0.0</td><td>campaing-2009</td></tr>\n",
       "<tr><td>6.073707e+25</td><td>0.0</td><td>1.14705e-10</td><td>6.573696e-11</td><td>25.78345383740898</td><td>0.0</td><td>-9.94041765075539</td><td>0.24889236724724106</td><td>2.2941000000000003e-11</td><td>0.2</td><td>False</td><td>False</td><td>0.0</td><td>0.0</td><td>campaing-2009</td></tr>\n",
       "<tr><td>9.603433e+25</td><td>0.0</td><td>4.662219e-11</td><td>5.097912e-12</td><td>25.982426510793527</td><td>0.0</td><td>-10.33140733007377</td><td>0.04748801055523926</td><td>9.324438000000001e-12</td><td>0.2</td><td>False</td><td>False</td><td>0.0</td><td>0.0</td><td>campaing-2009</td></tr>\n",
       "<tr><td>1.522041e+26</td><td>0.0</td><td>5.221583e-11</td><td>4.89063e-12</td><td>26.1824263514056</td><td>0.0</td><td>-10.282197814249994</td><td>0.04067681433064456</td><td>1.0443166e-11</td><td>0.2</td><td>False</td><td>False</td><td>0.0</td><td>0.0</td><td>campaing-2009</td></tr>\n",
       "<tr><td>2.41227e+26</td><td>0.0</td><td>3.66834e-11</td><td>4.682033e-12</td><td>26.38242591580127</td><td>0.0</td><td>-10.43553041856344</td><td>0.05543055158433863</td><td>7.33668e-12</td><td>0.2</td><td>False</td><td>False</td><td>0.0</td><td>0.0</td><td>campaing-2009</td></tr>\n",
       "<tr><td>3.823193e+26</td><td>0.0</td><td>2.247871e-11</td><td>4.343216e-12</td><td>26.582426222350527</td><td>0.0</td><td>-10.648228615520983</td><td>0.08391205467368516</td><td>4.495742000000001e-12</td><td>0.2</td><td>False</td><td>False</td><td>0.0</td><td>0.0</td><td>campaing-2009</td></tr>\n",
       "<tr><td>6.059363e+26</td><td>0.0</td><td>1.972081e-11</td><td>4.407365e-12</td><td>26.78242697068017</td><td>0.0</td><td>-10.705075251093293</td><td>0.09705961870904517</td><td>3.944162e-12</td><td>0.2</td><td>False</td><td>False</td><td>0.0</td><td>0.0</td><td>campaing-2009</td></tr>\n",
       "<tr><td>9.603433e+26</td><td>0.0</td><td>7.994215e-12</td><td>3.469109e-12</td><td>26.982426510793527</td><td>0.0</td><td>-11.097224175808465</td><td>0.18846314438889974</td><td>1.598843e-12</td><td>0.2</td><td>False</td><td>False</td><td>0.0</td><td>0.0</td><td>campaing-2009</td></tr>\n",
       "</table>"
      ],
      "text/plain": [
       "<Table length=110>\n",
       "  nu_data    dnu_data   nuFnu_data  ... T_start  T_stop    data_set  \n",
       "     Hz         Hz    erg / (cm2 s) ...   MJD     MJD                \n",
       "  float64    float64     float64    ... float64 float64     str13    \n",
       "------------ -------- ------------- ... ------- ------- -------------\n",
       "2299540000.0      0.0    1.3409e-14 ...     0.0     0.0 campaing-2009\n",
       "2639697000.0      0.0  1.793088e-14 ...     0.0     0.0 campaing-2009\n",
       "4799040000.0      0.0    2.3136e-14 ...     0.0     0.0 campaing-2009\n",
       "4805039000.0      0.0  1.773414e-14 ...     0.0     0.0 campaing-2009\n",
       "4843552000.0      0.0   2.77614e-14 ...     0.0     0.0 campaing-2009\n",
       "7698460000.0      0.0     3.696e-14 ...     0.0     0.0 campaing-2009\n",
       "8267346000.0      0.0  2.836267e-14 ...     0.0     0.0 campaing-2009\n",
       "8331867000.0      0.0   3.98963e-14 ...     0.0     0.0 campaing-2009\n",
       "8388659000.0      0.0   3.16345e-14 ...     0.0     0.0 campaing-2009\n",
       "         ...      ...           ... ...     ...     ...           ...\n",
       "2.417992e+25      0.0  9.754259e-11 ...     0.0     0.0 campaing-2009\n",
       "3.823193e+25      0.0  8.199207e-11 ...     0.0     0.0 campaing-2009\n",
       "6.059363e+25      0.0  5.614334e-11 ...     0.0     0.0 campaing-2009\n",
       "6.073707e+25      0.0   1.14705e-10 ...     0.0     0.0 campaing-2009\n",
       "9.603433e+25      0.0  4.662219e-11 ...     0.0     0.0 campaing-2009\n",
       "1.522041e+26      0.0  5.221583e-11 ...     0.0     0.0 campaing-2009\n",
       " 2.41227e+26      0.0   3.66834e-11 ...     0.0     0.0 campaing-2009\n",
       "3.823193e+26      0.0  2.247871e-11 ...     0.0     0.0 campaing-2009\n",
       "6.059363e+26      0.0  1.972081e-11 ...     0.0     0.0 campaing-2009\n",
       "9.603433e+26      0.0  7.994215e-12 ...     0.0     0.0 campaing-2009"
      ]
     },
     "execution_count": 20,
     "metadata": {},
     "output_type": "execute_result"
    }
   ],
   "source": [
    "sed_data.table"
   ]
  },
  {
   "cell_type": "code",
   "execution_count": 21,
   "metadata": {},
   "outputs": [
    {
     "name": "stdout",
     "output_type": "stream",
     "text": [
      "z :  0.0308\n",
      "obj_name :  J1104+3812,Mrk421\n",
      "restframe :  obs\n",
      "data_scale :  lin-lin\n",
      "UL_CL :  0.95\n"
     ]
    }
   ],
   "source": [
    "sed_data.metadata"
   ]
  },
  {
   "cell_type": "markdown",
   "metadata": {},
   "source": [
    "## Plotting data\n"
   ]
  },
  {
   "cell_type": "raw",
   "metadata": {},
   "source": [
    "We can now plot our SED using the :class:`BlazarSEDFit.plot_sedfit.Plot` class \n"
   ]
  },
  {
   "cell_type": "code",
   "execution_count": 22,
   "metadata": {},
   "outputs": [
    {
     "data": {
      "image/png": "[encoded data removed]",
      "text/plain": [
       "<Figure size 720x576 with 2 Axes>"
      ]
     },
     "metadata": {
      "needs_background": "light"
     },
     "output_type": "display_data"
    }
   ],
   "source": [
    "from jetset.plot_sedfit import PlotSED\n",
    "myPlot=PlotSED(sed_data)"
   ]
  },
  {
   "cell_type": "markdown",
   "metadata": {},
   "source": [
    "or you can create the object to plot on the fly in this way"
   ]
  },
  {
   "cell_type": "code",
   "execution_count": 23,
   "metadata": {},
   "outputs": [
    {
     "data": {
      "image/png": "[encoded data removed]",
      "text/plain": [
       "<Figure size 720x576 with 2 Axes>"
      ]
     },
     "metadata": {
      "needs_background": "light"
     },
     "output_type": "display_data"
    }
   ],
   "source": [
    "myPlot=sed_data.plot_sed()\n"
   ]
  },
  {
   "cell_type": "markdown",
   "metadata": {},
   "source": [
    "you can rescale your plot"
   ]
  },
  {
   "cell_type": "code",
   "execution_count": 24,
   "metadata": {},
   "outputs": [
    {
     "data": {
      "image/png": "[encoded data removed]",
      "text/plain": [
       "<Figure size 720x576 with 2 Axes>"
      ]
     },
     "metadata": {
      "needs_background": "light"
     },
     "output_type": "display_data"
    }
   ],
   "source": [
    "myPlot=sed_data.plot_sed()\n",
    "myPlot.rescale(x_min=7,x_max=28,y_min=-15,y_max=-9)"
   ]
  },
  {
   "cell_type": "markdown",
   "metadata": {},
   "source": [
    "plotting in the ``src`` restframe"
   ]
  },
  {
   "cell_type": "code",
   "execution_count": 25,
   "metadata": {},
   "outputs": [
    {
     "data": {
      "image/png": "[encoded data removed]",
      "text/plain": [
       "<Figure size 720x576 with 2 Axes>"
      ]
     },
     "metadata": {
      "needs_background": "light"
     },
     "output_type": "display_data"
    }
   ],
   "source": [
    "myPlot=sed_data.plot_sed(frame='src')\n",
    "myPlot.rescale(x_min=7,x_max=28,y_min=40,y_max=46)"
   ]
  },
  {
   "cell_type": "markdown",
   "metadata": {},
   "source": [
    "**to have interactive plot in jupyter**"
   ]
  },
  {
   "cell_type": "markdown",
   "metadata": {},
   "source": [
    "\n",
    "if you wanto to have interacitve plot in a jupyter notebook use:\n",
    "\n",
    ".. code-block:: no\n",
    "\n",
    "    %matplotlib notebook\n",
    "\n",
    "to have interactive plot in jupyter lab use:\n",
    "\n",
    ".. code-block:: no\n",
    " \n",
    "    %matplotlib widget\n"
   ]
  },
  {
   "cell_type": "markdown",
   "metadata": {},
   "source": [
    "## grouping data\n",
    "\n",
    "As you can see, due to the overlapping of different instruments and to different time snapshots, \n",
    "some points have multiple values. Although this is not a problem for the fit process, you might \n",
    "want to rebin (group) your data. This can be obtained with the following command:"
   ]
  },
  {
   "cell_type": "code",
   "execution_count": 26,
   "metadata": {},
   "outputs": [
    {
     "name": "stdout",
     "output_type": "stream",
     "text": [
      "===================================================================================================================\n",
      "\n",
      "***  binning data  ***\n",
      "---> N bins= 89\n",
      "---> bin_widht= 0.2\n",
      "===================================================================================================================\n",
      "\n"
     ]
    },
    {
     "data": {
      "image/png": "[encoded data removed]",
      "text/plain": [
       "<Figure size 720x576 with 2 Axes>"
      ]
     },
     "metadata": {
      "needs_background": "light"
     },
     "output_type": "display_data"
    }
   ],
   "source": [
    "%matplotlib inline\n",
    "\n",
    "myPlot=sed_data.plot_sed()\n",
    "myPlot.rescale(y_min=-15)\n",
    "sed_data.group_data(bin_width=0.2)\n",
    "myPlot.add_data_plot(sed_data,label='rebinned')"
   ]
  },
  {
   "cell_type": "markdown",
   "metadata": {},
   "source": [
    "\n",
    "## handling errors and systematics\n",
    "\n",
    "Another important issue when dealing with fitting of data, is the proper handling of errors.\n",
    "Typically one might need to add systematics for different reasons:\n",
    " \n",
    " - data are not really simultaneous, and you want to add systematics to take this into account\n",
    " - data (typically IR up to UV), might have very small errors compared to those at higher energies.\n",
    "   This might bias the minimizer to accommodate the parameters  in order to fit 'better' the low\n",
    "   frequencies branch.\n",
    "  \n",
    "For these reasons the package offer the possibility to add systematics \n",
    "  \n",
    "  "
   ]
  },
  {
   "cell_type": "code",
   "execution_count": 27,
   "metadata": {},
   "outputs": [
    {
     "data": {
      "image/png": "[encoded data removed]",
      "text/plain": [
       "<Figure size 720x576 with 2 Axes>"
      ]
     },
     "metadata": {
      "needs_background": "light"
     },
     "output_type": "display_data"
    }
   ],
   "source": [
    "sed_data.add_systematics(0.2,[10.**6,10.**29])\n",
    "myPlot=sed_data.plot_sed()\n",
    "myPlot.rescale(y_min=-15)"
   ]
  },
  {
   "cell_type": "raw",
   "metadata": {},
   "source": [
    "with this command we add 20% systematics for data between :math:`10^{6}<\\nu<10^{29}` Hz"
   ]
  },
  {
   "cell_type": "code",
   "execution_count": null,
   "metadata": {},
   "outputs": [],
   "source": []
  }
 ],
 "metadata": {
  "kernel_info": {
   "name": "python3"
  },
  "kernelspec": {
   "display_name": "Python 3",
   "language": "python",
   "name": "python3"
  },
  "language_info": {
   "codemirror_mode": {
    "name": "ipython",
    "version": 3
   },
   "file_extension": ".py",
   "mimetype": "text/x-python",
   "name": "python",
   "nbconvert_exporter": "python",
   "pygments_lexer": "ipython3",
   "version": "3.7.5"
  },
  "nteract": {
   "version": "0.12.3"
  }
 },
 "nbformat": 4,
 "nbformat_minor": 4
}
