{
 "cells": [
  {
   "cell_type": "raw",
   "metadata": {},
   "source": [
    ".. _jet_numerical_guide:"
   ]
  },
  {
   "cell_type": "markdown",
   "metadata": {},
   "source": [
    "#  Numerical setup\n"
   ]
  },
  {
   "cell_type": "markdown",
   "metadata": {},
   "source": [
    "\n",
    "## Changing the grid size for the electron distribution"
   ]
  },
  {
   "cell_type": "code",
   "execution_count": 1,
   "metadata": {},
   "outputs": [
    {
     "name": "stdout",
     "output_type": "stream",
     "text": [
      "\n",
      "-------------------------------------------------------------------------------------------------------------------\n",
      "jet model description\n",
      "-------------------------------------------------------------------------------------------------------------------\n",
      "name: test  \n",
      "\n",
      "electron distribution:\n",
      " type: lppl  \n",
      " electron energy grid size:  1001\n",
      " gmin grid : 2.000000e+00\n",
      " gmax grid : 1.000000e+06\n",
      "\n",
      "radiative fields:\n",
      " seed photons grid size:  100\n",
      " IC emission grid size:  50\n",
      " source emissivity lower bound :  1.000000e-120\n",
      " spectral components:\n",
      "   name:Sum, state: on\n",
      "   name:Sync, state: self-abs\n",
      "   name:SSC, state: on\n",
      "\n",
      "SED info:\n",
      " nu grid size :200\n",
      " nu mix (Hz): 1.000000e+06\n",
      " nu max (Hz): 1.000000e+30\n",
      "\n",
      "flux plot lower bound   :  1.000000e-30\n",
      "\n",
      "-------------------------------------------------------------------------------------------------------------------\n",
      "model parameters:\n",
      " Name             | Type                 | Units            | value         | phys. boundaries              | log\n",
      "-------------------------------------------------------------------------------------------------------------------\n",
      " B                | magnetic_field       | G                | +1.000000e-01 | [+0.000000e+00,No           ] | False \n",
      " N                | electron_density     | cm^-3            | +1.000000e+02 | [+0.000000e+00,No           ] | False \n",
      " R                | region_size          | cm               | +1.569897e+01 | [+0.000000e+00,+3.000000e+01] | True \n",
      " beam_obj         | beaming              |                  | +1.000000e+01 | [+1.000000e+00,No           ] | False \n",
      " gamma0_log_parab | turn-over-energy     | Lorentz-factor   | +1.000000e+04 | [+1.000000e+00,+1.000000e+08] | False \n",
      " gmax             | high-energy-cut-off  | Lorentz-factor   | +1.000000e+06 | [+1.000000e+00,+1.000000e+15] | False \n",
      " gmin             | low-energy-cut-off   | Lorentz-factor   | +2.000000e+00 | [+1.000000e+00,+1.000000e+05] | False \n",
      " r                | spectral_curvature   |                  | +4.000000e-01 | [-1.500000e+01,+1.500000e+01] | False \n",
      " s                | LE_spectral_slope    |                  | +2.000000e+00 | [-1.000000e+01,+1.000000e+01] | False \n",
      " z_cosm           | redshift             |                  | +1.000000e-01 | [+0.000000e+00,No           ] | False \n",
      "-------------------------------------------------------------------------------------------------------------------\n",
      "-------------------------------------------------------------------------------------------------------------------\n"
     ]
    }
   ],
   "source": [
    "from jetset.jet_model import Jet\n",
    "my_jet=Jet(name='test',electron_distribution='lppl',)\n",
    "my_jet.show_model()"
   ]
  },
  {
   "cell_type": "markdown",
   "metadata": {},
   "source": [
    "It is possible to change the size of the grid for the electron distribution. It is worth noting that at lower values of the grid size the speed will increase, **but it is not recommended to go below 100**.\n"
   ]
  },
  {
   "cell_type": "code",
   "execution_count": 2,
   "metadata": {},
   "outputs": [
    {
     "ename": "SyntaxError",
     "evalue": "invalid syntax (<ipython-input-2-7a59ea1b6b35>, line 1)",
     "output_type": "error",
     "traceback": [
      "\u001b[0;36m  File \u001b[0;32m\"<ipython-input-2-7a59ea1b6b35>\"\u001b[0;36m, line \u001b[0;32m1\u001b[0m\n\u001b[0;31m    The acutual value of the grid size is returned by the :meth:`.Jet.gamma_grid_size`\u001b[0m\n\u001b[0m              ^\u001b[0m\n\u001b[0;31mSyntaxError\u001b[0m\u001b[0;31m:\u001b[0m invalid syntax\n"
     ]
    }
   ],
   "source": [
    "The acutual value of the grid size is returned by the :meth:`.Jet.gamma_grid_size`"
   ]
  },
  {
   "cell_type": "code",
   "execution_count": null,
   "metadata": {},
   "outputs": [],
   "source": [
    "print (my_jet.gamma_grid_size)"
   ]
  },
  {
   "cell_type": "raw",
   "metadata": {},
   "source": [
    "and this value can be changed using the method :meth:`.Jet.set_gamma_grid_size`. In the following we show the result for a grid of size=10, as anticiapted the final integration will be not satisfactory"
   ]
  },
  {
   "cell_type": "code",
   "execution_count": null,
   "metadata": {},
   "outputs": [],
   "source": [
    "my_jet.set_gamma_grid_size(10)\n",
    "my_jet.eval()\n",
    "sed_plot=my_jet.plot_model()\n",
    "sed_plot.rescale(x_min=8,y_min=-20,y_max=-12)"
   ]
  },
  {
   "cell_type": "code",
   "execution_count": null,
   "metadata": {},
   "outputs": [],
   "source": [
    "my_jet.set_gamma_grid_size(100)\n",
    "my_jet.eval()\n",
    "sed_plot=my_jet.plot_model()\n",
    "sed_plot.rescale(x_min=8,y_min=-20,y_max=-12)"
   ]
  },
  {
   "cell_type": "code",
   "execution_count": null,
   "metadata": {},
   "outputs": [],
   "source": [
    "my_jet.set_gamma_grid_size(1000)\n",
    "my_jet.eval()\n",
    "sed_plot=my_jet.plot_model()\n",
    "sed_plot.rescale(x_min=8,y_min=-20,y_max=-12)"
   ]
  },
  {
   "cell_type": "code",
   "execution_count": null,
   "metadata": {},
   "outputs": [],
   "source": [
    "my_jet.set_gamma_grid_size(10000)\n",
    "my_jet.eval()\n",
    "sed_plot=my_jet.plot_model()\n",
    "sed_plot.rescale(x_min=8,y_min=-20,y_max=-12)"
   ]
  },
  {
   "cell_type": "markdown",
   "metadata": {},
   "source": [
    "## Changing the grid size  for the seed photons"
   ]
  },
  {
   "cell_type": "code",
   "execution_count": null,
   "metadata": {},
   "outputs": [],
   "source": [
    "my_jet=Jet(name='test',electron_distribution='lppl',)\n",
    "my_jet.show_model()"
   ]
  },
  {
   "cell_type": "raw",
   "metadata": {},
   "source": [
    "we can get the current value of the seed photons grid size using attribute :meth:`.Jet.nu_seed_size`"
   ]
  },
  {
   "cell_type": "markdown",
   "metadata": {},
   "source": [
    "**in the current version there is lit of the size to 1000**"
   ]
  },
  {
   "cell_type": "code",
   "execution_count": null,
   "metadata": {},
   "outputs": [],
   "source": [
    "print (my_jet.nu_seed_size)"
   ]
  },
  {
   "cell_type": "raw",
   "metadata": {},
   "source": [
    "and this value can be changed using the method :meth:`.Jet.set_seed_nu_size`. In the following we show the result for a grid of nu_size=10"
   ]
  },
  {
   "cell_type": "code",
   "execution_count": null,
   "metadata": {},
   "outputs": [],
   "source": [
    "my_jet.nu_seed_size=10\n",
    "my_jet.eval()\n",
    "sed_plot=my_jet.plot_model()\n",
    "sed_plot.rescale(x_min=8,y_min=-20,y_max=-12)"
   ]
  },
  {
   "cell_type": "markdown",
   "metadata": {},
   "source": [
    "## Changing the grid size  for the IC process spectra"
   ]
  },
  {
   "cell_type": "markdown",
   "metadata": {},
   "source": [
    "**in the current version there is lit of the size to 1000**"
   ]
  },
  {
   "cell_type": "code",
   "execution_count": null,
   "metadata": {},
   "outputs": [],
   "source": [
    "my_jet=Jet(name='test',electron_distribution='lppl',)\n",
    "my_jet.show_model()"
   ]
  },
  {
   "cell_type": "code",
   "execution_count": null,
   "metadata": {},
   "outputs": [],
   "source": [
    "print(my_jet.IC_nu_size)"
   ]
  },
  {
   "cell_type": "code",
   "execution_count": null,
   "metadata": {},
   "outputs": [],
   "source": [
    "my_jet.IC_nu_size=10\n",
    "my_jet.eval()\n",
    "sed_plot=my_jet.plot_model()\n",
    "sed_plot.rescale(x_min=8,y_min=-20,y_max=-12)"
   ]
  },
  {
   "cell_type": "code",
   "execution_count": null,
   "metadata": {},
   "outputs": [],
   "source": [
    "my_jet.IC_nu_size=100\n",
    "my_jet.eval()\n",
    "sed_plot=my_jet.plot_model()\n",
    "sed_plot.rescale(x_min=8,y_min=-20,y_max=-12)"
   ]
  },
  {
   "cell_type": "code",
   "execution_count": null,
   "metadata": {},
   "outputs": [],
   "source": []
  },
  {
   "cell_type": "code",
   "execution_count": null,
   "metadata": {},
   "outputs": [],
   "source": []
  }
 ],
 "metadata": {
  "kernelspec": {
   "display_name": "Python 2",
   "language": "python",
   "name": "python2"
  },
  "language_info": {
   "codemirror_mode": {
    "name": "ipython",
    "version": 3
   },
   "file_extension": ".py",
   "mimetype": "text/x-python",
   "name": "python",
   "nbconvert_exporter": "python",
   "pygments_lexer": "ipython3",
   "version": "3.7.2"
  }
 },
 "nbformat": 4,
 "nbformat_minor": 2
}
