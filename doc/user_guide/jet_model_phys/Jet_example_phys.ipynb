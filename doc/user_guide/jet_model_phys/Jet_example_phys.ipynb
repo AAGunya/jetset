{
 "cells": [
  {
   "cell_type": "raw",
   "metadata": {},
   "source": [
    ".. _jet_physical_guide:\n",
    "\n"
   ]
  },
  {
   "cell_type": "markdown",
   "metadata": {},
   "source": [
    "# jet_model  user guide : physical setup\n"
   ]
  },
  {
   "cell_type": "raw",
   "metadata": {},
   "source": [
    "\n",
    "In this section we describe how  to buil a model of jet able to reproduce SSC/EC emission processes, using the :class:`.Jet` class from the :mod:`.jet_model` module. to This class thorough a flexible and intuitive interface allows to access the C numerical code that provides an accurate and fast computation of the synchrotron and inverse Compoton processes.  "
   ]
  },
  {
   "cell_type": "markdown",
   "metadata": {},
   "source": [
    "## basic  setup"
   ]
  },
  {
   "cell_type": "raw",
   "metadata": {},
   "source": [
    "A jet can be built using the  the :class:`.Jet` class, istanciating a jet object, in the following way:"
   ]
  },
  {
   "cell_type": "code",
   "execution_count": 55,
   "metadata": {},
   "outputs": [],
   "source": [
    "%matplotlib inline\n",
    "from jetset.jet_model import Jet\n",
    "my_jet=Jet(name='test',electron_distribution='lppl',)"
   ]
  },
  {
   "cell_type": "raw",
   "metadata": {},
   "source": [
    "This instruction will create:\n",
    "    * a ``Jet`` object with ``name`` **test**,\n",
    "    * using as electron distribution the **lppl** model, that is a log-parabola witha low-energy power-law branch.\n",
    "    * using as wokring directory **test_jet_prod**\n",
    "\n",
    "For a list of possible distribution you can run the command"
   ]
  },
  {
   "cell_type": "code",
   "execution_count": 56,
   "metadata": {},
   "outputs": [
    {
     "name": "stdout",
     "output_type": "stream",
     "text": [
      "lp: log-parabola\n",
      "pl: powerlaw\n",
      "lppl: log-parabola with low-energy powerlaw branch\n",
      "lpep: log-parabola defined by peak energy\n",
      "plc: powerlaw with cut-off\n",
      "bkn: broken powerlaw\n",
      "spitkov: \n",
      "lppl_pile_up: \n",
      "bkn_pile_up: \n"
     ]
    }
   ],
   "source": [
    "Jet.available_electron_distributions()"
   ]
  },
  {
   "cell_type": "raw",
   "metadata": {},
   "source": [
    "The parameters of the model are accessible throug the instruction"
   ]
  },
  {
   "cell_type": "code",
   "execution_count": 57,
   "metadata": {},
   "outputs": [
    {
     "name": "stdout",
     "output_type": "stream",
     "text": [
      "-------------------------------------------------------------------------------------------------------------------\n",
      "model parameters:\n",
      " Name             | Type                 | Units            | value         | phys. boundaries              | log\n",
      "-------------------------------------------------------------------------------------------------------------------\n",
      " B                | magnetic_field       | G                | +1.000000e-01 | [+0.000000e+00,No           ] | False \n",
      " N                | electron_density     | cm^-3            | +1.000000e+02 | [+0.000000e+00,No           ] | False \n",
      " R                | region_size          | cm               | +1.569897e+01 | [+0.000000e+00,+3.000000e+01] | True \n",
      " beam_obj         | beaming              |                  | +1.000000e+01 | [+1.000000e+00,No           ] | False \n",
      " gamma0_log_parab | turn-over-energy     | Lorentz-factor   | +1.000000e+04 | [+1.000000e+00,+1.000000e+08] | False \n",
      " gmax             | high-energy-cut-off  | Lorentz-factor   | +1.000000e+06 | [+1.000000e+00,+1.000000e+15] | False \n",
      " gmin             | low-energy-cut-off   | Lorentz-factor   | +2.000000e+00 | [+1.000000e+00,+1.000000e+05] | False \n",
      " r                | spectral_curvature   |                  | +4.000000e-01 | [-1.500000e+01,+1.500000e+01] | False \n",
      " s                | LE_spectral_slope    |                  | +2.000000e+00 | [-1.000000e+01,+1.000000e+01] | False \n",
      " z_cosm           | redshift             |                  | +1.000000e-01 | [+0.000000e+00,No           ] | False \n",
      "-------------------------------------------------------------------------------------------------------------------\n"
     ]
    }
   ],
   "source": [
    "my_jet.show_pars()"
   ]
  },
  {
   "cell_type": "raw",
   "metadata": {},
   "source": [
    "Each parameter has default values. All the parameters listed are handled by :class:`.ModelParameterArray`, and each parameter is an instance of the the :class:`.JetParameter`. class\n",
    "\n",
    "To get a full description of the model you can use the instruction"
   ]
  },
  {
   "cell_type": "code",
   "execution_count": 58,
   "metadata": {},
   "outputs": [
    {
     "name": "stdout",
     "output_type": "stream",
     "text": [
      "\n",
      "-------------------------------------------------------------------------------------------------------------------\n",
      "jet model description\n",
      "-------------------------------------------------------------------------------------------------------------------\n",
      "name: test  \n",
      "\n",
      "electron distribution:\n",
      " type: lppl  \n",
      " electron energy grid size:  1001\n",
      " gmin grid : 2.000000e+00\n",
      " gmax grid : 1.000000e+06\n",
      "\n",
      "radiative fields:\n",
      " seed photons grid size:  100\n",
      " IC emission grid size:  50\n",
      " source emissivity lower bound :  1.000000e-120\n",
      " spectral components:\n",
      "   name:Sum, state: on\n",
      "   name:Sync, state: self-abs\n",
      "   name:SSC, state: on\n",
      "\n",
      "SED info:\n",
      " nu grid size :200\n",
      " nu mix (Hz): 1.000000e+06\n",
      " nu max (Hz): 1.000000e+30\n",
      "\n",
      "flux plot lower bound   :  1.000000e-30\n",
      "\n",
      "-------------------------------------------------------------------------------------------------------------------\n",
      "model parameters:\n",
      " Name             | Type                 | Units            | value         | phys. boundaries              | log\n",
      "-------------------------------------------------------------------------------------------------------------------\n",
      " B                | magnetic_field       | G                | +1.000000e-01 | [+0.000000e+00,No           ] | False \n",
      " N                | electron_density     | cm^-3            | +1.000000e+02 | [+0.000000e+00,No           ] | False \n",
      " R                | region_size          | cm               | +1.569897e+01 | [+0.000000e+00,+3.000000e+01] | True \n",
      " beam_obj         | beaming              |                  | +1.000000e+01 | [+1.000000e+00,No           ] | False \n",
      " gamma0_log_parab | turn-over-energy     | Lorentz-factor   | +1.000000e+04 | [+1.000000e+00,+1.000000e+08] | False \n",
      " gmax             | high-energy-cut-off  | Lorentz-factor   | +1.000000e+06 | [+1.000000e+00,+1.000000e+15] | False \n",
      " gmin             | low-energy-cut-off   | Lorentz-factor   | +2.000000e+00 | [+1.000000e+00,+1.000000e+05] | False \n",
      " r                | spectral_curvature   |                  | +4.000000e-01 | [-1.500000e+01,+1.500000e+01] | False \n",
      " s                | LE_spectral_slope    |                  | +2.000000e+00 | [-1.000000e+01,+1.000000e+01] | False \n",
      " z_cosm           | redshift             |                  | +1.000000e-01 | [+0.000000e+00,No           ] | False \n",
      "-------------------------------------------------------------------------------------------------------------------\n",
      "-------------------------------------------------------------------------------------------------------------------\n"
     ]
    }
   ],
   "source": [
    "my_jet.show_model()"
   ]
  },
  {
   "cell_type": "markdown",
   "metadata": {},
   "source": [
    "as you can notice, you can now access further information regarding the model, such as numerical configuration of the grid. These parameters will be discussed \n",
    "in the :ref:`jet_numerical_guide' section"
   ]
  },
  {
   "cell_type": "markdown",
   "metadata": {},
   "source": [
    "## setting the parameters"
   ]
  },
  {
   "cell_type": "raw",
   "metadata": {},
   "source": [
    "assume you want to change some of the parameters in your model, you can use two methods:\n",
    "\n",
    "1) using the :class:`.Jet.set_par()` method "
   ]
  },
  {
   "cell_type": "code",
   "execution_count": 59,
   "metadata": {},
   "outputs": [],
   "source": [
    "my_jet.set_par('B',val=0.2)\n",
    "my_jet.set_par('gamma0_log_parab',val=5E3)\n",
    "my_jet.set_par('gmin',val=1E2)\n",
    "my_jet.set_par('gmax',val=1E8)\n",
    "my_jet.set_par('R',val=14.5)\n",
    "my_jet.set_par('N',val=1E3)"
   ]
  },
  {
   "cell_type": "raw",
   "metadata": {},
   "source": [
    "2) accessing directly the parameter "
   ]
  },
  {
   "cell_type": "code",
   "execution_count": 60,
   "metadata": {},
   "outputs": [],
   "source": [
    "my_jet.parameters.B.val=0.2\n",
    "my_jet.parameters.r.val=0.4"
   ]
  },
  {
   "cell_type": "markdown",
   "metadata": {},
   "source": [
    "## evaluate and plot  the model"
   ]
  },
  {
   "cell_type": "markdown",
   "metadata": {},
   "source": [
    "\n",
    "At this point we can evaluate the  emission for this jet model using the instruction"
   ]
  },
  {
   "cell_type": "code",
   "execution_count": 61,
   "metadata": {},
   "outputs": [],
   "source": [
    "my_jet.eval()"
   ]
  },
  {
   "cell_type": "code",
   "execution_count": 62,
   "metadata": {},
   "outputs": [
    {
     "name": "stdout",
     "output_type": "stream",
     "text": [
      "-------------------------------------------------------------------------------------------------------------------\n",
      "model parameters:\n",
      " Name             | Type                 | Units            | value         | phys. boundaries              | log\n",
      "-------------------------------------------------------------------------------------------------------------------\n",
      " B                | magnetic_field       | G                | +2.000000e-01 | [+0.000000e+00,No           ] | False \n",
      " N                | electron_density     | cm^-3            | +1.000000e+03 | [+0.000000e+00,No           ] | False \n",
      " R                | region_size          | cm               | +1.450000e+01 | [+0.000000e+00,+3.000000e+01] | True \n",
      " beam_obj         | beaming              |                  | +1.000000e+01 | [+1.000000e+00,No           ] | False \n",
      " gamma0_log_parab | turn-over-energy     | Lorentz-factor   | +5.000000e+03 | [+1.000000e+00,+1.000000e+08] | False \n",
      " gmax             | high-energy-cut-off  | Lorentz-factor   | +1.000000e+08 | [+1.000000e+00,+1.000000e+15] | False \n",
      " gmin             | low-energy-cut-off   | Lorentz-factor   | +1.000000e+02 | [+1.000000e+00,+1.000000e+05] | False \n",
      " r                | spectral_curvature   |                  | +4.000000e-01 | [-1.500000e+01,+1.500000e+01] | False \n",
      " s                | LE_spectral_slope    |                  | +2.000000e+00 | [-1.000000e+01,+1.000000e+01] | False \n",
      " z_cosm           | redshift             |                  | +1.000000e-01 | [+0.000000e+00,No           ] | False \n",
      "-------------------------------------------------------------------------------------------------------------------\n"
     ]
    }
   ],
   "source": [
    "my_jet.show_pars()"
   ]
  },
  {
   "cell_type": "markdown",
   "metadata": {},
   "source": [
    "and plot the corresponding SED:\n"
   ]
  },
  {
   "cell_type": "code",
   "execution_count": 63,
   "metadata": {},
   "outputs": [
    {
     "data": {
      "image/png": "[encoded data removed]",
      "text/plain": [
       "<Figure size 720x432 with 2 Axes>"
      ]
     },
     "metadata": {},
     "output_type": "display_data"
    }
   ],
   "source": [
    "from jetset.plot_sedfit import PlotSED\n",
    "my_plot=PlotSED()\n",
    "my_jet.plot_model(plot_obj=my_plot)\n",
    "my_plot.rescale(y_max=-13,y_min=-17.5,x_min=8)"
   ]
  },
  {
   "cell_type": "markdown",
   "metadata": {},
   "source": [
    "alternatively, you can call the ``plot_model`` method without passing a ``Plot`` object"
   ]
  },
  {
   "cell_type": "code",
   "execution_count": 64,
   "metadata": {},
   "outputs": [
    {
     "data": {
      "image/png": "[encoded data removed]",
      "text/plain": [
       "<Figure size 720x432 with 2 Axes>"
      ]
     },
     "metadata": {},
     "output_type": "display_data"
    }
   ],
   "source": [
    "my_plot=my_jet.plot_model()\n",
    "my_plot.rescale(y_max=-13,y_min=-17.5,x_min=8)"
   ]
  },
  {
   "cell_type": "markdown",
   "metadata": {},
   "source": [
    "the ``my_plot`` objet returned will be built on the fly by the  ``plot_model`` method"
   ]
  },
  {
   "cell_type": "raw",
   "metadata": {},
   "source": [
    "if you wanto to have interacitve plot:\n",
    "\n",
    "1) in a jupyter notebook use:\n",
    "\n",
    ".. code-block:: no\n",
    "\n",
    "    %matplotlib notebook\n",
    "\n",
    "\n",
    "2) in an ipython terminal\n",
    "\n",
    ".. code-block:: python\n",
    "    \n",
    "    from matplotlib import pylab as plt\n",
    "    plt.ion()"
   ]
  },
  {
   "cell_type": "markdown",
   "metadata": {},
   "source": [
    "## comparing models on the same plot"
   ]
  },
  {
   "cell_type": "markdown",
   "metadata": {},
   "source": [
    "to compare the same model after changing a parameter"
   ]
  },
  {
   "cell_type": "code",
   "execution_count": 65,
   "metadata": {},
   "outputs": [
    {
     "data": {
      "image/png": "[encoded data removed]",
      "text/plain": [
       "<Figure size 720x432 with 2 Axes>"
      ]
     },
     "metadata": {},
     "output_type": "display_data"
    }
   ],
   "source": [
    "my_jet.parameters.gamma0_log_parab.val=1E4\n",
    "my_jet.eval()\n",
    "my_plot=my_jet.plot_model(label='gamma0_log_parab=1E4',comp='Sum')\n",
    "my_jet.set_par('gamma0_log_parab',val=1.0E5)\n",
    "my_jet.eval()\n",
    "my_plot=my_jet.plot_model(my_plot,label='gamma0_log_parab=1E5',comp='Sum')\n",
    "my_plot.rescale(y_max=-13,y_min=-17.5,x_min=8)"
   ]
  },
  {
   "cell_type": "markdown",
   "metadata": {},
   "source": [
    "## saving a plot"
   ]
  },
  {
   "cell_type": "markdown",
   "metadata": {},
   "source": [
    "to save the plot"
   ]
  },
  {
   "cell_type": "code",
   "execution_count": 66,
   "metadata": {},
   "outputs": [],
   "source": [
    "my_plot.save('jet1.png')"
   ]
  },
  {
   "cell_type": "markdown",
   "metadata": {},
   "source": [
    "## saving and lodaing  a model"
   ]
  },
  {
   "cell_type": "code",
   "execution_count": 67,
   "metadata": {},
   "outputs": [],
   "source": [
    "my_jet.save_model('test_model.dat')"
   ]
  },
  {
   "cell_type": "code",
   "execution_count": 68,
   "metadata": {},
   "outputs": [
    {
     "name": "stdout",
     "output_type": "stream",
     "text": [
      "-------------------------------------------------------------------------------------------------------------------\n",
      "model parameters:\n",
      " Name             | Type                 | Units            | value         | phys. boundaries              | log\n",
      "-------------------------------------------------------------------------------------------------------------------\n",
      " B                | magnetic_field       | G                | +1.000000e-01 | [+0.000000e+00,No           ] | False \n",
      " N                | electron_density     | cm^-3            | +1.000000e+02 | [+0.000000e+00,No           ] | False \n",
      " R                | region_size          | cm               | +1.569897e+01 | [+0.000000e+00,+3.000000e+01] | True \n",
      " beam_obj         | beaming              |                  | +1.000000e+01 | [+1.000000e+00,No           ] | False \n",
      " gamma0_log_parab | turn-over-energy     | Lorentz-factor   | +1.000000e+04 | [+1.000000e+00,+1.000000e+08] | False \n",
      " gmax             | high-energy-cut-off  | Lorentz-factor   | +1.000000e+06 | [+1.000000e+00,+1.000000e+15] | False \n",
      " gmin             | low-energy-cut-off   | Lorentz-factor   | +2.000000e+00 | [+1.000000e+00,+1.000000e+05] | False \n",
      " r                | spectral_curvature   |                  | +4.000000e-01 | [-1.500000e+01,+1.500000e+01] | False \n",
      " s                | LE_spectral_slope    |                  | +2.000000e+00 | [-1.000000e+01,+1.000000e+01] | False \n",
      " z_cosm           | redshift             |                  | +1.000000e-01 | [+0.000000e+00,No           ] | False \n",
      "-------------------------------------------------------------------------------------------------------------------\n"
     ]
    }
   ],
   "source": [
    "my_jet_new=Jet.load_model('test_model.dat')"
   ]
  },
  {
   "cell_type": "markdown",
   "metadata": {},
   "source": [
    "## switching on/off the particle distribution normalization"
   ]
  },
  {
   "cell_type": "raw",
   "metadata": {},
   "source": [
    "As default the electron distributions are normalized, i.e. are mutliplied by a constant ``N_0``, in such a way that :\n",
    "\n",
    ":math:`\\int_{\\gamma_{min}}^{\\gamma_{max}} n(\\gamma) d\\gamma =1`, \n",
    "\n",
    "it means the the value `N`, refers to the actual desinty of emitters.\n",
    "If you want to chance this behaviour, you can start looking at the sate of ``Norm_distr`` flag with the following command"
   ]
  },
  {
   "cell_type": "code",
   "execution_count": 69,
   "metadata": {},
   "outputs": [
    {
     "data": {
      "text/plain": [
       "1"
      ]
     },
     "execution_count": 69,
     "metadata": {},
     "output_type": "execute_result"
    }
   ],
   "source": [
    "my_jet.Norm_distr"
   ]
  },
  {
   "cell_type": "raw",
   "metadata": {},
   "source": [
    "and then you can switch off the normalization withe command"
   ]
  },
  {
   "cell_type": "code",
   "execution_count": 70,
   "metadata": {},
   "outputs": [],
   "source": [
    "my_jet.switch_Norm_distr_OFF()"
   ]
  },
  {
   "cell_type": "raw",
   "metadata": {},
   "source": [
    "or set back the normalization on with"
   ]
  },
  {
   "cell_type": "code",
   "execution_count": 71,
   "metadata": {},
   "outputs": [],
   "source": [
    "my_jet.switch_Norm_distr_ON()"
   ]
  },
  {
   "cell_type": "markdown",
   "metadata": {},
   "source": [
    "## setting the particle density  from observed Fluxes or Luminosityes"
   ]
  },
  {
   "cell_type": "raw",
   "metadata": {},
   "source": [
    "It is possible to set the density of emitting particle starting from some observed luminosity or flux (see the method     :meth:`.Jet.set_N_from_nuFnu`,th:`.Jet.set_N_from_nuLnu`)"
   ]
  },
  {
   "cell_type": "code",
   "execution_count": 72,
   "metadata": {},
   "outputs": [],
   "source": [
    "my_jet=Jet(name='test',electron_distribution='lppl')"
   ]
  },
  {
   "cell_type": "markdown",
   "metadata": {},
   "source": [
    "this is the initial value of N"
   ]
  },
  {
   "cell_type": "code",
   "execution_count": 73,
   "metadata": {},
   "outputs": [
    {
     "data": {
      "text/plain": [
       "100.0"
      ]
     },
     "execution_count": 73,
     "metadata": {},
     "output_type": "execute_result"
    }
   ],
   "source": [
    "my_jet.parameters.N.val"
   ]
  },
  {
   "cell_type": "raw",
   "metadata": {},
   "source": [
    "we now want to set the value of ``N`` in order that the observed synchrotron flux at a given frequency matches a desired value. \n",
    "For example, assume that we whis to set ``N`` in oreder that  the sychrotron flux at math:`10^{15}` Hz is exactly matching the desired value of :math:`10^{-=14}` ergs cm-2 s-1. We can accomplish this by using the :class:`.Jet.get_par_by_name()` as follows: "
   ]
  },
  {
   "cell_type": "code",
   "execution_count": 74,
   "metadata": {},
   "outputs": [],
   "source": [
    "\n",
    "my_jet.set_N_from_nuFnu(nuFnu_obs=1E-14,nu_obs=1E15)"
   ]
  },
  {
   "cell_type": "markdown",
   "metadata": {},
   "source": [
    "This is the updated value of ``N``, obtained in order to match the given flux at the given frequency"
   ]
  },
  {
   "cell_type": "code",
   "execution_count": 75,
   "metadata": {},
   "outputs": [
    {
     "data": {
      "text/plain": [
       "249.04461454958587"
      ]
     },
     "execution_count": 75,
     "metadata": {},
     "output_type": "execute_result"
    }
   ],
   "source": [
    "my_jet.get_par_by_name('N').val"
   ]
  },
  {
   "cell_type": "code",
   "execution_count": 76,
   "metadata": {},
   "outputs": [
    {
     "name": "stdout",
     "output_type": "stream",
     "text": [
      "-------------------------------------------------------------------------------------------------------------------\n",
      "model parameters:\n",
      " Name             | Type                 | Units            | value         | phys. boundaries              | log\n",
      "-------------------------------------------------------------------------------------------------------------------\n",
      " N                | electron_density     | cm^-3            | +2.490446e+02 | [+0.000000e+00,No           ] | False \n",
      " gmin             | low-energy-cut-off   | Lorentz-factor   | +2.000000e+00 | [+1.000000e+00,+1.000000e+05] | False \n",
      " gmax             | high-energy-cut-off  | Lorentz-factor   | +1.000000e+06 | [+1.000000e+00,+1.000000e+15] | False \n",
      " s                | LE_spectral_slope    |                  | +2.000000e+00 | [-1.000000e+01,+1.000000e+01] | False \n",
      " r                | spectral_curvature   |                  | +4.000000e-01 | [-1.500000e+01,+1.500000e+01] | False \n",
      " gamma0_log_parab | turn-over-energy     | Lorentz-factor   | +1.000000e+04 | [+1.000000e+00,+1.000000e+08] | False \n",
      " R                | region_size          | cm               | +1.569897e+01 | [+0.000000e+00,+3.000000e+01] | True \n",
      " B                | magnetic_field       | G                | +1.000000e-01 | [+0.000000e+00,No           ] | False \n",
      " beam_obj         | beaming              |                  | +1.000000e+01 | [+1.000000e+00,No           ] | False \n",
      " z_cosm           | redshift             |                  | +1.000000e-01 | [+0.000000e+00,No           ] | False \n",
      "-------------------------------------------------------------------------------------------------------------------\n"
     ]
    }
   ],
   "source": [
    "my_jet.parameters.show_pars()"
   ]
  },
  {
   "cell_type": "code",
   "execution_count": 77,
   "metadata": {},
   "outputs": [
    {
     "data": {
      "image/png": "[encoded data removed]",
      "text/plain": [
       "<Figure size 720x432 with 2 Axes>"
      ]
     },
     "metadata": {},
     "output_type": "display_data"
    }
   ],
   "source": [
    "my_jet.eval()\n",
    "my_plot=my_jet.plot_model(label='set N from F=1E-14')\n",
    "my_plot.rescale(y_max=-13,y_min=-17.5,x_min=8)"
   ]
  },
  {
   "cell_type": "raw",
   "metadata": {},
   "source": [
    "as you can see, the sychrotron flux at :math:`10^{15}` Hz is exactly matching the desired value of :math:`10^{-14}` ergs cm-2 s-1.\n",
    "Alternatively, the value of N  can be obtained using the rest-frame luminosity and  freqency, using the :class:`.Jet.set_N_from_nuLnu()"
   ]
  },
  {
   "cell_type": "code",
   "execution_count": 78,
   "metadata": {},
   "outputs": [],
   "source": [
    "my_jet.set_N_from_nuLnu(L_0=1E43,nu_0=1E15)"
   ]
  },
  {
   "cell_type": "raw",
   "metadata": {},
   "source": [
    "where ``L_0`` is the rest-frame luminosity in erg/s at the rest-frame frequency ``nu_0`` in Hz.\n",
    "\n"
   ]
  },
  {
   "cell_type": "markdown",
   "metadata": {},
   "source": [
    "## setting the beaming factor\n",
    "\n",
    "It is possible to set the bemaing factor according to the realativistic BulkFactor and viewing angle, this can be done by setting the ``beaming_expr`` kw in the Jet constructor, possbile choiches are\n",
    "\n",
    "* `delta` to provide directly the beaming factor (default)\n",
    "* `bulk_theta` to provide the BulkFactor and the jet  viewing angle "
   ]
  },
  {
   "cell_type": "code",
   "execution_count": 79,
   "metadata": {},
   "outputs": [],
   "source": [
    "my_jet=Jet(name='test',electron_distribution='lppl',beaming_expr='bulk_theta')"
   ]
  },
  {
   "cell_type": "code",
   "execution_count": 80,
   "metadata": {},
   "outputs": [
    {
     "name": "stdout",
     "output_type": "stream",
     "text": [
      "-------------------------------------------------------------------------------------------------------------------\n",
      "model parameters:\n",
      " Name             | Type                 | Units            | value         | phys. boundaries              | log\n",
      "-------------------------------------------------------------------------------------------------------------------\n",
      " N                | electron_density     | cm^-3            | +1.000000e+02 | [+0.000000e+00,No           ] | False \n",
      " gmin             | low-energy-cut-off   | Lorentz-factor   | +2.000000e+00 | [+1.000000e+00,+1.000000e+05] | False \n",
      " gmax             | high-energy-cut-off  | Lorentz-factor   | +1.000000e+06 | [+1.000000e+00,+1.000000e+15] | False \n",
      " s                | LE_spectral_slope    |                  | +2.000000e+00 | [-1.000000e+01,+1.000000e+01] | False \n",
      " r                | spectral_curvature   |                  | +4.000000e-01 | [-1.500000e+01,+1.500000e+01] | False \n",
      " gamma0_log_parab | turn-over-energy     | Lorentz-factor   | +1.000000e+04 | [+1.000000e+00,+1.000000e+08] | False \n",
      " R                | region_size          | cm               | +1.569897e+01 | [+0.000000e+00,+3.000000e+01] | True \n",
      " B                | magnetic_field       | G                | +1.000000e-01 | [+0.000000e+00,No           ] | False \n",
      " theta            | jet-viewing-angle    | deg              | +1.000000e-01 | [+0.000000e+00,No           ] | False \n",
      " BulkFactor       | jet-bulk-factor      | Lorentz-factor   | +1.000000e+01 | [+1.000000e+00,No           ] | False \n",
      " z_cosm           | redshift             |                  | +1.000000e-01 | [+0.000000e+00,No           ] | False \n",
      "-------------------------------------------------------------------------------------------------------------------\n"
     ]
    }
   ],
   "source": [
    "my_jet.parameters.show_pars()"
   ]
  },
  {
   "cell_type": "raw",
   "metadata": {},
   "source": [
    "the actual value of the beaming factor che be obatained using the :meth:`.Jet.get_beaming`"
   ]
  },
  {
   "cell_type": "code",
   "execution_count": 81,
   "metadata": {},
   "outputs": [
    {
     "data": {
      "text/plain": [
       "19.943844732554165"
      ]
     },
     "execution_count": 81,
     "metadata": {},
     "output_type": "execute_result"
    }
   ],
   "source": [
    "my_jet.get_beaming()"
   ]
  },
  {
   "cell_type": "raw",
   "metadata": {},
   "source": [
    "We can change the value of ``theta`` and get the updated value of the beaming factor"
   ]
  },
  {
   "cell_type": "code",
   "execution_count": 82,
   "metadata": {},
   "outputs": [],
   "source": [
    "my_jet.set_par('theta',val=10.)"
   ]
  },
  {
   "cell_type": "code",
   "execution_count": 83,
   "metadata": {},
   "outputs": [
    {
     "data": {
      "text/plain": [
       "4.968041140891955"
      ]
     },
     "execution_count": 83,
     "metadata": {},
     "output_type": "execute_result"
    }
   ],
   "source": [
    "my_jet.get_beaming()"
   ]
  },
  {
   "cell_type": "raw",
   "metadata": {},
   "source": [
    "of course setting `beaming_expr=delta` we get the same beaming expression as in the default case"
   ]
  },
  {
   "cell_type": "code",
   "execution_count": 87,
   "metadata": {},
   "outputs": [],
   "source": [
    "my_jet=Jet(name='test',electron_distribution='lppl',beaming_expr='delta')"
   ]
  },
  {
   "cell_type": "code",
   "execution_count": 88,
   "metadata": {},
   "outputs": [
    {
     "name": "stdout",
     "output_type": "stream",
     "text": [
      "-------------------------------------------------------------------------------------------------------------------\n",
      "model parameters:\n",
      " Name             | Type                 | Units            | value         | phys. boundaries              | log\n",
      "-------------------------------------------------------------------------------------------------------------------\n",
      " N                | electron_density     | cm^-3            | +1.000000e+02 | [+0.000000e+00,No           ] | False \n",
      " gmin             | low-energy-cut-off   | Lorentz-factor   | +2.000000e+00 | [+1.000000e+00,+1.000000e+05] | False \n",
      " gmax             | high-energy-cut-off  | Lorentz-factor   | +1.000000e+06 | [+1.000000e+00,+1.000000e+15] | False \n",
      " s                | LE_spectral_slope    |                  | +2.000000e+00 | [-1.000000e+01,+1.000000e+01] | False \n",
      " r                | spectral_curvature   |                  | +4.000000e-01 | [-1.500000e+01,+1.500000e+01] | False \n",
      " gamma0_log_parab | turn-over-energy     | Lorentz-factor   | +1.000000e+04 | [+1.000000e+00,+1.000000e+08] | False \n",
      " R                | region_size          | cm               | +1.569897e+01 | [+0.000000e+00,+3.000000e+01] | True \n",
      " B                | magnetic_field       | G                | +1.000000e-01 | [+0.000000e+00,No           ] | False \n",
      " beam_obj         | beaming              |                  | +1.000000e+01 | [+1.000000e+00,No           ] | False \n",
      " z_cosm           | redshift             |                  | +1.000000e-01 | [+0.000000e+00,No           ] | False \n",
      "-------------------------------------------------------------------------------------------------------------------\n"
     ]
    }
   ],
   "source": [
    "my_jet.parameters.show_pars()"
   ]
  },
  {
   "cell_type": "markdown",
   "metadata": {},
   "source": [
    "## accessing individual spectral components\n",
    "\n",
    "It is possible to access specific spectral components of oura model"
   ]
  },
  {
   "cell_type": "code",
   "execution_count": 89,
   "metadata": {},
   "outputs": [],
   "source": [
    "my_jet=Jet(name='test',electron_distribution='lppl',beaming_expr='bulk_theta')\n",
    "my_jet.eval()"
   ]
  },
  {
   "cell_type": "raw",
   "metadata": {},
   "source": [
    "We can obtain this information anytime using the :meth:`.Jet.list_spectral_components` method"
   ]
  },
  {
   "cell_type": "code",
   "execution_count": 90,
   "metadata": {},
   "outputs": [
    {
     "name": "stdout",
     "output_type": "stream",
     "text": [
      "Sum\n",
      "Sync\n",
      "SSC\n"
     ]
    }
   ],
   "source": [
    "\n",
    "my_jet.list_spectral_components()"
   ]
  },
  {
   "cell_type": "markdown",
   "metadata": {},
   "source": [
    "the on-screen message is telling us which components have been evaluated. "
   ]
  },
  {
   "cell_type": "raw",
   "metadata": {},
   "source": [
    "and we cann access a specific component using the :meth:`.Jet.get_spectral_component_by_name` method"
   ]
  },
  {
   "cell_type": "code",
   "execution_count": 91,
   "metadata": {},
   "outputs": [],
   "source": [
    "Sync=my_jet.get_spectral_component_by_name('Sync')"
   ]
  },
  {
   "cell_type": "markdown",
   "metadata": {},
   "source": [
    "OR"
   ]
  },
  {
   "cell_type": "code",
   "execution_count": 92,
   "metadata": {},
   "outputs": [],
   "source": [
    "Sync=my_jet.spectral_components.Sync"
   ]
  },
  {
   "cell_type": "markdown",
   "metadata": {},
   "source": [
    "and from the ``SED`` object we can extract both the nu and nuFnu array"
   ]
  },
  {
   "cell_type": "code",
   "execution_count": 93,
   "metadata": {},
   "outputs": [],
   "source": [
    "nu_sync=Sync.SED.nu\n",
    "nuFnu_sync=Sync.SED.nuFnu"
   ]
  },
  {
   "cell_type": "code",
   "execution_count": 94,
   "metadata": {},
   "outputs": [
    {
     "name": "stdout",
     "output_type": "stream",
     "text": [
      "[1.00000000e-120 1.00000000e-120 1.00000000e-120 1.00000000e-120\n",
      " 1.00000000e-120 1.00000000e-120 1.00000000e-120 1.00000000e-120\n",
      " 1.00000000e-120 1.00000000e-120 1.00000000e-120 3.09064764e-026\n",
      " 7.32454038e-026 1.75270679e-025 4.24520963e-025 1.04379743e-024\n",
      " 2.61693555e-024 6.67461898e-024 1.72668460e-023 4.50933880e-023\n",
      " 1.18346083e-022 3.11153382e-022 8.18386409e-022 2.15257260e-021\n",
      " 5.66184114e-021 1.48921531e-020 3.91703222e-020 1.03028181e-019\n",
      " 2.70988579e-019 7.12730622e-019 1.87412089e-018 4.92274314e-018\n",
      " 1.28806868e-017 3.27741235e-017 7.39199471e-017 1.34878914e-016\n",
      " 2.02382945e-016 2.65770333e-016 3.24635424e-016 3.83058445e-016\n",
      " 4.45026043e-016 5.13453305e-016 5.90727157e-016 6.78881277e-016\n",
      " 7.79778401e-016 8.95461935e-016 1.02817311e-015 1.18045307e-015\n",
      " 1.35526785e-015 1.55592980e-015 1.78624983e-015 2.05059908e-015\n",
      " 2.35398201e-015 2.70212561e-015 3.10158088e-015 3.55983479e-015\n",
      " 4.08543468e-015 4.68812553e-015 5.37897006e-015 6.17039952e-015\n",
      " 7.07667943e-015 8.11379434e-015 9.29966755e-015 1.06542782e-014\n",
      " 1.21997326e-014 1.39602637e-014 1.59621220e-014 1.82311459e-014\n",
      " 2.07950465e-014 2.36828829e-014 2.69215529e-014 3.05350806e-014\n",
      " 3.45426268e-014 3.89562204e-014 4.37783895e-014 4.89985917e-014\n",
      " 5.45552994e-014 6.04378782e-014 6.65997069e-014 7.29854916e-014\n",
      " 7.95326288e-014 8.61721121e-014 9.28290210e-014 9.94228713e-014\n",
      " 1.05825200e-013 1.11931166e-013 1.17698296e-013 1.23037271e-013\n",
      " 1.27861333e-013 1.32088275e-013 1.35642311e-013 1.38455735e-013\n",
      " 1.40470268e-013 1.41518202e-013 1.41656497e-013 1.40871168e-013\n",
      " 1.39139242e-013 1.36442526e-013 1.32764951e-013 1.28089975e-013\n",
      " 1.22398936e-013 1.15598996e-013 1.07511605e-013 9.82379437e-014\n",
      " 8.77659460e-014 7.61614883e-014 6.36299238e-014 5.05820160e-014\n",
      " 3.76731978e-014 2.57663289e-014 1.54978292e-014 7.89097588e-015\n",
      " 3.24677083e-015 1.00963704e-015 2.17559638e-016 2.90400262e-017\n",
      " 2.07800228e-018 6.61749416e-020 7.16587523e-022 1.51735569e-024\n",
      " 4.52069023e-028 1.02825567e-032 8.16218499e-039 1.00000000e-120\n",
      " 1.00000000e-120 1.00000000e-120 1.00000000e-120 1.00000000e-120\n",
      " 1.00000000e-120 1.00000000e-120 1.00000000e-120 1.00000000e-120\n",
      " 1.00000000e-120 1.00000000e-120 1.00000000e-120 1.00000000e-120\n",
      " 1.00000000e-120 1.00000000e-120 1.00000000e-120 1.00000000e-120\n",
      " 1.00000000e-120 1.00000000e-120 1.00000000e-120 1.00000000e-120\n",
      " 1.00000000e-120 1.00000000e-120 1.00000000e-120 1.00000000e-120\n",
      " 1.00000000e-120 1.00000000e-120 1.00000000e-120 1.00000000e-120\n",
      " 1.00000000e-120 1.00000000e-120 1.00000000e-120 1.00000000e-120\n",
      " 1.00000000e-120 1.00000000e-120 1.00000000e-120 1.00000000e-120\n",
      " 1.00000000e-120 1.00000000e-120 1.00000000e-120 1.00000000e-120\n",
      " 1.00000000e-120 1.00000000e-120 1.00000000e-120 1.00000000e-120\n",
      " 1.00000000e-120 1.00000000e-120 1.00000000e-120 1.00000000e-120\n",
      " 1.00000000e-120 1.00000000e-120 1.00000000e-120 1.00000000e-120\n",
      " 1.00000000e-120 1.00000000e-120 1.00000000e-120 1.00000000e-120\n",
      " 1.00000000e-120 1.00000000e-120 1.00000000e-120 1.00000000e-120\n",
      " 1.00000000e-120 1.00000000e-120 1.00000000e-120 1.00000000e-120\n",
      " 1.00000000e-120 1.00000000e-120 1.00000000e-120 1.00000000e-120\n",
      " 1.00000000e-120 1.00000000e-120 1.00000000e-120 1.00000000e-120\n",
      " 1.00000000e-120 1.00000000e-120 1.00000000e-120 1.00000000e-120]\n"
     ]
    }
   ],
   "source": [
    "print (nuFnu_sync)"
   ]
  },
  {
   "cell_type": "code",
   "execution_count": null,
   "metadata": {},
   "outputs": [],
   "source": []
  },
  {
   "cell_type": "code",
   "execution_count": null,
   "metadata": {},
   "outputs": [],
   "source": []
  },
  {
   "cell_type": "code",
   "execution_count": null,
   "metadata": {},
   "outputs": [],
   "source": []
  }
 ],
 "metadata": {
  "kernelspec": {
   "display_name": "Python 3",
   "language": "python",
   "name": "python3"
  },
  "language_info": {
   "codemirror_mode": {
    "name": "ipython",
    "version": 3
   },
   "file_extension": ".py",
   "mimetype": "text/x-python",
   "name": "python",
   "nbconvert_exporter": "python",
   "pygments_lexer": "ipython3",
   "version": "3.7.2"
  }
 },
 "nbformat": 4,
 "nbformat_minor": 2
}
