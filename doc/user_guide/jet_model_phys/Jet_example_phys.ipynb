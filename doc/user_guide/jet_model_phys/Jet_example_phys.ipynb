{
 "cells": [
  {
   "cell_type": "raw",
   "metadata": {},
   "source": [
    ".. _jet_physical_guide:\n",
    "\n"
   ]
  },
  {
   "cell_type": "markdown",
   "metadata": {},
   "source": [
    "# jet_model  user guide \n"
   ]
  },
  {
   "cell_type": "raw",
   "metadata": {},
   "source": [
    "\n",
    "In this section we describe how  to buil a model of jet able to reproduce SSC/EC emission processes, using the :class:`.Jet` class from the :mod:`.jet_model` module. to This class thorough a flexible and intuitive interface allows to access the C numerical code that provides an accurate and fast computation of the synchrotron and inverse Compoton processes.  "
   ]
  },
  {
   "cell_type": "markdown",
   "metadata": {},
   "source": [
    "## basic  setup"
   ]
  },
  {
   "cell_type": "raw",
   "metadata": {},
   "source": [
    "A jet can be built using the  the :class:`.Jet` class, istanciating a jet object, in the following way:"
   ]
  },
  {
   "cell_type": "code",
   "execution_count": 1,
   "metadata": {},
   "outputs": [],
   "source": [
    "%matplotlib inline\n",
    "from jetset.jet_model import Jet\n",
    "my_jet=Jet(name='test',electron_distribution='lppl',)"
   ]
  },
  {
   "cell_type": "raw",
   "metadata": {},
   "source": [
    "This instruction will create:\n",
    "    * a ``Jet`` object with ``name`` **test**,\n",
    "    * using as electron distribution the **lppl** model, that is a log-parabola witha low-energy power-law branch.\n",
    "    * using as wokring directory **test_jet_prod**\n",
    "\n",
    "For a list of possible distribution you can run the command"
   ]
  },
  {
   "cell_type": "code",
   "execution_count": 2,
   "metadata": {},
   "outputs": [
    {
     "name": "stdout",
     "output_type": "stream",
     "text": [
      "lp: log-parabola\n",
      "pl: powerlaw\n",
      "lppl: log-parabola with low-energy powerlaw branch\n",
      "lpep: log-parabola defined by peak energy\n",
      "plc: powerlaw with cut-off\n",
      "bkn: broken powerlaw\n",
      "spitkov: \n",
      "lppl_pile_up: \n",
      "bkn_pile_up: \n"
     ]
    }
   ],
   "source": [
    "Jet.available_electron_distributions()"
   ]
  },
  {
   "cell_type": "raw",
   "metadata": {},
   "source": [
    "The parameters of the model are accessible throug the instruction"
   ]
  },
  {
   "cell_type": "code",
   "execution_count": 3,
   "metadata": {},
   "outputs": [
    {
     "name": "stdout",
     "output_type": "stream",
     "text": [
      "-------------------------------------------------------------------------------------------------------------------\n",
      "model parameters:\n",
      " Name             | Type                 | Units            | value         | phys. boundaries              | log\n",
      "-------------------------------------------------------------------------------------------------------------------\n",
      " B                | magnetic_field       | G                | +1.000000e-01 | [+0.000000e+00,No           ] | False \n",
      " N                | electron_density     | cm^-3            | +1.000000e+02 | [+0.000000e+00,No           ] | False \n",
      " R                | region_size          | cm               | +1.569897e+01 | [+0.000000e+00,+3.000000e+01] | True \n",
      " beam_obj         | beaming              |                  | +1.000000e+01 | [+1.000000e+00,No           ] | False \n",
      " gamma0_log_parab | turn-over-energy     | Lorentz-factor   | +1.000000e+04 | [+1.000000e+00,+1.000000e+08] | False \n",
      " gmax             | high-energy-cut-off  | Lorentz-factor   | +1.000000e+06 | [+1.000000e+00,+1.000000e+15] | False \n",
      " gmin             | low-energy-cut-off   | Lorentz-factor   | +2.000000e+00 | [+1.000000e+00,+1.000000e+05] | False \n",
      " r                | spectral_curvature   |                  | +4.000000e-01 | [-1.500000e+01,+1.500000e+01] | False \n",
      " s                | LE_spectral_slope    |                  | +2.000000e+00 | [-1.000000e+01,+1.000000e+01] | False \n",
      " z_cosm           | redshift             |                  | +1.000000e-01 | [+0.000000e+00,No           ] | False \n",
      "-------------------------------------------------------------------------------------------------------------------\n"
     ]
    }
   ],
   "source": [
    "my_jet.show_pars()"
   ]
  },
  {
   "cell_type": "raw",
   "metadata": {},
   "source": [
    "Each parameter has default values. All the parameters listed are handled by :class:`.ModelParameterArray`, and each parameter is an instance of the the :class:`.JetParameter`. class\n",
    "\n",
    "To get a full description of the model you can use the instruction"
   ]
  },
  {
   "cell_type": "code",
   "execution_count": 4,
   "metadata": {},
   "outputs": [
    {
     "name": "stdout",
     "output_type": "stream",
     "text": [
      "\n",
      "-------------------------------------------------------------------------------------------------------------------\n",
      "jet model description\n",
      "-------------------------------------------------------------------------------------------------------------------\n",
      "name: test  \n",
      "\n",
      "electron distribution:\n",
      " type: lppl  \n",
      " electron energy grid size:  1001\n",
      " gmin grid : 2.000000e+00\n",
      " gmax grid : 1.000000e+06\n",
      "\n",
      "radiative fields:\n",
      " seed photons grid size:  100\n",
      " IC emission grid size:  50\n",
      " source emissivity lower bound :  1.000000e-120\n",
      " spectral components:\n",
      "   name:Sum, state: on\n",
      "   name:Sync, state: self-abs\n",
      "   name:SSC, state: on\n",
      "\n",
      "SED info:\n",
      " nu grid size :200\n",
      " nu mix (Hz): 1.000000e+06\n",
      " nu max (Hz): 1.000000e+30\n",
      "\n",
      "flux plot lower bound   :  1.000000e-30\n",
      "\n",
      "-------------------------------------------------------------------------------------------------------------------\n",
      "model parameters:\n",
      " Name             | Type                 | Units            | value         | phys. boundaries              | log\n",
      "-------------------------------------------------------------------------------------------------------------------\n",
      " B                | magnetic_field       | G                | +1.000000e-01 | [+0.000000e+00,No           ] | False \n",
      " N                | electron_density     | cm^-3            | +1.000000e+02 | [+0.000000e+00,No           ] | False \n",
      " R                | region_size          | cm               | +1.569897e+01 | [+0.000000e+00,+3.000000e+01] | True \n",
      " beam_obj         | beaming              |                  | +1.000000e+01 | [+1.000000e+00,No           ] | False \n",
      " gamma0_log_parab | turn-over-energy     | Lorentz-factor   | +1.000000e+04 | [+1.000000e+00,+1.000000e+08] | False \n",
      " gmax             | high-energy-cut-off  | Lorentz-factor   | +1.000000e+06 | [+1.000000e+00,+1.000000e+15] | False \n",
      " gmin             | low-energy-cut-off   | Lorentz-factor   | +2.000000e+00 | [+1.000000e+00,+1.000000e+05] | False \n",
      " r                | spectral_curvature   |                  | +4.000000e-01 | [-1.500000e+01,+1.500000e+01] | False \n",
      " s                | LE_spectral_slope    |                  | +2.000000e+00 | [-1.000000e+01,+1.000000e+01] | False \n",
      " z_cosm           | redshift             |                  | +1.000000e-01 | [+0.000000e+00,No           ] | False \n",
      "-------------------------------------------------------------------------------------------------------------------\n",
      "-------------------------------------------------------------------------------------------------------------------\n"
     ]
    }
   ],
   "source": [
    "my_jet.show_model()"
   ]
  },
  {
   "cell_type": "markdown",
   "metadata": {},
   "source": [
    "as you can notice, you can now access further information regarding the model, such as numerical configuration of the grid. These parameters will be discussed \n",
    "in the :ref:`jet_numerical_guide' section"
   ]
  },
  {
   "cell_type": "markdown",
   "metadata": {},
   "source": [
    "## setting the parameters"
   ]
  },
  {
   "cell_type": "raw",
   "metadata": {},
   "source": [
    "assume you want to change some of the parameters in your model, you can use two methods:\n",
    "\n",
    "1) using the :class:`.Jet.set_par()` method "
   ]
  },
  {
   "cell_type": "code",
   "execution_count": 5,
   "metadata": {},
   "outputs": [],
   "source": [
    "my_jet.set_par('B',val=0.2)\n",
    "my_jet.set_par('gamma0_log_parab',val=5E3)\n",
    "my_jet.set_par('gmin',val=1E2)\n",
    "my_jet.set_par('gmax',val=1E8)\n",
    "my_jet.set_par('R',val=14.5)\n",
    "my_jet.set_par('N',val=1E3)"
   ]
  },
  {
   "cell_type": "raw",
   "metadata": {},
   "source": [
    "2) accessing directly the parameter "
   ]
  },
  {
   "cell_type": "code",
   "execution_count": 6,
   "metadata": {},
   "outputs": [],
   "source": [
    "my_jet.parameters.B.val=0.2\n",
    "my_jet.parameters.r.val=0.4"
   ]
  },
  {
   "cell_type": "markdown",
   "metadata": {},
   "source": [
    "## evaluate and plot  the model"
   ]
  },
  {
   "cell_type": "markdown",
   "metadata": {},
   "source": [
    "\n",
    "At this point we can evaluate the  emission for this jet model using the instruction"
   ]
  },
  {
   "cell_type": "code",
   "execution_count": 7,
   "metadata": {},
   "outputs": [],
   "source": [
    "my_jet.eval()"
   ]
  },
  {
   "cell_type": "code",
   "execution_count": 8,
   "metadata": {},
   "outputs": [
    {
     "name": "stdout",
     "output_type": "stream",
     "text": [
      "-------------------------------------------------------------------------------------------------------------------\n",
      "model parameters:\n",
      " Name             | Type                 | Units            | value         | phys. boundaries              | log\n",
      "-------------------------------------------------------------------------------------------------------------------\n",
      " B                | magnetic_field       | G                | +2.000000e-01 | [+0.000000e+00,No           ] | False \n",
      " N                | electron_density     | cm^-3            | +1.000000e+03 | [+0.000000e+00,No           ] | False \n",
      " R                | region_size          | cm               | +1.450000e+01 | [+0.000000e+00,+3.000000e+01] | True \n",
      " beam_obj         | beaming              |                  | +1.000000e+01 | [+1.000000e+00,No           ] | False \n",
      " gamma0_log_parab | turn-over-energy     | Lorentz-factor   | +5.000000e+03 | [+1.000000e+00,+1.000000e+08] | False \n",
      " gmax             | high-energy-cut-off  | Lorentz-factor   | +1.000000e+08 | [+1.000000e+00,+1.000000e+15] | False \n",
      " gmin             | low-energy-cut-off   | Lorentz-factor   | +1.000000e+02 | [+1.000000e+00,+1.000000e+05] | False \n",
      " r                | spectral_curvature   |                  | +4.000000e-01 | [-1.500000e+01,+1.500000e+01] | False \n",
      " s                | LE_spectral_slope    |                  | +2.000000e+00 | [-1.000000e+01,+1.000000e+01] | False \n",
      " z_cosm           | redshift             |                  | +1.000000e-01 | [+0.000000e+00,No           ] | False \n",
      "-------------------------------------------------------------------------------------------------------------------\n"
     ]
    }
   ],
   "source": [
    "my_jet.show_pars()"
   ]
  },
  {
   "cell_type": "markdown",
   "metadata": {},
   "source": [
    "and plot the corresponding SED:\n"
   ]
  },
  {
   "cell_type": "code",
   "execution_count": 9,
   "metadata": {},
   "outputs": [
    {
     "data": {
      "image/png": "[encoded data removed]",
      "text/plain": [
       "<Figure size 720x432 with 2 Axes>"
      ]
     },
     "metadata": {},
     "output_type": "display_data"
    }
   ],
   "source": [
    "from jetset.plot_sedfit import PlotSED\n",
    "my_plot=PlotSED()\n",
    "my_jet.plot_model(plot_obj=my_plot)\n",
    "my_plot.rescale(y_max=-13,y_min=-17.5,x_min=8)"
   ]
  },
  {
   "cell_type": "markdown",
   "metadata": {},
   "source": [
    "alternatively, you can call the ``plot_model`` method without passing a ``Plot`` object"
   ]
  },
  {
   "cell_type": "code",
   "execution_count": 10,
   "metadata": {},
   "outputs": [
    {
     "data": {
      "image/png": "[encoded data removed]",
      "text/plain": [
       "<Figure size 720x432 with 2 Axes>"
      ]
     },
     "metadata": {},
     "output_type": "display_data"
    }
   ],
   "source": [
    "my_plot=my_jet.plot_model()\n",
    "my_plot.rescale(y_max=-13,y_min=-17.5,x_min=8)"
   ]
  },
  {
   "cell_type": "markdown",
   "metadata": {},
   "source": [
    "the ``my_plot`` objet returned will be built on the fly by the  ``plot_model`` method"
   ]
  },
  {
   "cell_type": "raw",
   "metadata": {},
   "source": [
    "if you wanto to have interacitve plot:\n",
    "\n",
    "1) in a jupyter notebook use:\n",
    "\n",
    ".. code-block:: no\n",
    "\n",
    "    %matplotlib notebook\n",
    "\n",
    "\n",
    "2) in an ipython terminal\n",
    "\n",
    ".. code-block:: python\n",
    "    \n",
    "    from matplotlib import pylab as plt\n",
    "    plt.ion()"
   ]
  },
  {
   "cell_type": "markdown",
   "metadata": {},
   "source": [
    "## comparing models on the same plot"
   ]
  },
  {
   "cell_type": "markdown",
   "metadata": {},
   "source": [
    "to compare the same model after changing a parameter"
   ]
  },
  {
   "cell_type": "code",
   "execution_count": 11,
   "metadata": {},
   "outputs": [
    {
     "data": {
      "image/png": "[encoded data removed]",
      "text/plain": [
       "<Figure size 720x432 with 2 Axes>"
      ]
     },
     "metadata": {},
     "output_type": "display_data"
    }
   ],
   "source": [
    "my_jet.parameters.gamma0_log_parab.val=1E4\n",
    "my_jet.eval()\n",
    "my_plot=my_jet.plot_model(label='gamma0_log_parab=1E4',comp='Sum')\n",
    "my_jet.set_par('gamma0_log_parab',val=1.0E5)\n",
    "my_jet.eval()\n",
    "my_plot=my_jet.plot_model(my_plot,label='gamma0_log_parab=1E5',comp='Sum')\n",
    "my_plot.rescale(y_max=-13,y_min=-17.5,x_min=8)"
   ]
  },
  {
   "cell_type": "markdown",
   "metadata": {},
   "source": [
    "## saving a plot"
   ]
  },
  {
   "cell_type": "markdown",
   "metadata": {},
   "source": [
    "to save the plot"
   ]
  },
  {
   "cell_type": "code",
   "execution_count": 12,
   "metadata": {},
   "outputs": [],
   "source": [
    "my_plot.save('jet1.png')"
   ]
  },
  {
   "cell_type": "markdown",
   "metadata": {},
   "source": [
    "## saving and lodaing  a model"
   ]
  },
  {
   "cell_type": "code",
   "execution_count": 13,
   "metadata": {},
   "outputs": [],
   "source": [
    "my_jet.save_model('test_model.dat')"
   ]
  },
  {
   "cell_type": "code",
   "execution_count": 14,
   "metadata": {},
   "outputs": [
    {
     "name": "stdout",
     "output_type": "stream",
     "text": [
      "-------------------------------------------------------------------------------------------------------------------\n",
      "model parameters:\n",
      " Name             | Type                 | Units            | value         | phys. boundaries              | log\n",
      "-------------------------------------------------------------------------------------------------------------------\n",
      " B                | magnetic_field       | G                | +1.000000e-01 | [+0.000000e+00,No           ] | False \n",
      " N                | electron_density     | cm^-3            | +1.000000e+02 | [+0.000000e+00,No           ] | False \n",
      " R                | region_size          | cm               | +1.569897e+01 | [+0.000000e+00,+3.000000e+01] | True \n",
      " beam_obj         | beaming              |                  | +1.000000e+01 | [+1.000000e+00,No           ] | False \n",
      " gamma0_log_parab | turn-over-energy     | Lorentz-factor   | +1.000000e+04 | [+1.000000e+00,+1.000000e+08] | False \n",
      " gmax             | high-energy-cut-off  | Lorentz-factor   | +1.000000e+06 | [+1.000000e+00,+1.000000e+15] | False \n",
      " gmin             | low-energy-cut-off   | Lorentz-factor   | +2.000000e+00 | [+1.000000e+00,+1.000000e+05] | False \n",
      " r                | spectral_curvature   |                  | +4.000000e-01 | [-1.500000e+01,+1.500000e+01] | False \n",
      " s                | LE_spectral_slope    |                  | +2.000000e+00 | [-1.000000e+01,+1.000000e+01] | False \n",
      " z_cosm           | redshift             |                  | +1.000000e-01 | [+0.000000e+00,No           ] | False \n",
      "-------------------------------------------------------------------------------------------------------------------\n"
     ]
    }
   ],
   "source": [
    "my_jet_new=Jet.load_model('test_model.dat')"
   ]
  },
  {
   "cell_type": "markdown",
   "metadata": {},
   "source": [
    "## set  N, the density of electrons from observed Flux"
   ]
  },
  {
   "cell_type": "raw",
   "metadata": {},
   "source": [
    "As default the electron distributions are normalized, i.e. are mutliplied by a constant ``N_0``, in such a way that :\n",
    "\n",
    ":math:`\\int_{\\gamma_{min}}^{\\gamma_{max}} n(\\gamma) d\\gamma =1`, \n",
    "\n",
    "it means the the value `N`, refers to the actual desinty of emitters.\n",
    "If you want to chance this behaviour, you can start looking at the sate of ``Norm_distr`` flag with the following command"
   ]
  },
  {
   "cell_type": "code",
   "execution_count": 15,
   "metadata": {},
   "outputs": [
    {
     "data": {
      "text/plain": [
       "1"
      ]
     },
     "execution_count": 15,
     "metadata": {},
     "output_type": "execute_result"
    }
   ],
   "source": [
    "my_jet.Norm_distr"
   ]
  },
  {
   "cell_type": "raw",
   "metadata": {},
   "source": [
    "and then you can switch off the normalization withe command"
   ]
  },
  {
   "cell_type": "code",
   "execution_count": 16,
   "metadata": {},
   "outputs": [],
   "source": [
    "my_jet.switch_Norm_distr_OFF()"
   ]
  },
  {
   "cell_type": "raw",
   "metadata": {},
   "source": [
    "or set back the normalization on with"
   ]
  },
  {
   "cell_type": "code",
   "execution_count": null,
   "metadata": {},
   "outputs": [],
   "source": [
    "my_jet.switch_Norm_distr_ON()"
   ]
  },
  {
   "cell_type": "markdown",
   "metadata": {},
   "source": [
    "## set  N, the density of electrons from observed Flux"
   ]
  },
  {
   "cell_type": "raw",
   "metadata": {},
   "source": [
    "It is possible to set the density of emitting particle starting from some observed luminosity or flux (see the method     :meth:`.Jet.set_N_from_nuFnu`,th:`.Jet.set_N_from_nuLnu`)"
   ]
  },
  {
   "cell_type": "code",
   "execution_count": 19,
   "metadata": {},
   "outputs": [],
   "source": [
    "my_jet=Jet(name='test',electron_distribution='lppl')"
   ]
  },
  {
   "cell_type": "markdown",
   "metadata": {},
   "source": [
    "this is the initial value of N"
   ]
  },
  {
   "cell_type": "code",
   "execution_count": 20,
   "metadata": {},
   "outputs": [
    {
     "data": {
      "text/plain": [
       "100.0"
      ]
     },
     "execution_count": 20,
     "metadata": {},
     "output_type": "execute_result"
    }
   ],
   "source": [
    "my_jet.parameters.N.val"
   ]
  },
  {
   "cell_type": "raw",
   "metadata": {},
   "source": [
    "we now want to set the value of ``N`` in order that the observed synchrotron flux at a given frequency matches a desired value. \n",
    "For example, assume that we whis to set ``N`` in oreder that  the sychrotron flux at math:`10^{15}` Hz is exactly matching the desired value of :math:`10^{-=14}` ergs cm-2 s-1. We can accomplish this by using the :class:`.Jet.get_par_by_name()` as follows: "
   ]
  },
  {
   "cell_type": "code",
   "execution_count": 30,
   "metadata": {},
   "outputs": [],
   "source": [
    "\n",
    "my_jet.set_N_from_nuFnu(nuFnu_obs=1E-14,nu_obs=1E15)"
   ]
  },
  {
   "cell_type": "markdown",
   "metadata": {},
   "source": [
    "This is the updated value of ``N``, obtained in order to match the given flux at the given frequency"
   ]
  },
  {
   "cell_type": "code",
   "execution_count": 31,
   "metadata": {},
   "outputs": [
    {
     "data": {
      "text/plain": [
       "249.04461454958587"
      ]
     },
     "execution_count": 31,
     "metadata": {},
     "output_type": "execute_result"
    }
   ],
   "source": [
    "my_jet.get_par_by_name('N').val"
   ]
  },
  {
   "cell_type": "code",
   "execution_count": 28,
   "metadata": {},
   "outputs": [
    {
     "name": "stdout",
     "output_type": "stream",
     "text": [
      "-------------------------------------------------------------------------------------------------------------------\n",
      "model parameters:\n",
      " Name             | Type                 | Units            | value         | phys. boundaries              | log\n",
      "-------------------------------------------------------------------------------------------------------------------\n",
      " N                | electron_density     | cm^-3            | +2.490446e+02 | [+0.000000e+00,No           ] | False \n",
      " gmin             | low-energy-cut-off   | Lorentz-factor   | +2.000000e+00 | [+1.000000e+00,+1.000000e+05] | False \n",
      " gmax             | high-energy-cut-off  | Lorentz-factor   | +1.000000e+06 | [+1.000000e+00,+1.000000e+15] | False \n",
      " s                | LE_spectral_slope    |                  | +2.000000e+00 | [-1.000000e+01,+1.000000e+01] | False \n",
      " r                | spectral_curvature   |                  | +4.000000e-01 | [-1.500000e+01,+1.500000e+01] | False \n",
      " gamma0_log_parab | turn-over-energy     | Lorentz-factor   | +1.000000e+04 | [+1.000000e+00,+1.000000e+08] | False \n",
      " R                | region_size          | cm               | +1.569897e+01 | [+0.000000e+00,+3.000000e+01] | True \n",
      " B                | magnetic_field       | G                | +1.000000e-01 | [+0.000000e+00,No           ] | False \n",
      " beam_obj         | beaming              |                  | +1.000000e+01 | [+1.000000e+00,No           ] | False \n",
      " z_cosm           | redshift             |                  | +1.000000e-01 | [+0.000000e+00,No           ] | False \n",
      "-------------------------------------------------------------------------------------------------------------------\n"
     ]
    }
   ],
   "source": [
    "my_jet.parameters.show_pars()"
   ]
  },
  {
   "cell_type": "code",
   "execution_count": 29,
   "metadata": {},
   "outputs": [
    {
     "data": {
      "image/png": "[encoded data removed]",
      "text/plain": [
       "<Figure size 720x432 with 2 Axes>"
      ]
     },
     "metadata": {},
     "output_type": "display_data"
    }
   ],
   "source": [
    "my_jet.eval()\n",
    "my_plot=my_jet.plot_model(label='set N from F=1E-14')\n",
    "my_plot.rescale(y_max=-13,y_min=-17.5,x_min=8)"
   ]
  },
  {
   "cell_type": "raw",
   "metadata": {},
   "source": [
    "as you can see, the sychrotron flux at :math:`10^{15}` Hz is exactly matching the desired value of :math:`10^{-14}` ergs cm-2 s-1.\n",
    "Alternatively, the value of N  can be obtained using the rest-frame luminosity and  freqency, using the :class:`.Jet.set_N_from_nuLnu()"
   ]
  },
  {
   "cell_type": "code",
   "execution_count": 37,
   "metadata": {},
   "outputs": [],
   "source": [
    "my_jet.set_N_from_nuLnu(L_0=1E43,nu_0=1E15)"
   ]
  },
  {
   "cell_type": "raw",
   "metadata": {},
   "source": [
    "where ``L_0`` is the rest-frame luminosity in erg/s at the rest-frame frequency ``nu_0`` in Hz.\n",
    "\n"
   ]
  },
  {
   "cell_type": "markdown",
   "metadata": {},
   "source": [
    "## setting beaming factor\n",
    "\n",
    "It is possible to set the bemaing factor according to the realativistic BulkFactor and viewing angle, this can be done by setting the ``beaming_expr`` kw in the Jet constructor, possbile choiches are\n",
    "\n",
    "* `delta` to provide directly the beaming factor (default)\n",
    "* `bulk_theta` to provide the BulkFactor and the jet  viewing angle "
   ]
  },
  {
   "cell_type": "code",
   "execution_count": 40,
   "metadata": {},
   "outputs": [],
   "source": [
    "my_jet=Jet(name='test',electron_distribution='lppl',beaming_expr='bulk_theta')"
   ]
  },
  {
   "cell_type": "code",
   "execution_count": 41,
   "metadata": {},
   "outputs": [
    {
     "name": "stdout",
     "output_type": "stream",
     "text": [
      "-------------------------------------------------------------------------------------------------------------------\n",
      "model parameters:\n",
      " Name             | Type                 | Units            | value         | phys. boundaries              | log\n",
      "-------------------------------------------------------------------------------------------------------------------\n",
      " N                | electron_density     | cm^-3            | +1.000000e+02 | [+0.000000e+00,No           ] | False \n",
      " gmin             | low-energy-cut-off   | Lorentz-factor   | +2.000000e+00 | [+1.000000e+00,+1.000000e+05] | False \n",
      " gmax             | high-energy-cut-off  | Lorentz-factor   | +1.000000e+06 | [+1.000000e+00,+1.000000e+15] | False \n",
      " s                | LE_spectral_slope    |                  | +2.000000e+00 | [-1.000000e+01,+1.000000e+01] | False \n",
      " r                | spectral_curvature   |                  | +4.000000e-01 | [-1.500000e+01,+1.500000e+01] | False \n",
      " gamma0_log_parab | turn-over-energy     | Lorentz-factor   | +1.000000e+04 | [+1.000000e+00,+1.000000e+08] | False \n",
      " R                | region_size          | cm               | +1.569897e+01 | [+0.000000e+00,+3.000000e+01] | True \n",
      " B                | magnetic_field       | G                | +1.000000e-01 | [+0.000000e+00,No           ] | False \n",
      " theta            | jet-viewing-angle    | deg              | +1.000000e-01 | [+0.000000e+00,No           ] | False \n",
      " BulkFactor       | jet-bulk-factor      | Lorentz-factor   | +1.000000e+01 | [+1.000000e+00,No           ] | False \n",
      " z_cosm           | redshift             |                  | +1.000000e-01 | [+0.000000e+00,No           ] | False \n",
      "-------------------------------------------------------------------------------------------------------------------\n"
     ]
    }
   ],
   "source": [
    "my_jet.parameters.show_pars()"
   ]
  },
  {
   "cell_type": "raw",
   "metadata": {},
   "source": [
    "the actual value of the beaming factor che be obatained using the :meth:`.Jet.get_beaming`"
   ]
  },
  {
   "cell_type": "code",
   "execution_count": 42,
   "metadata": {},
   "outputs": [
    {
     "data": {
      "text/plain": [
       "19.943844732554165"
      ]
     },
     "execution_count": 42,
     "metadata": {},
     "output_type": "execute_result"
    }
   ],
   "source": [
    "my_jet.get_beaming()"
   ]
  },
  {
   "cell_type": "raw",
   "metadata": {},
   "source": [
    "We can change the value of ``theta`` and get the updated value of the beaming factor"
   ]
  },
  {
   "cell_type": "code",
   "execution_count": 31,
   "metadata": {},
   "outputs": [],
   "source": [
    "my_jet.set_par('theta',val=10.)"
   ]
  },
  {
   "cell_type": "code",
   "execution_count": 43,
   "metadata": {},
   "outputs": [
    {
     "data": {
      "text/plain": [
       "19.943844732554165"
      ]
     },
     "execution_count": 43,
     "metadata": {},
     "output_type": "execute_result"
    }
   ],
   "source": [
    "my_jet.get_beaming()"
   ]
  },
  {
   "cell_type": "raw",
   "metadata": {},
   "source": [
    "of course setting `beaming_expr=delta` we get the same beaming expression as in the default case"
   ]
  },
  {
   "cell_type": "code",
   "execution_count": 33,
   "metadata": {},
   "outputs": [],
   "source": [
    "my_jet=jet_model.Jet(name='test',electron_distribution='lppl',beaming_expr='delta')"
   ]
  },
  {
   "cell_type": "code",
   "execution_count": 44,
   "metadata": {},
   "outputs": [
    {
     "name": "stdout",
     "output_type": "stream",
     "text": [
      "-------------------------------------------------------------------------------------------------------------------\n",
      "model parameters:\n",
      " Name             | Type                 | Units            | value         | phys. boundaries              | log\n",
      "-------------------------------------------------------------------------------------------------------------------\n",
      " N                | electron_density     | cm^-3            | +1.000000e+02 | [+0.000000e+00,No           ] | False \n",
      " gmin             | low-energy-cut-off   | Lorentz-factor   | +2.000000e+00 | [+1.000000e+00,+1.000000e+05] | False \n",
      " gmax             | high-energy-cut-off  | Lorentz-factor   | +1.000000e+06 | [+1.000000e+00,+1.000000e+15] | False \n",
      " s                | LE_spectral_slope    |                  | +2.000000e+00 | [-1.000000e+01,+1.000000e+01] | False \n",
      " r                | spectral_curvature   |                  | +4.000000e-01 | [-1.500000e+01,+1.500000e+01] | False \n",
      " gamma0_log_parab | turn-over-energy     | Lorentz-factor   | +1.000000e+04 | [+1.000000e+00,+1.000000e+08] | False \n",
      " R                | region_size          | cm               | +1.569897e+01 | [+0.000000e+00,+3.000000e+01] | True \n",
      " B                | magnetic_field       | G                | +1.000000e-01 | [+0.000000e+00,No           ] | False \n",
      " theta            | jet-viewing-angle    | deg              | +1.000000e-01 | [+0.000000e+00,No           ] | False \n",
      " BulkFactor       | jet-bulk-factor      | Lorentz-factor   | +1.000000e+01 | [+1.000000e+00,No           ] | False \n",
      " z_cosm           | redshift             |                  | +1.000000e-01 | [+0.000000e+00,No           ] | False \n",
      "-------------------------------------------------------------------------------------------------------------------\n"
     ]
    }
   ],
   "source": [
    "my_jet.parameters.show_pars()"
   ]
  },
  {
   "cell_type": "markdown",
   "metadata": {},
   "source": [
    "## accessing individual components\n",
    "\n",
    "It is possible to access specific spectral components of oura model"
   ]
  },
  {
   "cell_type": "code",
   "execution_count": 46,
   "metadata": {},
   "outputs": [],
   "source": [
    "my_jet=Jet(name='test',electron_distribution='lppl',beaming_expr='bulk_theta')\n",
    "my_jet.eval()"
   ]
  },
  {
   "cell_type": "raw",
   "metadata": {},
   "source": [
    "We can obtain this information anytime using the :meth:`.Jet.list_spectral_components` method"
   ]
  },
  {
   "cell_type": "code",
   "execution_count": 47,
   "metadata": {},
   "outputs": [
    {
     "name": "stdout",
     "output_type": "stream",
     "text": [
      "Sum\n",
      "Sync\n",
      "SSC\n"
     ]
    }
   ],
   "source": [
    "\n",
    "my_jet.list_spectral_components()"
   ]
  },
  {
   "cell_type": "markdown",
   "metadata": {},
   "source": [
    "the on-screen message is telling us which components have been evaluated. "
   ]
  },
  {
   "cell_type": "raw",
   "metadata": {},
   "source": [
    "and we cann access a specific component using the :meth:`.Jet.get_spectral_component_by_name` method"
   ]
  },
  {
   "cell_type": "code",
   "execution_count": 48,
   "metadata": {},
   "outputs": [],
   "source": [
    "Sync=my_jet.get_spectral_component_by_name('Sync')"
   ]
  },
  {
   "cell_type": "markdown",
   "metadata": {},
   "source": [
    "OR"
   ]
  },
  {
   "cell_type": "code",
   "execution_count": 49,
   "metadata": {},
   "outputs": [],
   "source": [
    "Sync=my_jet.spectral_components.Sync"
   ]
  },
  {
   "cell_type": "markdown",
   "metadata": {},
   "source": [
    "and from the ``SED`` object we can extract both the nu and nuFnu array"
   ]
  },
  {
   "cell_type": "code",
   "execution_count": 38,
   "metadata": {},
   "outputs": [],
   "source": [
    "nu_sync=Sync.SED.nu\n",
    "nuFnu_sync=Sync.SED.nuFnu"
   ]
  },
  {
   "cell_type": "code",
   "execution_count": 39,
   "metadata": {},
   "outputs": [
    {
     "name": "stdout",
     "output_type": "stream",
     "text": [
      "[1.00000000e-30 1.00000000e-30 1.00000000e-30 1.00000000e-30\n",
      " 1.00000000e-30 1.00000000e-30 1.00000000e-30 1.00000000e-30\n",
      " 1.00000000e-30 1.00000000e-30 1.00000000e-30 1.99195355e-26\n",
      " 4.32084831e-26 9.42080231e-26 2.07796467e-25 4.64226006e-25\n",
      " 1.07421835e-24 2.57262866e-24 6.33304102e-24 1.62172378e-23\n",
      " 4.21830732e-23 1.10565753e-22 2.90749001e-22 7.64703810e-22\n",
      " 2.01137205e-21 5.29044499e-21 1.39152631e-20 3.66005742e-20\n",
      " 9.62674977e-20 2.53161731e-19 6.65135791e-19 1.74532879e-18\n",
      " 4.47162406e-18 1.04798662e-17 2.22510780e-17 3.42183006e-17\n",
      " 4.73795507e-17 5.98146121e-17 7.08393890e-17 8.27924884e-17\n",
      " 9.58571035e-17 1.10361592e-16 1.26894305e-16 1.45793212e-16\n",
      " 1.67429058e-16 1.92253041e-16 2.20741484e-16 2.53430172e-16\n",
      " 2.90956596e-16 3.34034909e-16 3.83482107e-16 4.40231844e-16\n",
      " 5.05364252e-16 5.80111171e-16 6.65860835e-16 7.64238867e-16\n",
      " 8.77094393e-16 1.00644889e-15 1.15473841e-15 1.32470643e-15\n",
      " 1.51922268e-15 1.74184487e-15 1.99657203e-15 2.28728218e-15\n",
      " 2.61887108e-15 2.99699329e-15 3.42637539e-15 3.91284208e-15\n",
      " 4.46398022e-15 5.08436971e-15 5.77822165e-15 6.55504712e-15\n",
      " 7.41688282e-15 8.35893256e-15 9.39317225e-15 1.05162021e-14\n",
      " 1.17012783e-14 1.29677483e-14 1.43077405e-14 1.56618661e-14\n",
      " 1.70669190e-14 1.85140020e-14 1.99149955e-14 2.13199797e-14\n",
      " 2.27192694e-14 2.40181924e-14 2.52556860e-14 2.64340055e-14\n",
      " 2.74611617e-14 2.83590869e-14 2.91498397e-14 2.97544176e-14\n",
      " 3.01736120e-14 3.04551553e-14 3.05414488e-14 3.04103209e-14\n",
      " 3.01368848e-14 2.96892404e-14 2.90230677e-14 2.82372882e-14\n",
      " 2.73248535e-14 2.62226222e-14 2.50449532e-14 2.38042485e-14\n",
      " 2.24239213e-14 2.10225626e-14 1.96144574e-14 1.81447517e-14\n",
      " 1.66964251e-14 1.52898970e-14 1.38900619e-14 1.25442884e-14\n",
      " 1.12742894e-14 1.00574503e-14 8.91399490e-15 7.86233347e-15\n",
      " 6.88692857e-15 5.99001626e-15 5.18464148e-15 4.45908613e-15\n",
      " 3.80577564e-15 3.23238294e-15 2.72949108e-15 2.28586629e-15\n",
      " 1.90500228e-15 1.57929305e-15 1.29769920e-15 1.06107838e-15\n",
      " 8.63339561e-16 6.96082614e-16 5.58275014e-16 4.45484724e-16\n",
      " 3.52308323e-16 2.76800930e-16 2.16201897e-16 1.67118893e-16\n",
      " 1.27789365e-16 9.67429184e-17 7.19114364e-17 5.19813320e-17\n",
      " 3.65724953e-17 2.45791387e-17 1.51568234e-17 8.62852876e-18\n",
      " 4.37420009e-18 1.73809120e-18 5.58993124e-19 1.38471677e-19\n",
      " 1.84044040e-20 1.46229352e-21 6.75656391e-23 6.84161407e-25\n",
      " 2.05558538e-27 1.70711836e-30 1.00000000e-30 1.00000000e-30\n",
      " 1.00000000e-30 1.00000000e-30 1.00000000e-30 1.00000000e-30\n",
      " 1.00000000e-30 1.00000000e-30 1.00000000e-30 1.00000000e-30\n",
      " 1.00000000e-30 1.00000000e-30 1.00000000e-30 1.00000000e-30\n",
      " 1.00000000e-30 1.00000000e-30 1.00000000e-30 1.00000000e-30\n",
      " 1.00000000e-30 1.00000000e-30 1.00000000e-30 1.00000000e-30\n",
      " 1.00000000e-30 1.00000000e-30 1.00000000e-30 1.00000000e-30\n",
      " 1.00000000e-30 1.00000000e-30 1.00000000e-30 1.00000000e-30\n",
      " 1.00000000e-30 1.00000000e-30 1.00000000e-30 1.00000000e-30\n",
      " 1.00000000e-30 1.00000000e-30 1.00000000e-30 1.00000000e-30\n",
      " 1.00000000e-30 1.00000000e-30 1.00000000e-30 1.00000000e-30\n",
      " 1.00000000e-30 1.00000000e-30 1.00000000e-30 1.00000000e-30]\n"
     ]
    }
   ],
   "source": [
    "print (nuFnu_sync)"
   ]
  },
  {
   "cell_type": "code",
   "execution_count": null,
   "metadata": {},
   "outputs": [],
   "source": []
  }
 ],
 "metadata": {
  "kernelspec": {
   "display_name": "Python 3",
   "language": "python",
   "name": "python3"
  },
  "language_info": {
   "codemirror_mode": {
    "name": "ipython",
    "version": 3
   },
   "file_extension": ".py",
   "mimetype": "text/x-python",
   "name": "python",
   "nbconvert_exporter": "python",
   "pygments_lexer": "ipython3",
   "version": "3.6.4"
  }
 },
 "nbformat": 4,
 "nbformat_minor": 2
}
